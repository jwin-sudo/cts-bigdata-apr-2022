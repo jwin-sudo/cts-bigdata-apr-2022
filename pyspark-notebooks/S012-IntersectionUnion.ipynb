{
 "cells": [
  {
   "cell_type": "code",
   "execution_count": 1,
   "id": "b16119f8-069b-4389-9952-9abb4fd75e51",
   "metadata": {},
   "outputs": [],
   "source": [
    "import findspark\n",
    "findspark.init()"
   ]
  },
  {
   "cell_type": "code",
   "execution_count": 2,
   "id": "a8d5d5cf-f35e-4de2-a6b7-c6ac217ab7c6",
   "metadata": {},
   "outputs": [
    {
     "name": "stderr",
     "output_type": "stream",
     "text": [
      "22/05/06 01:02:38 WARN Utils: Your hostname, ubuntu-virtual-machine resolves to a loopback address: 127.0.1.1; using 192.168.174.129 instead (on interface ens33)\n",
      "22/05/06 01:02:38 WARN Utils: Set SPARK_LOCAL_IP if you need to bind to another address\n",
      "22/05/06 01:02:39 WARN NativeCodeLoader: Unable to load native-hadoop library for your platform... using builtin-java classes where applicable\n",
      "Using Spark's default log4j profile: org/apache/spark/log4j-defaults.properties\n",
      "Setting default log level to \"WARN\".\n",
      "To adjust logging level use sc.setLogLevel(newLevel). For SparkR, use setLogLevel(newLevel).\n",
      "22/05/06 01:02:40 WARN Utils: Service 'SparkUI' could not bind on port 4040. Attempting port 4041.\n",
      "22/05/06 01:02:40 WARN Utils: Service 'SparkUI' could not bind on port 4041. Attempting port 4042.\n"
     ]
    }
   ],
   "source": [
    "from pyspark import SparkContext\n",
    "sc = SparkContext(\"local\", \"InterSectionUnion\")"
   ]
  },
  {
   "cell_type": "code",
   "execution_count": 3,
   "id": "9a1a2da7-70c1-4461-a738-a945fca6e39e",
   "metadata": {},
   "outputs": [],
   "source": [
    "# here general rdd apis\n",
    "\n",
    "dayTradeSymbols = sc.parallelize(['INFY', 'MINDTREE', 'TSLA'])\n",
    "swingTradeSymbols = sc.parallelize(['EMR', 'AAPL', 'TSLA', 'INFY'])"
   ]
  },
  {
   "cell_type": "code",
   "execution_count": 4,
   "id": "d2d55407-436f-4afa-899a-39e7e8f8c748",
   "metadata": {},
   "outputs": [
    {
     "name": "stderr",
     "output_type": "stream",
     "text": [
      "                                                                                \r"
     ]
    },
    {
     "data": {
      "text/plain": [
       "['INFY', 'TSLA']"
      ]
     },
     "execution_count": 4,
     "metadata": {},
     "output_type": "execute_result"
    }
   ],
   "source": [
    "# return the elements/stock that are present in both\n",
    "intersectionRdd = dayTradeSymbols.intersection(swingTradeSymbols)\n",
    "intersectionRdd.collect()"
   ]
  },
  {
   "cell_type": "code",
   "execution_count": 5,
   "id": "61a1160e-cda5-4e5a-8b40-3b8767556717",
   "metadata": {},
   "outputs": [
    {
     "data": {
      "text/plain": [
       "['INFY', 'MINDTREE', 'TSLA', 'EMR', 'AAPL', 'TSLA', 'INFY']"
      ]
     },
     "execution_count": 5,
     "metadata": {},
     "output_type": "execute_result"
    }
   ],
   "source": [
    "# union of two RDD, add items from both the RDD, duplicates possible\n",
    "unionRdd = dayTradeSymbols.union(swingTradeSymbols)\n",
    "unionRdd.collect()"
   ]
  },
  {
   "cell_type": "code",
   "execution_count": 6,
   "id": "ffabe87e-966b-4f9d-b11c-f45c9a125287",
   "metadata": {},
   "outputs": [
    {
     "data": {
      "text/plain": [
       "['INFY', 'EMR', 'MINDTREE', 'TSLA', 'AAPL']"
      ]
     },
     "execution_count": 6,
     "metadata": {},
     "output_type": "execute_result"
    }
   ],
   "source": [
    "# distrinct , remove duplicates \n",
    "# unionRdd has duplicates TSLA, INFY coming twice\n",
    "distinctRdd = unionRdd.distinct()\n",
    "distinctRdd.collect()"
   ]
  },
  {
   "cell_type": "code",
   "execution_count": null,
   "id": "cf2ddd30-c7d6-42a0-a4de-28784ce23d25",
   "metadata": {},
   "outputs": [],
   "source": []
  }
 ],
 "metadata": {
  "kernelspec": {
   "display_name": "Python 3 (ipykernel)",
   "language": "python",
   "name": "python3"
  },
  "language_info": {
   "codemirror_mode": {
    "name": "ipython",
    "version": 3
   },
   "file_extension": ".py",
   "mimetype": "text/x-python",
   "name": "python",
   "nbconvert_exporter": "python",
   "pygments_lexer": "ipython3",
   "version": "3.8.12"
  }
 },
 "nbformat": 4,
 "nbformat_minor": 5
}
