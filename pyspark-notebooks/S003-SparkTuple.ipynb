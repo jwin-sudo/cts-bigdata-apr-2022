{
 "cells": [
  {
   "cell_type": "code",
   "execution_count": 1,
   "id": "b2a18c4d-ed46-4b12-b4ed-9e0a5bcc0261",
   "metadata": {},
   "outputs": [],
   "source": [
    "import findspark\n",
    "findspark.init()"
   ]
  },
  {
   "cell_type": "code",
   "execution_count": 2,
   "id": "0f51698d-45e8-4392-a383-3d48fa235e70",
   "metadata": {},
   "outputs": [
    {
     "name": "stderr",
     "output_type": "stream",
     "text": [
      "22/05/05 00:34:38 WARN Utils: Your hostname, ubuntu-virtual-machine resolves to a loopback address: 127.0.1.1; using 192.168.174.129 instead (on interface ens33)\n",
      "22/05/05 00:34:38 WARN Utils: Set SPARK_LOCAL_IP if you need to bind to another address\n",
      "22/05/05 00:34:39 WARN NativeCodeLoader: Unable to load native-hadoop library for your platform... using builtin-java classes where applicable\n",
      "Using Spark's default log4j profile: org/apache/spark/log4j-defaults.properties\n",
      "Setting default log level to \"WARN\".\n",
      "To adjust logging level use sc.setLogLevel(newLevel). For SparkR, use setLogLevel(newLevel).\n",
      "22/05/05 00:34:40 WARN Utils: Service 'SparkUI' could not bind on port 4040. Attempting port 4041.\n",
      "22/05/05 00:34:40 WARN Utils: Service 'SparkUI' could not bind on port 4041. Attempting port 4042.\n"
     ]
    }
   ],
   "source": [
    "from pyspark import SparkContext\n",
    "sc = SparkContext(\"local\", \"SparkRddTuple\")"
   ]
  },
  {
   "cell_type": "code",
   "execution_count": 4,
   "id": "228eade4-4d9a-4674-8995-531e695e742b",
   "metadata": {},
   "outputs": [
    {
     "name": "stdout",
     "output_type": "stream",
     "text": [
      "ParallelCollectionRDD[1] at readRDDFromFile at PythonRDD.scala:274\n"
     ]
    }
   ],
   "source": [
    "stocks = [ # LIST\n",
    "    # Tuple (symbol, open, low, high, close)\n",
    "    ('MSFT', 50, 48, 51, 50.5),\n",
    "     ('FB', 200, 198, 204, 202.3),\n",
    "    ('AMD', 90, 88, 92, 91),\n",
    "    ('TSLA', 100, 90, 90, 100)\n",
    "]\n",
    "rdd = sc.parallelize(stocks)\n",
    "print(rdd)"
   ]
  },
  {
   "cell_type": "code",
   "execution_count": 5,
   "id": "283c0451-2956-4aa4-9530-44e5635a5e80",
   "metadata": {},
   "outputs": [
    {
     "name": "stderr",
     "output_type": "stream",
     "text": [
      "                                                                                \r"
     ]
    },
    {
     "data": {
      "text/plain": [
       "[('MSFT', 50, 48, 51, 50.5),\n",
       " ('AMD', 90, 88, 92, 91),\n",
       " ('TSLA', 100, 90, 90, 100)]"
      ]
     },
     "execution_count": 5,
     "metadata": {},
     "output_type": "execute_result"
    }
   ],
   "source": [
    "# Pick stocks where close price is less than or equal to 100 , stock[4] is close price\n",
    "# stock is tuple\n",
    "rdd2 = rdd.filter (lambda stock: stock[4] <= 100)\n",
    "rdd2.collect()"
   ]
  },
  {
   "cell_type": "code",
   "execution_count": 6,
   "id": "dd8e9ad3-6316-423d-9606-4f8b7b7ff285",
   "metadata": {},
   "outputs": [
    {
     "data": {
      "text/plain": [
       "[0.5, 2.3000000000000114, 1, 0]"
      ]
     },
     "execution_count": 6,
     "metadata": {},
     "output_type": "execute_result"
    }
   ],
   "source": [
    "# find gain for the data\n",
    "# take close price - open price\n",
    "rdd3 = rdd.map (lambda stock: stock[4] - stock[1])\n",
    "rdd3.collect()"
   ]
  },
  {
   "cell_type": "code",
   "execution_count": 7,
   "id": "a8ea4b77-0e13-402f-94f7-10c698d9301e",
   "metadata": {},
   "outputs": [
    {
     "data": {
      "text/plain": [
       "[('MSFT', 50, 48, 51, 50.5, 0.5),\n",
       " ('FB', 200, 198, 204, 202.3, 2.3000000000000114),\n",
       " ('AMD', 90, 88, 92, 91, 1),\n",
       " ('TSLA', 100, 90, 90, 100, 0)]"
      ]
     },
     "execution_count": 7,
     "metadata": {},
     "output_type": "execute_result"
    }
   ],
   "source": [
    "# find gain for the data, but include all the results, \n",
    "# also include gain as one element\n",
    "# tuple doesn't support mutation\n",
    "# we have to create new tuple and include diff\n",
    "rdd4 = rdd.map (lambda stock: (stock[0], stock[1], stock[2], \n",
    "                               stock[3], stock[4], \n",
    "                               stock[4] - stock[1] # diff\n",
    "                              ))\n",
    "                \n",
    "rdd4.collect()"
   ]
  },
  {
   "cell_type": "code",
   "execution_count": 8,
   "id": "ef6ca760-d75e-43de-80d2-afddd2df50f9",
   "metadata": {},
   "outputs": [
    {
     "data": {
      "text/plain": [
       "(1, 2, 3, 'a', 'b', 'c')"
      ]
     },
     "execution_count": 8,
     "metadata": {},
     "output_type": "execute_result"
    }
   ],
   "source": [
    "# add two tuples possible, it will create new tuple\n",
    "(1,2,3) + ('a', 'b', 'c')"
   ]
  },
  {
   "cell_type": "code",
   "execution_count": 9,
   "id": "43c91779-7edb-4130-9937-dfab4ecd5150",
   "metadata": {},
   "outputs": [
    {
     "data": {
      "text/plain": [
       "[('MSFT', 50, 48, 51, 50.5, 0.5),\n",
       " ('FB', 200, 198, 204, 202.3, 2.3000000000000114),\n",
       " ('AMD', 90, 88, 92, 91, 1),\n",
       " ('TSLA', 100, 90, 90, 100, 0)]"
      ]
     },
     "execution_count": 9,
     "metadata": {},
     "output_type": "execute_result"
    },
    {
     "name": "stderr",
     "output_type": "stream",
     "text": [
      "----------------------------------------\n",
      "Exception happened during processing of request from ('127.0.0.1', 38208)\n",
      "Traceback (most recent call last):\n",
      "  File \"/home/ubuntu/miniconda3/lib/python3.8/socketserver.py\", line 316, in _handle_request_noblock\n",
      "    self.process_request(request, client_address)\n",
      "  File \"/home/ubuntu/miniconda3/lib/python3.8/socketserver.py\", line 347, in process_request\n",
      "    self.finish_request(request, client_address)\n",
      "  File \"/home/ubuntu/miniconda3/lib/python3.8/socketserver.py\", line 360, in finish_request\n",
      "    self.RequestHandlerClass(request, client_address, self)\n",
      "  File \"/home/ubuntu/miniconda3/lib/python3.8/socketserver.py\", line 747, in __init__\n",
      "    self.handle()\n",
      "  File \"/opt/spark-3.1.3-bin-hadoop2.7/python/pyspark/accumulators.py\", line 262, in handle\n",
      "    poll(accum_updates)\n",
      "  File \"/opt/spark-3.1.3-bin-hadoop2.7/python/pyspark/accumulators.py\", line 235, in poll\n",
      "    if func():\n",
      "  File \"/opt/spark-3.1.3-bin-hadoop2.7/python/pyspark/accumulators.py\", line 239, in accum_updates\n",
      "    num_updates = read_int(self.rfile)\n",
      "  File \"/opt/spark-3.1.3-bin-hadoop2.7/python/pyspark/serializers.py\", line 564, in read_int\n",
      "    raise EOFError\n",
      "EOFError\n",
      "----------------------------------------\n"
     ]
    }
   ],
   "source": [
    "# find gain for the data, but include all the results, \n",
    "# also include gain as one element\n",
    "# tuple doesn't support mutation\n",
    "# we have to create new tuple and include diff\n",
    "# refactor\n",
    "# COMMA , is MUST if we make tuple with 1 element in Python\n",
    "rdd4 = rdd.map (lambda stock: stock + (stock[4] - stock[1],))\n",
    "                \n",
    "rdd4.collect()"
   ]
  },
  {
   "cell_type": "code",
   "execution_count": null,
   "id": "1bb35932-d0df-461f-8f47-5f07436c419a",
   "metadata": {},
   "outputs": [],
   "source": []
  }
 ],
 "metadata": {
  "kernelspec": {
   "display_name": "Python 3 (ipykernel)",
   "language": "python",
   "name": "python3"
  },
  "language_info": {
   "codemirror_mode": {
    "name": "ipython",
    "version": 3
   },
   "file_extension": ".py",
   "mimetype": "text/x-python",
   "name": "python",
   "nbconvert_exporter": "python",
   "pygments_lexer": "ipython3",
   "version": "3.8.12"
  }
 },
 "nbformat": 4,
 "nbformat_minor": 5
}
