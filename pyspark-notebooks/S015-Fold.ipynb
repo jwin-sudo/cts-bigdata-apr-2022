{
 "cells": [
  {
   "cell_type": "code",
   "execution_count": 1,
   "id": "031af616-25d0-4b6d-9a39-1f5e89c464d7",
   "metadata": {},
   "outputs": [],
   "source": [
    "import findspark\n",
    "findspark.init()"
   ]
  },
  {
   "cell_type": "code",
   "execution_count": 2,
   "id": "aeda97f6-27b7-4211-b038-b9b7e51a0eaa",
   "metadata": {},
   "outputs": [
    {
     "name": "stderr",
     "output_type": "stream",
     "text": [
      "22/05/06 21:39:19 WARN Utils: Your hostname, ubuntu-virtual-machine resolves to a loopback address: 127.0.1.1; using 192.168.174.129 instead (on interface ens33)\n",
      "22/05/06 21:39:19 WARN Utils: Set SPARK_LOCAL_IP if you need to bind to another address\n",
      "22/05/06 21:39:21 WARN NativeCodeLoader: Unable to load native-hadoop library for your platform... using builtin-java classes where applicable\n",
      "Using Spark's default log4j profile: org/apache/spark/log4j-defaults.properties\n",
      "Setting default log level to \"WARN\".\n",
      "To adjust logging level use sc.setLogLevel(newLevel). For SparkR, use setLogLevel(newLevel).\n",
      "22/05/06 21:39:25 WARN Utils: Service 'SparkUI' could not bind on port 4040. Attempting port 4041.\n",
      "22/05/06 21:39:25 WARN Utils: Service 'SparkUI' could not bind on port 4041. Attempting port 4042.\n",
      "22/05/06 21:39:25 WARN Utils: Service 'SparkUI' could not bind on port 4042. Attempting port 4043.\n",
      "22/05/06 21:39:25 WARN Utils: Service 'SparkUI' could not bind on port 4043. Attempting port 4044.\n",
      "22/05/06 21:39:25 WARN Utils: Service 'SparkUI' could not bind on port 4044. Attempting port 4045.\n",
      "22/05/06 21:39:25 WARN Utils: Service 'SparkUI' could not bind on port 4045. Attempting port 4046.\n",
      "22/05/06 21:39:25 WARN Utils: Service 'SparkUI' could not bind on port 4046. Attempting port 4047.\n"
     ]
    }
   ],
   "source": [
    "from pyspark import SparkContext\n",
    "sc = SparkContext(\"local\", \"Fold\")"
   ]
  },
  {
   "cell_type": "code",
   "execution_count": 3,
   "id": "5bad4afb-a0ad-4ea6-aa11-92916ffe54bf",
   "metadata": {},
   "outputs": [],
   "source": [
    "# fold is useful for aggregate\n",
    "# fold has initial value to start with where as reduce will  take first value as reduce\n",
    "\n",
    "def add(acc, value):\n",
    "    result = acc + value\n",
    "    print(\"acc\", acc, \"value\", value, \"output\", result)\n",
    "    return result"
   ]
  },
  {
   "cell_type": "code",
   "execution_count": 4,
   "id": "c457302c-69ab-409a-a652-4f1c0a033eb0",
   "metadata": {},
   "outputs": [],
   "source": [
    "rdd = sc.parallelize([10,20,30,40,50])\n"
   ]
  },
  {
   "cell_type": "code",
   "execution_count": 5,
   "id": "eaa9f563-b5dc-4f76-b31d-88f94228a7ef",
   "metadata": {},
   "outputs": [
    {
     "name": "stderr",
     "output_type": "stream",
     "text": [
      "acc 0 value 10 output 10                                            (0 + 1) / 1]\n",
      "acc 10 value 20 output 30\n",
      "acc 30 value 30 output 60\n",
      "acc 60 value 40 output 100\n",
      "acc 100 value 50 output 150\n"
     ]
    },
    {
     "name": "stdout",
     "output_type": "stream",
     "text": [
      "acc 0 value 150 output 150\n"
     ]
    },
    {
     "name": "stderr",
     "output_type": "stream",
     "text": [
      "                                                                                \r"
     ]
    },
    {
     "data": {
      "text/plain": [
       "150"
      ]
     },
     "execution_count": 5,
     "metadata": {},
     "output_type": "execute_result"
    }
   ],
   "source": [
    "# fold with aggregate with start value 0\n",
    "# fold is action method\n",
    "# fold works with each partition first, calculate add function on each partition\n",
    "# + it will apply result of all paritions into again another folder\n",
    "# return value of add is passed as input with next number in seq\n",
    "\n",
    "# after processing data from partition 0, it got result 150\n",
    "# then it will apply add function across partition result  acc 0 value 150\n",
    "rdd.fold (0, add) # output shall be 150 = 10 + 20 + 30 + 40 + 50"
   ]
  },
  {
   "cell_type": "code",
   "execution_count": 6,
   "id": "2f1b176a-84fc-4f2a-bd13-da37150544b1",
   "metadata": {},
   "outputs": [
    {
     "data": {
      "text/plain": [
       "[[10, 20], [30, 40, 50]]"
      ]
     },
     "execution_count": 6,
     "metadata": {},
     "output_type": "execute_result"
    }
   ],
   "source": [
    "rdd = sc.parallelize([10,20,30,40,50], 2)\n",
    "rdd.glom().collect()"
   ]
  },
  {
   "cell_type": "code",
   "execution_count": 7,
   "id": "f0c39aea-998e-4db5-88d5-f714c509518f",
   "metadata": {},
   "outputs": [
    {
     "name": "stdout",
     "output_type": "stream",
     "text": [
      "acc 0 value 30 output 30\n",
      "acc 30 value 120 output 150\n"
     ]
    },
    {
     "name": "stderr",
     "output_type": "stream",
     "text": [
      "acc 0 value 10 output 10\n",
      "acc 10 value 20 output 30\n",
      "acc 0 value 30 output 30\n",
      "acc 30 value 40 output 70\n",
      "acc 70 value 50 output 120\n"
     ]
    },
    {
     "data": {
      "text/plain": [
       "150"
      ]
     },
     "execution_count": 7,
     "metadata": {},
     "output_type": "execute_result"
    }
   ],
   "source": [
    "# part 0: add is applied on part 0 = 10 + 20 = 30\n",
    "# part 1: add is applied on part 1 = 30 + 40 + 50 = 120\n",
    "# now output data set include (30, 120) which is used as input again with add func\n",
    "# with start value 0\n",
    "# final result: add is applied on the result of part 0 , part 1 = 30 + 120 = 150\n",
    "rdd.fold (0, add)"
   ]
  },
  {
   "cell_type": "code",
   "execution_count": 8,
   "id": "c8dcf982-80e9-4f5b-85ba-86ce6fc4476e",
   "metadata": {},
   "outputs": [
    {
     "name": "stderr",
     "output_type": "stream",
     "text": [
      "acc 0 value 200 output 200\n",
      "acc 0 value 50 output 50\n",
      "acc 0 value 20 output 20\n",
      "acc 200 value 100 output 300\n",
      "acc 50 value 25 output 75\n",
      "                                                                                \r"
     ]
    },
    {
     "data": {
      "text/plain": [
       "[('INFY', 300), ('TSLA', 75), ('EMR', 20)]"
      ]
     },
     "execution_count": 8,
     "metadata": {},
     "output_type": "execute_result"
    }
   ],
   "source": [
    "# FoldByKey\n",
    "# similar to fold, where as fold is applied on all the values in RDD in partition\n",
    "# foldByKey is used against (Key,Value) paired rdd, key/value rdd\n",
    "# fold work based on key\n",
    "\n",
    "orders = [\n",
    "    # symbol, qty\n",
    "    ('INFY', 200),\n",
    "    ('TSLA', 50),\n",
    "    ('EMR', 20),\n",
    "    ('INFY', 100),\n",
    "    ('TSLA', 25)\n",
    "]\n",
    "\n",
    "def add(acc, value):\n",
    "    output = acc + value\n",
    "    print(\"acc\", acc, \"value\", value, \"output\", output)\n",
    "    return output\n",
    "\n",
    "orderRdd = sc.parallelize(orders)\n",
    "# fold by Key, return rdd\n",
    "# When key appear first, it starts with 0, and value\n",
    "# second appearance key, include previous output as input\n",
    "orderRdd.foldByKey(0, add).collect()"
   ]
  },
  {
   "cell_type": "code",
   "execution_count": 11,
   "id": "daf8a16c-a81b-4a33-ad67-acba47ce4bca",
   "metadata": {},
   "outputs": [
    {
     "name": "stdout",
     "output_type": "stream",
     "text": [
      "result 150\n"
     ]
    }
   ],
   "source": [
    "result = rdd.reduce(lambda acc, val: val + acc)\n",
    "\n",
    "print('result' , result)"
   ]
  },
  {
   "cell_type": "code",
   "execution_count": 13,
   "id": "a43022ad-309d-474c-8ea6-010e2fd2e891",
   "metadata": {},
   "outputs": [
    {
     "name": "stdout",
     "output_type": "stream",
     "text": [
      "result 50\n"
     ]
    }
   ],
   "source": [
    "result = rdd.reduce(lambda acc, val: max(acc, val))\n",
    "print('result', result)"
   ]
  },
  {
   "cell_type": "code",
   "execution_count": null,
   "id": "57c04b35-7e6a-4683-b883-2778c9ae639b",
   "metadata": {},
   "outputs": [],
   "source": []
  }
 ],
 "metadata": {
  "kernelspec": {
   "display_name": "Python 3 (ipykernel)",
   "language": "python",
   "name": "python3"
  },
  "language_info": {
   "codemirror_mode": {
    "name": "ipython",
    "version": 3
   },
   "file_extension": ".py",
   "mimetype": "text/x-python",
   "name": "python",
   "nbconvert_exporter": "python",
   "pygments_lexer": "ipython3",
   "version": "3.8.12"
  }
 },
 "nbformat": 4,
 "nbformat_minor": 5
}
