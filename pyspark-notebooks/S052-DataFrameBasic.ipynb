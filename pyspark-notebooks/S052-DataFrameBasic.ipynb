{
 "cells": [
  {
   "cell_type": "code",
   "execution_count": 3,
   "id": "bb5a42c5-f198-4877-8ccf-f01b24d30bef",
   "metadata": {},
   "outputs": [],
   "source": [
    "import findspark\n",
    "findspark.init()"
   ]
  },
  {
   "cell_type": "code",
   "execution_count": 5,
   "id": "2e2ab1e2-47d3-4902-8562-11ab110c3102",
   "metadata": {},
   "outputs": [
    {
     "name": "stderr",
     "output_type": "stream",
     "text": [
      "22/05/09 20:13:27 WARN Utils: Your hostname, ubuntu-virtual-machine resolves to a loopback address: 127.0.1.1; using 192.168.174.129 instead (on interface ens33)\n",
      "22/05/09 20:13:27 WARN Utils: Set SPARK_LOCAL_IP if you need to bind to another address\n",
      "22/05/09 20:13:28 WARN NativeCodeLoader: Unable to load native-hadoop library for your platform... using builtin-java classes where applicable\n",
      "Using Spark's default log4j profile: org/apache/spark/log4j-defaults.properties\n",
      "Setting default log level to \"WARN\".\n",
      "To adjust logging level use sc.setLogLevel(newLevel). For SparkR, use setLogLevel(newLevel).\n",
      "22/05/09 20:13:31 WARN Utils: Service 'SparkUI' could not bind on port 4040. Attempting port 4041.\n",
      "22/05/09 20:13:31 WARN Utils: Service 'SparkUI' could not bind on port 4041. Attempting port 4042.\n",
      "22/05/09 20:13:31 WARN Utils: Service 'SparkUI' could not bind on port 4042. Attempting port 4043.\n",
      "22/05/09 20:13:31 WARN Utils: Service 'SparkUI' could not bind on port 4043. Attempting port 4044.\n",
      "22/05/09 20:13:31 WARN Utils: Service 'SparkUI' could not bind on port 4044. Attempting port 4045.\n",
      "22/05/09 20:13:31 WARN Utils: Service 'SparkUI' could not bind on port 4045. Attempting port 4046.\n",
      "22/05/09 20:13:31 WARN Utils: Service 'SparkUI' could not bind on port 4046. Attempting port 4047.\n",
      "22/05/09 20:13:31 WARN Utils: Service 'SparkUI' could not bind on port 4047. Attempting port 4048.\n",
      "22/05/09 20:13:31 WARN Utils: Service 'SparkUI' could not bind on port 4048. Attempting port 4049.\n",
      "22/05/09 20:13:31 WARN Utils: Service 'SparkUI' could not bind on port 4049. Attempting port 4050.\n",
      "22/05/09 20:13:31 WARN Utils: Service 'SparkUI' could not bind on port 4050. Attempting port 4051.\n",
      "22/05/09 20:13:31 WARN Utils: Service 'SparkUI' could not bind on port 4051. Attempting port 4052.\n"
     ]
    }
   ],
   "source": [
    "from pyspark.conf import SparkConf\n",
    "config = SparkConf()\n",
    "# config.set(\"property\", \"value\")\n",
    "config.setMaster(\"local\").setAppName(\"DataFrameBasic\")\n",
    "\n",
    "from pyspark.sql import SparkSession\n",
    "# spark Session, entry point for Spark SQL, DataFrame\n",
    "spark = SparkSession.builder\\\n",
    "                    .config(conf=config)\\\n",
    "                    .getOrCreate()\n",
    "\n",
    "sc = spark.sparkContext\n"
   ]
  },
  {
   "cell_type": "code",
   "execution_count": 6,
   "id": "1160bb13-e751-4f03-9ee3-d95dbe1e3da7",
   "metadata": {},
   "outputs": [
    {
     "name": "stdout",
     "output_type": "stream",
     "text": [
      "root\n",
      " |-- product_id: long (nullable = true)\n",
      " |-- product_name: string (nullable = true)\n",
      " |-- price: double (nullable = true)\n",
      " |-- brand_id: long (nullable = true)\n",
      " |-- offer: long (nullable = true)\n",
      "\n"
     ]
    },
    {
     "name": "stderr",
     "output_type": "stream",
     "text": [
      "[Stage 0:>                                                          (0 + 1) / 1]\r"
     ]
    },
    {
     "name": "stdout",
     "output_type": "stream",
     "text": [
      "+----------+------------+------+--------+-----+\n",
      "|product_id|product_name| price|brand_id|offer|\n",
      "+----------+------------+------+--------+-----+\n",
      "|         1|      iPhone|1000.0|     100|    0|\n",
      "|         2|      Galaxy| 545.5|     101| null|\n",
      "|         3|       Pixel|645.99|     101| null|\n",
      "+----------+------------+------+--------+-----+\n",
      "\n"
     ]
    },
    {
     "name": "stderr",
     "output_type": "stream",
     "text": [
      "                                                                                \r"
     ]
    }
   ],
   "source": [
    "products = [\n",
    "    # (product_id, product_name, price, brand_id, offer)\n",
    "    (1, 'iPhone', 1000.0, 100, 0),\n",
    "    (2, 'Galaxy', 545.50, 101, None),\n",
    "    (3, 'Pixel', 645.99, 101, None)\n",
    "]\n",
    "\n",
    "# no data type mentioned, however we will let spark to infer schema by reading data\n",
    "schema = ['product_id', 'product_name', 'price', 'brand_id', 'offer']\n",
    "\n",
    "productDf = spark.createDataFrame(data=products, schema=schema)\n",
    "\n",
    "# every data frame has schema, we can print it\n",
    "productDf.printSchema()\n",
    "# ASCII FORMAT\n",
    "productDf.show() # 20 records"
   ]
  },
  {
   "cell_type": "code",
   "execution_count": 7,
   "id": "0f60172c-feaf-4619-bf79-7dd86bd26206",
   "metadata": {},
   "outputs": [
    {
     "data": {
      "text/plain": [
       "[Row(product_id=1, product_name='iPhone', price=1000.0, brand_id=100, offer=0),\n",
       " Row(product_id=2, product_name='Galaxy', price=545.5, brand_id=101, offer=None),\n",
       " Row(product_id=3, product_name='Pixel', price=645.99, brand_id=101, offer=None)]"
      ]
     },
     "execution_count": 7,
     "metadata": {},
     "output_type": "execute_result"
    }
   ],
   "source": [
    "# every data frame has rdd internally\n",
    "# data is nothing but api applied on rdd\n",
    "# DF is RDD of Row, each has has column name, value\n",
    "productDf.rdd.collect()"
   ]
  },
  {
   "cell_type": "code",
   "execution_count": 8,
   "id": "5fca83cd-4fad-45fb-b53d-680120077b31",
   "metadata": {},
   "outputs": [
    {
     "data": {
      "text/plain": [
       "1"
      ]
     },
     "execution_count": 8,
     "metadata": {},
     "output_type": "execute_result"
    }
   ],
   "source": [
    "# dataframe rdd partitions\n",
    "productDf.rdd.getNumPartitions()"
   ]
  },
  {
   "cell_type": "code",
   "execution_count": 9,
   "id": "3516bd58-aed7-4d25-a11c-ffdc1e53e73b",
   "metadata": {},
   "outputs": [],
   "source": [
    "# data frame has transformation and actions\n",
    "# transformations shall return dataframe which immutable\n",
    "# transformation are lazy\n",
    "# data frame filter\n",
    "# return a new data dataframe, it won't execute the data, no job, no action\n",
    "df = productDf.filter (productDf[\"price\"] <= 750)"
   ]
  },
  {
   "cell_type": "code",
   "execution_count": 10,
   "id": "8d628db8-f54b-42bb-ac9f-b8e94b2a87a6",
   "metadata": {},
   "outputs": [
    {
     "name": "stdout",
     "output_type": "stream",
     "text": [
      "root\n",
      " |-- product_id: long (nullable = true)\n",
      " |-- product_name: string (nullable = true)\n",
      " |-- price: double (nullable = true)\n",
      " |-- brand_id: long (nullable = true)\n",
      " |-- offer: long (nullable = true)\n",
      "\n"
     ]
    }
   ],
   "source": [
    "df.printSchema()"
   ]
  },
  {
   "cell_type": "code",
   "execution_count": 11,
   "id": "dbcfef43-d803-41e8-9851-8a4f0de4b734",
   "metadata": {},
   "outputs": [
    {
     "name": "stdout",
     "output_type": "stream",
     "text": [
      "+----------+------------+------+--------+-----+\n",
      "|product_id|product_name| price|brand_id|offer|\n",
      "+----------+------------+------+--------+-----+\n",
      "|         2|      Galaxy| 545.5|     101| null|\n",
      "|         3|       Pixel|645.99|     101| null|\n",
      "+----------+------------+------+--------+-----+\n",
      "\n"
     ]
    }
   ],
   "source": [
    "df.show()"
   ]
  },
  {
   "cell_type": "code",
   "execution_count": 12,
   "id": "e8c7b369-83aa-4ee7-a7b9-4bb18827fc53",
   "metadata": {},
   "outputs": [
    {
     "name": "stdout",
     "output_type": "stream",
     "text": [
      "root\n",
      " |-- product_name: string (nullable = true)\n",
      " |-- price: double (nullable = true)\n",
      "\n",
      "+------------+------+\n",
      "|product_name| price|\n",
      "+------------+------+\n",
      "|      iPhone|1000.0|\n",
      "|      Galaxy| 545.5|\n",
      "|       Pixel|645.99|\n",
      "+------------+------+\n",
      "\n"
     ]
    }
   ],
   "source": [
    "# select api, projection \n",
    "df = productDf.select(\"product_name\", \"price\")\n",
    "df.printSchema()\n",
    "df.show()"
   ]
  },
  {
   "cell_type": "code",
   "execution_count": 13,
   "id": "9b0e35f4-658e-4915-9ff5-082ee1a369f0",
   "metadata": {},
   "outputs": [
    {
     "name": "stdout",
     "output_type": "stream",
     "text": [
      "root\n",
      " |-- product_name: string (nullable = true)\n",
      " |-- upper(product_name): string (nullable = true)\n",
      " |-- price: double (nullable = true)\n",
      " |-- (price * 0.9): double (nullable = true)\n",
      "\n",
      "+------------+-------------------+------+-----------------+\n",
      "|product_name|upper(product_name)| price|    (price * 0.9)|\n",
      "+------------+-------------------+------+-----------------+\n",
      "|      iPhone|             IPHONE|1000.0|            900.0|\n",
      "|      Galaxy|             GALAXY| 545.5|           490.95|\n",
      "|       Pixel|              PIXEL|645.99|581.3910000000001|\n",
      "+------------+-------------------+------+-----------------+\n",
      "\n"
     ]
    }
   ],
   "source": [
    "# selectExpr dynamic expression, CAST, \n",
    "# SELECT upper(product_name), price * 0.9 \n",
    "df = productDf.selectExpr(\"product_name\", \"upper(product_name)\", \n",
    "                          \"price\", \"price  * .9\")\n",
    "\n",
    "df.printSchema()\n",
    "df.show()"
   ]
  },
  {
   "cell_type": "code",
   "execution_count": 14,
   "id": "b6fa0f58-8958-4de1-9f75-55f61acd3e83",
   "metadata": {},
   "outputs": [
    {
     "name": "stdout",
     "output_type": "stream",
     "text": [
      "root\n",
      " |-- product_name: string (nullable = true)\n",
      " |-- title: string (nullable = true)\n",
      " |-- price: double (nullable = true)\n",
      " |-- grand_total: double (nullable = true)\n",
      "\n",
      "+------------+------+------+-----------------+\n",
      "|product_name| title| price|      grand_total|\n",
      "+------------+------+------+-----------------+\n",
      "|      iPhone|IPHONE|1000.0|            900.0|\n",
      "|      Galaxy|GALAXY| 545.5|           490.95|\n",
      "|       Pixel| PIXEL|645.99|581.3910000000001|\n",
      "+------------+------+------+-----------------+\n",
      "\n"
     ]
    }
   ],
   "source": [
    "# selectExpr dynamic expression, CAST, \n",
    "# SELECT upper(product_name), price * 0.9 \n",
    "# mixing python, sql\n",
    "df = productDf.selectExpr(\"product_name\", \"upper(product_name) as title\", \n",
    "                          \"price\", \"price  * .9 as grand_total\")\n",
    "\n",
    "df.printSchema()\n",
    "df.show()"
   ]
  },
  {
   "cell_type": "code",
   "execution_count": 15,
   "id": "75ed7926-97f3-48e2-82ea-374696680645",
   "metadata": {},
   "outputs": [
    {
     "name": "stdout",
     "output_type": "stream",
     "text": [
      "root\n",
      " |-- product_id: long (nullable = true)\n",
      " |-- product_name: string (nullable = true)\n",
      " |-- price: double (nullable = true)\n",
      " |-- brand_id: long (nullable = true)\n",
      " |-- offer: long (nullable = true)\n",
      " |-- offer_price: double (nullable = true)\n",
      "\n",
      "+----------+------------+------+--------+-----+-----------------+\n",
      "|product_id|product_name| price|brand_id|offer|      offer_price|\n",
      "+----------+------------+------+--------+-----+-----------------+\n",
      "|         1|      iPhone|1000.0|     100|    0|            900.0|\n",
      "|         2|      Galaxy| 545.5|     101| null|           490.95|\n",
      "|         3|       Pixel|645.99|     101| null|581.3910000000001|\n",
      "+----------+------------+------+--------+-----+-----------------+\n",
      "\n"
     ]
    }
   ],
   "source": [
    "# derived a new column called offer_price, adding new column from existing columns\n",
    "df = productDf.withColumn(\"offer_price\", productDf.price * 0.9)\n",
    "df.printSchema()\n",
    "df.show()"
   ]
  },
  {
   "cell_type": "code",
   "execution_count": 16,
   "id": "fe9dfee1-6fc9-4a79-9872-5dd7ef62cf24",
   "metadata": {},
   "outputs": [
    {
     "name": "stdout",
     "output_type": "stream",
     "text": [
      "root\n",
      " |-- product_id: long (nullable = true)\n",
      " |-- product_name: string (nullable = true)\n",
      " |-- total: double (nullable = true)\n",
      " |-- brand_id: long (nullable = true)\n",
      " |-- offer: long (nullable = true)\n",
      "\n",
      "+----------+------------+------+--------+-----+\n",
      "|product_id|product_name| total|brand_id|offer|\n",
      "+----------+------------+------+--------+-----+\n",
      "|         1|      iPhone|1000.0|     100|    0|\n",
      "|         2|      Galaxy| 545.5|     101| null|\n",
      "|         3|       Pixel|645.99|     101| null|\n",
      "+----------+------------+------+--------+-----+\n",
      "\n"
     ]
    }
   ],
   "source": [
    "# rename column\n",
    "df = productDf.withColumnRenamed(\"price\", \"total\")\n",
    "df.printSchema()\n",
    "df.show()"
   ]
  },
  {
   "cell_type": "code",
   "execution_count": 17,
   "id": "4e781a84-c1fc-4f38-ba7a-334fc6601775",
   "metadata": {},
   "outputs": [
    {
     "name": "stdout",
     "output_type": "stream",
     "text": [
      "root\n",
      " |-- product_id: long (nullable = true)\n",
      " |-- product_name: string (nullable = true)\n",
      " |-- price: double (nullable = true)\n",
      " |-- offer: long (nullable = true)\n",
      "\n",
      "+----------+------------+------+-----+\n",
      "|product_id|product_name| price|offer|\n",
      "+----------+------------+------+-----+\n",
      "|         1|      iPhone|1000.0|    0|\n",
      "|         2|      Galaxy| 545.5| null|\n",
      "|         3|       Pixel|645.99| null|\n",
      "+----------+------------+------+-----+\n",
      "\n"
     ]
    }
   ],
   "source": [
    "# drop Columns\n",
    "df = productDf.drop(\"brand_id\")\n",
    "df.printSchema()\n",
    "df.show()"
   ]
  },
  {
   "cell_type": "code",
   "execution_count": 18,
   "id": "0659fe76-e3c3-4248-ac6d-dd81ee6949f0",
   "metadata": {},
   "outputs": [
    {
     "name": "stdout",
     "output_type": "stream",
     "text": [
      "root\n",
      " |-- product_id: long (nullable = true)\n",
      " |-- product_name: string (nullable = true)\n",
      " |-- price: double (nullable = true)\n",
      " |-- brand_id: long (nullable = true)\n",
      " |-- offer: long (nullable = true)\n",
      "\n",
      "+----------+------------+-----+--------+-----+\n",
      "|product_id|product_name|price|brand_id|offer|\n",
      "+----------+------------+-----+--------+-----+\n",
      "|         2|      Galaxy|545.5|     101| null|\n",
      "+----------+------------+-----+--------+-----+\n",
      "\n"
     ]
    }
   ],
   "source": [
    "# filter, where conditions\n",
    "# filter and where are same, alias\n",
    "# python expression\n",
    "df = productDf.filter( (productDf.price >= 500) & (productDf[\"price\"] < 600))\n",
    "df.printSchema()\n",
    "df.show()"
   ]
  },
  {
   "cell_type": "code",
   "execution_count": 19,
   "id": "d3909180-f231-49e3-a273-2235b379c3de",
   "metadata": {},
   "outputs": [
    {
     "name": "stdout",
     "output_type": "stream",
     "text": [
      "root\n",
      " |-- product_id: long (nullable = true)\n",
      " |-- product_name: string (nullable = true)\n",
      " |-- price: double (nullable = true)\n",
      " |-- brand_id: long (nullable = true)\n",
      " |-- offer: long (nullable = true)\n",
      "\n",
      "+----------+------------+-----+--------+-----+\n",
      "|product_id|product_name|price|brand_id|offer|\n",
      "+----------+------------+-----+--------+-----+\n",
      "|         2|      Galaxy|545.5|     101| null|\n",
      "+----------+------------+-----+--------+-----+\n",
      "\n"
     ]
    }
   ],
   "source": [
    "# filter and where are same\n",
    "df = productDf.where( (productDf.price >= 500) & (productDf[\"price\"] < 600))\n",
    "df.printSchema()\n",
    "df.show()"
   ]
  },
  {
   "cell_type": "code",
   "execution_count": 20,
   "id": "91222820-91d6-4a89-a4fb-9d680fa34047",
   "metadata": {},
   "outputs": [
    {
     "name": "stdout",
     "output_type": "stream",
     "text": [
      "root\n",
      " |-- product_id: long (nullable = true)\n",
      " |-- product_name: string (nullable = true)\n",
      " |-- price: double (nullable = true)\n",
      " |-- brand_id: long (nullable = true)\n",
      " |-- offer: long (nullable = true)\n",
      "\n",
      "+----------+------------+-----+--------+-----+\n",
      "|product_id|product_name|price|brand_id|offer|\n",
      "+----------+------------+-----+--------+-----+\n",
      "|         2|      Galaxy|545.5|     101| null|\n",
      "+----------+------------+-----+--------+-----+\n",
      "\n"
     ]
    }
   ],
   "source": [
    "# pyspark, filter, or where with sql expression, MIX\n",
    "df = productDf.where (\" price >= 500 AND price < 600\")\n",
    "df.printSchema()\n",
    "df.show()"
   ]
  },
  {
   "cell_type": "code",
   "execution_count": 21,
   "id": "660ea6c8-a0f5-4391-8a95-37184f06d6af",
   "metadata": {},
   "outputs": [
    {
     "name": "stdout",
     "output_type": "stream",
     "text": [
      "Column<'price'>\n",
      "Column<'price'>\n",
      "Column<'price'>\n"
     ]
    }
   ],
   "source": [
    "# how to reference columns in pyspark\n",
    "print(productDf.price)\n",
    "print(productDf['price'])\n",
    "\n",
    "# with function col - column\n",
    "from pyspark.sql.functions import col\n",
    "print(col(\"price\"))"
   ]
  },
  {
   "cell_type": "code",
   "execution_count": 22,
   "id": "414c33a9-fde3-45e2-94d9-4181ab2b47dc",
   "metadata": {},
   "outputs": [
    {
     "name": "stdout",
     "output_type": "stream",
     "text": [
      "root\n",
      " |-- product_id: long (nullable = true)\n",
      " |-- product_name: string (nullable = true)\n",
      " |-- price: double (nullable = true)\n",
      " |-- brand_id: long (nullable = true)\n",
      " |-- offer: long (nullable = true)\n",
      " |-- qty: integer (nullable = false)\n",
      " |-- amount: double (nullable = true)\n",
      "\n",
      "+----------+------------+------+--------+-----+---+-------+\n",
      "|product_id|product_name| price|brand_id|offer|qty| amount|\n",
      "+----------+------------+------+--------+-----+---+-------+\n",
      "|         1|      iPhone|1000.0|     100|    0|  4| 4000.0|\n",
      "|         2|      Galaxy| 545.5|     101| null|  4| 2182.0|\n",
      "|         3|       Pixel|645.99|     101| null|  4|2583.96|\n",
      "+----------+------------+------+--------+-----+---+-------+\n",
      "\n"
     ]
    }
   ],
   "source": [
    "# add a new column, which a fixed constant\n",
    "from pyspark.sql.functions import lit \n",
    "# lit - literal - constant\n",
    "df = productDf.withColumn(\"qty\", lit(4))\\\n",
    "              .withColumn(\"amount\", col(\"qty\") *  col(\"price\"))\n",
    "\n",
    "df.printSchema()\n",
    "df.show()"
   ]
  },
  {
   "cell_type": "code",
   "execution_count": 23,
   "id": "43aee577-e033-4287-b0c7-49684f59ad6b",
   "metadata": {},
   "outputs": [
    {
     "name": "stdout",
     "output_type": "stream",
     "text": [
      "+----------+------------+------+--------+-----+\n",
      "|product_id|product_name| price|brand_id|offer|\n",
      "+----------+------------+------+--------+-----+\n",
      "|         2|      Galaxy| 545.5|     101| null|\n",
      "|         3|       Pixel|645.99|     101| null|\n",
      "|         1|      iPhone|1000.0|     100|    0|\n",
      "+----------+------------+------+--------+-----+\n",
      "\n"
     ]
    }
   ],
   "source": [
    "# sort data ascending order\n",
    "df = productDf.sort(\"price\")\n",
    "df.show()"
   ]
  },
  {
   "cell_type": "code",
   "execution_count": 24,
   "id": "1cda1c42-2a31-4e46-b4b6-d0724bc89494",
   "metadata": {},
   "outputs": [
    {
     "name": "stdout",
     "output_type": "stream",
     "text": [
      "+----------+------------+------+--------+-----+\n",
      "|product_id|product_name| price|brand_id|offer|\n",
      "+----------+------------+------+--------+-----+\n",
      "|         1|      iPhone|1000.0|     100|    0|\n",
      "|         3|       Pixel|645.99|     101| null|\n",
      "|         2|      Galaxy| 545.5|     101| null|\n",
      "+----------+------------+------+--------+-----+\n",
      "\n"
     ]
    }
   ],
   "source": [
    "# sorting decending order\n",
    "from pyspark.sql.functions import desc\n",
    "df = productDf.sort(desc(\"price\"))\n",
    "df.show()"
   ]
  },
  {
   "cell_type": "code",
   "execution_count": 25,
   "id": "f3ecbcd4-1865-4ae0-a13a-41a9aabd355c",
   "metadata": {},
   "outputs": [
    {
     "name": "stdout",
     "output_type": "stream",
     "text": [
      "+----------+------------+------+--------+-----+\n",
      "|product_id|product_name| price|brand_id|offer|\n",
      "+----------+------------+------+--------+-----+\n",
      "|         2|      Galaxy| 545.5|     101| null|\n",
      "|         3|       Pixel|645.99|     101| null|\n",
      "|         1|      iPhone|1000.0|     100|    0|\n",
      "+----------+------------+------+--------+-----+\n",
      "\n",
      "+----------+------------+------+--------+-----+\n",
      "|product_id|product_name| price|brand_id|offer|\n",
      "+----------+------------+------+--------+-----+\n",
      "|         1|      iPhone|1000.0|     100|    0|\n",
      "|         3|       Pixel|645.99|     101| null|\n",
      "|         2|      Galaxy| 545.5|     101| null|\n",
      "+----------+------------+------+--------+-----+\n",
      "\n"
     ]
    }
   ],
   "source": [
    "# alternatively use dataframe columns if we have df reference\n",
    "df = productDf.sort (productDf.price.asc())\n",
    "df.show()\n",
    "# desc\n",
    "df = productDf.sort (productDf.price.desc())\n",
    "df.show()"
   ]
  },
  {
   "cell_type": "code",
   "execution_count": 26,
   "id": "eff92e53-e94e-4ba3-82f9-7d9399a0f4a3",
   "metadata": {},
   "outputs": [
    {
     "name": "stdout",
     "output_type": "stream",
     "text": [
      "+----------+------------+------+--------+-----+\n",
      "|product_id|product_name| price|brand_id|offer|\n",
      "+----------+------------+------+--------+-----+\n",
      "|         1|      iPhone|1000.0|     100|    0|\n",
      "|         2|      Galaxy| 545.5|     101| null|\n",
      "|         3|       Pixel|645.99|     101| null|\n",
      "+----------+------------+------+--------+-----+\n",
      "\n",
      "+----------+------------+------+--------+-----+\n",
      "|product_id|product_name| price|brand_id|offer|\n",
      "+----------+------------+------+--------+-----+\n",
      "|         1|      iPhone|1000.0|     100|    0|\n",
      "|         2|      Galaxy| 545.5|     101|    0|\n",
      "|         3|       Pixel|645.99|     101|    0|\n",
      "+----------+------------+------+--------+-----+\n",
      "\n"
     ]
    }
   ],
   "source": [
    "# now fillna /non available\n",
    "productDf.show()\n",
    "df = productDf.fillna(value=0) # null value is replaced with 0 value\n",
    "df.show()"
   ]
  },
  {
   "cell_type": "code",
   "execution_count": 27,
   "id": "d621e75b-a704-4ee6-bd95-08817daed63e",
   "metadata": {},
   "outputs": [
    {
     "name": "stdout",
     "output_type": "stream",
     "text": [
      "+----------+------------+------+--------+-----+\n",
      "|product_id|product_name| price|brand_id|offer|\n",
      "+----------+------------+------+--------+-----+\n",
      "|         1|      iPhone|1000.0|     100|    0|\n",
      "|         2|      Galaxy| 545.5|     101| null|\n",
      "|         3|       Pixel|645.99|     101| null|\n",
      "+----------+------------+------+--------+-----+\n",
      "\n",
      "+----------+------------+------+--------+-----+\n",
      "|product_id|product_name| price|brand_id|offer|\n",
      "+----------+------------+------+--------+-----+\n",
      "|         1|      iPhone|1000.0|     100|    0|\n",
      "|         2|      Galaxy| 545.5|     101|    0|\n",
      "|         3|       Pixel|645.99|     101|    0|\n",
      "+----------+------------+------+--------+-----+\n",
      "\n"
     ]
    }
   ],
   "source": [
    "# now fillna /non available, limit to specific columns\n",
    "productDf.show()\n",
    "df = productDf.fillna(value=0, subset=['offer']) # null value is replaced with 0 value\n",
    "df.show()"
   ]
  },
  {
   "cell_type": "code",
   "execution_count": null,
   "id": "59a7831a-4a15-440a-bbe2-6f0d8c7481cd",
   "metadata": {},
   "outputs": [],
   "source": []
  }
 ],
 "metadata": {
  "kernelspec": {
   "display_name": "Python 3 (ipykernel)",
   "language": "python",
   "name": "python3"
  },
  "language_info": {
   "codemirror_mode": {
    "name": "ipython",
    "version": 3
   },
   "file_extension": ".py",
   "mimetype": "text/x-python",
   "name": "python",
   "nbconvert_exporter": "python",
   "pygments_lexer": "ipython3",
   "version": "3.8.12"
  }
 },
 "nbformat": 4,
 "nbformat_minor": 5
}
