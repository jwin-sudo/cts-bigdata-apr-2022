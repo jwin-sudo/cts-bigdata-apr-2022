{
 "cells": [
  {
   "cell_type": "code",
   "execution_count": 1,
   "id": "e2618e36-4b69-4546-960c-072da431225e",
   "metadata": {},
   "outputs": [],
   "source": [
    "import findspark\n",
    "findspark.init()"
   ]
  },
  {
   "cell_type": "code",
   "execution_count": 3,
   "id": "90c1ae93-d02e-44ee-9126-ee52c738ac18",
   "metadata": {},
   "outputs": [
    {
     "name": "stderr",
     "output_type": "stream",
     "text": [
      "22/05/11 22:35:40 WARN Utils: Your hostname, ubuntu-virtual-machine resolves to a loopback address: 127.0.1.1; using 192.168.174.129 instead (on interface ens33)\n",
      "22/05/11 22:35:40 WARN Utils: Set SPARK_LOCAL_IP if you need to bind to another address\n",
      "22/05/11 22:35:41 WARN NativeCodeLoader: Unable to load native-hadoop library for your platform... using builtin-java classes where applicable\n",
      "Using Spark's default log4j profile: org/apache/spark/log4j-defaults.properties\n",
      "Setting default log level to \"WARN\".\n",
      "To adjust logging level use sc.setLogLevel(newLevel). For SparkR, use setLogLevel(newLevel).\n"
     ]
    }
   ],
   "source": [
    "from pyspark.conf import SparkConf\n",
    "config = SparkConf()\n",
    "# config.set(\"property\", \"value\")\n",
    "config.setMaster(\"local\").setAppName(\"MovieLens\")\n",
    "\n",
    "from pyspark.sql import SparkSession\n",
    "# spark Session, entry point for Spark SQL, DataFrame\n",
    "spark = SparkSession.builder\\\n",
    "                    .config(conf=config)\\\n",
    "                    .getOrCreate()\n",
    "\n",
    "sc = spark.sparkContext"
   ]
  },
  {
   "cell_type": "code",
   "execution_count": 3,
   "id": "a61fdf5c-a460-468b-825f-37e77e4dd624",
   "metadata": {},
   "outputs": [],
   "source": [
    "# how to create schema programatically instead of using inferSchema\n",
    "from pyspark.sql.types import StructType, LongType, StringType, IntegerType, DoubleType\n",
    "# True is nullable, False is non nullable\n",
    "movieSchema = StructType()\\\n",
    "                .add(\"movieId\", IntegerType(), True)\\\n",
    "                .add(\"title\", StringType(), True)\\\n",
    "                .add(\"genres\", StringType(), True)\n",
    "\n",
    "ratingSchema = StructType()\\\n",
    "                .add(\"userId\", IntegerType(), True)\\\n",
    "                .add(\"movieId\", IntegerType(), True)\\\n",
    "                .add(\"rating\", DoubleType(), True)\\\n",
    "                .add(\"timestamp\", LongType(), True)"
   ]
  },
  {
   "cell_type": "code",
   "execution_count": 5,
   "id": "9a3ad6bc-8eab-42ce-bb5d-2b9c065332c9",
   "metadata": {},
   "outputs": [
    {
     "name": "stdout",
     "output_type": "stream",
     "text": [
      "root\n",
      " |-- movieId: integer (nullable = true)\n",
      " |-- title: string (nullable = true)\n",
      " |-- genres: string (nullable = true)\n",
      "\n"
     ]
    },
    {
     "name": "stderr",
     "output_type": "stream",
     "text": [
      "[Stage 0:>                                                          (0 + 1) / 1]\r"
     ]
    },
    {
     "name": "stdout",
     "output_type": "stream",
     "text": [
      "+-------+----------------+--------------------+\n",
      "|movieId|           title|              genres|\n",
      "+-------+----------------+--------------------+\n",
      "|      1|Toy Story (1995)|Adventure|Animati...|\n",
      "|      2|  Jumanji (1995)|Adventure|Childre...|\n",
      "+-------+----------------+--------------------+\n",
      "only showing top 2 rows\n",
      "\n"
     ]
    },
    {
     "name": "stderr",
     "output_type": "stream",
     "text": [
      "                                                                                \r"
     ]
    }
   ],
   "source": [
    "# read movie data\n",
    "# read using dataframe with defind schema\n",
    "# we can use folder path - all csv in the folder read\n",
    "# use file path, only that file read\n",
    "\n",
    "# spark is session, entry point for data frame/sql\n",
    "\n",
    "movieDf = spark.read.format(\"csv\")\\\n",
    "                .option(\"header\", True)\\\n",
    "                .schema(movieSchema)\\\n",
    "                .load(\"hdfs://localhost:9000/ml-latest-small/movies.csv\")\n",
    "\n",
    "movieDf.printSchema()\n",
    "movieDf.show(2)"
   ]
  },
  {
   "cell_type": "code",
   "execution_count": 9,
   "id": "c3698c3d-43e8-4a43-9fb1-ed0cafc1a047",
   "metadata": {},
   "outputs": [
    {
     "name": "stdout",
     "output_type": "stream",
     "text": [
      "root\n",
      " |-- userId: integer (nullable = true)\n",
      " |-- movieId: integer (nullable = true)\n",
      " |-- rating: double (nullable = true)\n",
      " |-- timestamp: long (nullable = true)\n",
      "\n",
      "+------+-------+------+---------+\n",
      "|userId|movieId|rating|timestamp|\n",
      "+------+-------+------+---------+\n",
      "|     1|      1|   4.0|964982703|\n",
      "|     1|      3|   4.0|964981247|\n",
      "+------+-------+------+---------+\n",
      "only showing top 2 rows\n",
      "\n"
     ]
    }
   ],
   "source": [
    "ratingDf = spark.read.format(\"csv\")\\\n",
    "                .option(\"header\", True)\\\n",
    "                .schema(ratingSchema)\\\n",
    "                .load(\"hdfs://localhost:9000/ml-latest-small/ratings.csv\")\n",
    "\n",
    "ratingDf.printSchema()\n",
    "ratingDf.show(2)"
   ]
  },
  {
   "cell_type": "code",
   "execution_count": 10,
   "id": "8d86067d-e425-47c3-a1fc-e51c911cefed",
   "metadata": {},
   "outputs": [
    {
     "name": "stdout",
     "output_type": "stream",
     "text": [
      "9742\n",
      "100836\n"
     ]
    }
   ],
   "source": [
    "print (movieDf.count())\n",
    "print(ratingDf.count())"
   ]
  },
  {
   "cell_type": "code",
   "execution_count": 11,
   "id": "62af26b4-ca3b-448d-bbc8-d40390e5d1ae",
   "metadata": {},
   "outputs": [
    {
     "data": {
      "text/plain": [
       "[Row(userId=1, movieId=1, rating=4.0, timestamp=964982703),\n",
       " Row(userId=1, movieId=3, rating=4.0, timestamp=964981247)]"
      ]
     },
     "execution_count": 11,
     "metadata": {},
     "output_type": "execute_result"
    }
   ],
   "source": [
    "ratingDf.take(2)\n"
   ]
  },
  {
   "cell_type": "code",
   "execution_count": 12,
   "id": "bcef65c3-4d52-40d3-9bfc-c5d0b9f90ca4",
   "metadata": {},
   "outputs": [
    {
     "name": "stderr",
     "output_type": "stream",
     "text": [
      "                                                                                \r"
     ]
    },
    {
     "name": "stdout",
     "output_type": "stream",
     "text": [
      "+------+\n",
      "|rating|\n",
      "+------+\n",
      "|   3.5|\n",
      "|   4.5|\n",
      "|   2.5|\n",
      "|   1.0|\n",
      "|   4.0|\n",
      "|   0.5|\n",
      "|   3.0|\n",
      "|   2.0|\n",
      "|   1.5|\n",
      "|   5.0|\n",
      "+------+\n",
      "\n"
     ]
    }
   ],
   "source": [
    "# show the distinct ratings\n",
    "ratingDf.select(\"rating\").distinct().show()"
   ]
  },
  {
   "cell_type": "code",
   "execution_count": 13,
   "id": "c3ed5db5-e3fb-4d65-aeb5-8fe96e155df8",
   "metadata": {},
   "outputs": [
    {
     "name": "stdout",
     "output_type": "stream",
     "text": [
      "root\n",
      " |-- movieId: integer (nullable = true)\n",
      " |-- total_ratings: long (nullable = false)\n",
      "\n"
     ]
    },
    {
     "name": "stderr",
     "output_type": "stream",
     "text": [
      "                                                                                \r"
     ]
    },
    {
     "name": "stdout",
     "output_type": "stream",
     "text": [
      "+-------+-------------+\n",
      "|movieId|total_ratings|\n",
      "+-------+-------------+\n",
      "|    356|          329|\n",
      "|    318|          317|\n",
      "|    296|          307|\n",
      "|    593|          279|\n",
      "|   2571|          278|\n",
      "|    260|          251|\n",
      "|    480|          238|\n",
      "|    110|          237|\n",
      "|    589|          224|\n",
      "|    527|          220|\n",
      "|   2959|          218|\n",
      "|      1|          215|\n",
      "|   1196|          211|\n",
      "|     50|          204|\n",
      "|   2858|          204|\n",
      "|     47|          203|\n",
      "|    780|          202|\n",
      "|    150|          201|\n",
      "|   1198|          200|\n",
      "|   4993|          198|\n",
      "+-------+-------------+\n",
      "only showing top 20 rows\n",
      "\n"
     ]
    }
   ],
   "source": [
    "# aggregation with groupBy\n",
    "from pyspark.sql.functions import col, desc, avg, count\n",
    "\n",
    "# find the movies by total ratings by userId\n",
    "df = ratingDf\\\n",
    "     .groupBy(\"movieId\")\\\n",
    "     .agg(count(\"userId\").alias(\"total_ratings\"))\\\n",
    "     .sort(desc(\"total_ratings\"))\n",
    "\n",
    "df.printSchema()\n",
    "df.show(20)"
   ]
  },
  {
   "cell_type": "code",
   "execution_count": 14,
   "id": "2d1e09af-d381-46ca-9cfc-e81afc8f692e",
   "metadata": {},
   "outputs": [
    {
     "name": "stdout",
     "output_type": "stream",
     "text": [
      "root\n",
      " |-- movieId: integer (nullable = true)\n",
      " |-- avg_rating: double (nullable = true)\n",
      "\n"
     ]
    },
    {
     "name": "stderr",
     "output_type": "stream",
     "text": [
      "[Stage 21:===============================================>      (175 + 1) / 200]\r"
     ]
    },
    {
     "name": "stdout",
     "output_type": "stream",
     "text": [
      "+-------+----------+\n",
      "|movieId|avg_rating|\n",
      "+-------+----------+\n",
      "|  33138|       5.0|\n",
      "|    876|       5.0|\n",
      "| 147300|       5.0|\n",
      "|  27373|       5.0|\n",
      "|     53|       5.0|\n",
      "|  25887|       5.0|\n",
      "|  84273|       5.0|\n",
      "| 113829|       5.0|\n",
      "| 173963|       5.0|\n",
      "|  26350|       5.0|\n",
      "|  67618|       5.0|\n",
      "|    148|       5.0|\n",
      "| 157775|       5.0|\n",
      "| 142444|       5.0|\n",
      "|    633|       5.0|\n",
      "|    496|       5.0|\n",
      "|   8911|       5.0|\n",
      "|   5513|       5.0|\n",
      "| 152711|       5.0|\n",
      "| 150554|       5.0|\n",
      "+-------+----------+\n",
      "only showing top 20 rows\n",
      "\n"
     ]
    },
    {
     "name": "stderr",
     "output_type": "stream",
     "text": [
      "                                                                                \r"
     ]
    }
   ],
   "source": [
    "# aggregation with groupBy\n",
    "from pyspark.sql.functions import col, desc, avg, count\n",
    "\n",
    "# find  average rating by users sorted by desc\n",
    "df = ratingDf\\\n",
    "     .groupBy(\"movieId\")\\\n",
    "     .agg(avg(\"rating\").alias(\"avg_rating\"))\\\n",
    "     .sort(desc(\"avg_rating\"))\n",
    "\n",
    "df.printSchema()\n",
    "df.show(20)"
   ]
  },
  {
   "cell_type": "code",
   "execution_count": 15,
   "id": "e3294d5d-02aa-46ef-bf60-1704d5e6be8c",
   "metadata": {},
   "outputs": [
    {
     "name": "stdout",
     "output_type": "stream",
     "text": [
      "root\n",
      " |-- movieId: integer (nullable = true)\n",
      " |-- total_ratings: long (nullable = false)\n",
      "\n"
     ]
    },
    {
     "name": "stderr",
     "output_type": "stream",
     "text": [
      "[Stage 23:==========================================>           (157 + 1) / 200]\r"
     ]
    },
    {
     "name": "stdout",
     "output_type": "stream",
     "text": [
      "+-------+-------------+\n",
      "|movieId|total_ratings|\n",
      "+-------+-------------+\n",
      "|    356|          329|\n",
      "|    318|          317|\n",
      "|    296|          307|\n",
      "|    593|          279|\n",
      "|   2571|          278|\n",
      "|    260|          251|\n",
      "|    480|          238|\n",
      "|    110|          237|\n",
      "|    589|          224|\n",
      "|    527|          220|\n",
      "|   2959|          218|\n",
      "|      1|          215|\n",
      "|   1196|          211|\n",
      "|     50|          204|\n",
      "|   2858|          204|\n",
      "|     47|          203|\n",
      "|    780|          202|\n",
      "|    150|          201|\n",
      "|   1198|          200|\n",
      "|   4993|          198|\n",
      "+-------+-------------+\n",
      "only showing top 20 rows\n",
      "\n"
     ]
    },
    {
     "name": "stderr",
     "output_type": "stream",
     "text": [
      "                                                                                \r"
     ]
    }
   ],
   "source": [
    "# aggregation with groupBy\n",
    "from pyspark.sql.functions import col, desc, avg, count\n",
    "\n",
    "# find the movies by total ratings by userId\n",
    "df = ratingDf\\\n",
    "     .groupBy(\"movieId\")\\\n",
    "     .agg(count(\"userId\").alias(\"total_ratings\"))\\\n",
    "     .sort(desc(\"total_ratings\"))\n",
    "\n",
    "df.printSchema()\n",
    "df.show(20)"
   ]
  },
  {
   "cell_type": "code",
   "execution_count": 16,
   "id": "09ab7f3b-b523-4ae9-ab8b-fdc784dfc24c",
   "metadata": {},
   "outputs": [
    {
     "name": "stdout",
     "output_type": "stream",
     "text": [
      "root\n",
      " |-- movieId: integer (nullable = true)\n",
      " |-- avg_rating: double (nullable = true)\n",
      "\n"
     ]
    },
    {
     "name": "stderr",
     "output_type": "stream",
     "text": [
      "[Stage 25:=========================================>            (153 + 1) / 200]\r"
     ]
    },
    {
     "name": "stdout",
     "output_type": "stream",
     "text": [
      "+-------+----------+\n",
      "|movieId|avg_rating|\n",
      "+-------+----------+\n",
      "|  33138|       5.0|\n",
      "|    876|       5.0|\n",
      "| 147300|       5.0|\n",
      "|  27373|       5.0|\n",
      "|     53|       5.0|\n",
      "|  25887|       5.0|\n",
      "|  84273|       5.0|\n",
      "| 113829|       5.0|\n",
      "| 173963|       5.0|\n",
      "|  26350|       5.0|\n",
      "|  67618|       5.0|\n",
      "|    148|       5.0|\n",
      "| 157775|       5.0|\n",
      "| 142444|       5.0|\n",
      "|    633|       5.0|\n",
      "|    496|       5.0|\n",
      "|   8911|       5.0|\n",
      "|   5513|       5.0|\n",
      "| 152711|       5.0|\n",
      "| 150554|       5.0|\n",
      "+-------+----------+\n",
      "only showing top 20 rows\n",
      "\n"
     ]
    },
    {
     "name": "stderr",
     "output_type": "stream",
     "text": [
      "                                                                                \r"
     ]
    }
   ],
   "source": [
    "# aggregation with groupBy\n",
    "from pyspark.sql.functions import col, desc, avg, count\n",
    "\n",
    "# find  average rating by users sorted by desc\n",
    "df = ratingDf\\\n",
    "     .groupBy(\"movieId\")\\\n",
    "     .agg(avg(\"rating\").alias(\"avg_rating\"))\\\n",
    "     .sort(desc(\"avg_rating\"))\n",
    "\n",
    "df.printSchema()\n",
    "df.show(20)"
   ]
  },
  {
   "cell_type": "code",
   "execution_count": 17,
   "id": "f2f53ad3-fd74-49df-b8f7-bf396363a7c3",
   "metadata": {},
   "outputs": [
    {
     "name": "stdout",
     "output_type": "stream",
     "text": [
      "root\n",
      " |-- movieId: integer (nullable = true)\n",
      " |-- avg_rating: double (nullable = true)\n",
      " |-- total_ratings: long (nullable = false)\n",
      "\n"
     ]
    },
    {
     "name": "stderr",
     "output_type": "stream",
     "text": [
      "                                                                                \r"
     ]
    },
    {
     "name": "stdout",
     "output_type": "stream",
     "text": [
      "+-------+------------------+-------------+\n",
      "|movieId|        avg_rating|total_ratings|\n",
      "+-------+------------------+-------------+\n",
      "|    356| 4.164133738601824|          329|\n",
      "|    318| 4.429022082018927|          317|\n",
      "|    296| 4.197068403908795|          307|\n",
      "|    593| 4.161290322580645|          279|\n",
      "|   2571| 4.192446043165468|          278|\n",
      "|    260| 4.231075697211155|          251|\n",
      "|    480|              3.75|          238|\n",
      "|    110| 4.031645569620253|          237|\n",
      "|    589| 3.970982142857143|          224|\n",
      "|    527|             4.225|          220|\n",
      "|   2959| 4.272935779816514|          218|\n",
      "|      1|3.9209302325581397|          215|\n",
      "|   1196|4.2156398104265405|          211|\n",
      "|     50| 4.237745098039215|          204|\n",
      "|   2858| 4.056372549019608|          204|\n",
      "|     47|3.9753694581280787|          203|\n",
      "|    150| 3.845771144278607|          201|\n",
      "|   1198|            4.2075|          200|\n",
      "|   4993| 4.106060606060606|          198|\n",
      "|   1210| 4.137755102040816|          196|\n",
      "+-------+------------------+-------------+\n",
      "only showing top 20 rows\n",
      "\n"
     ]
    }
   ],
   "source": [
    "# aggregation with groupBy\n",
    "from pyspark.sql.functions import col, desc, avg, count\n",
    "\n",
    "# find  the most popular movies, where as rated by many users, at least movies should be rated by 100 users\n",
    "# and the average rating should be at least 3.5 and above\n",
    "# and sort the movies by total_ratings\n",
    "mostPopularMoviesDf = ratingDf\\\n",
    "     .groupBy(\"movieId\")\\\n",
    "     .agg(avg(\"rating\").alias(\"avg_rating\"), count(\"userId\").alias(\"total_ratings\") )\\\n",
    "     .filter( (col(\"total_ratings\") >= 100) & (col(\"avg_rating\") >=3.5) )\\\n",
    "     .sort(desc(\"total_ratings\"))\n",
    "\n",
    "mostPopularMoviesDf.cache() # MEMORY\n",
    "\n",
    "mostPopularMoviesDf.printSchema()\n",
    "mostPopularMoviesDf.show(20)"
   ]
  },
  {
   "cell_type": "code",
   "execution_count": 18,
   "id": "c3e0673d-cca3-4c2f-8199-d4090b4a098a",
   "metadata": {},
   "outputs": [
    {
     "name": "stdout",
     "output_type": "stream",
     "text": [
      "+-------+--------------------+------------------+-------------+\n",
      "|movieId|               title|        avg_rating|total_ratings|\n",
      "+-------+--------------------+------------------+-------------+\n",
      "|    356| Forrest Gump (1994)| 4.164133738601824|          329|\n",
      "|    318|Shawshank Redempt...| 4.429022082018927|          317|\n",
      "|    296| Pulp Fiction (1994)| 4.197068403908795|          307|\n",
      "|    593|Silence of the La...| 4.161290322580645|          279|\n",
      "|   2571|  Matrix, The (1999)| 4.192446043165468|          278|\n",
      "|    260|Star Wars: Episod...| 4.231075697211155|          251|\n",
      "|    480|Jurassic Park (1993)|              3.75|          238|\n",
      "|    110|   Braveheart (1995)| 4.031645569620253|          237|\n",
      "|    589|Terminator 2: Jud...| 3.970982142857143|          224|\n",
      "|    527|Schindler's List ...|             4.225|          220|\n",
      "|   2959|   Fight Club (1999)| 4.272935779816514|          218|\n",
      "|      1|    Toy Story (1995)|3.9209302325581397|          215|\n",
      "|   1196|Star Wars: Episod...|4.2156398104265405|          211|\n",
      "|     50|Usual Suspects, T...| 4.237745098039215|          204|\n",
      "|   2858|American Beauty (...| 4.056372549019608|          204|\n",
      "|     47|Seven (a.k.a. Se7...|3.9753694581280787|          203|\n",
      "|    150|    Apollo 13 (1995)| 3.845771144278607|          201|\n",
      "|   1198|Raiders of the Lo...|            4.2075|          200|\n",
      "|   4993|Lord of the Rings...| 4.106060606060606|          198|\n",
      "|   1210|Star Wars: Episod...| 4.137755102040816|          196|\n",
      "|    858|Godfather, The (1...|         4.2890625|          192|\n",
      "|    457|Fugitive, The (1993)|3.9921052631578946|          190|\n",
      "|   2028|Saving Private Ry...|4.1462765957446805|          188|\n",
      "|   5952|Lord of the Rings...|4.0212765957446805|          188|\n",
      "|   7153|Lord of the Rings...| 4.118918918918919|          185|\n",
      "|    588|      Aladdin (1992)|3.7923497267759565|          183|\n",
      "|    608|        Fargo (1996)| 4.116022099447513|          181|\n",
      "|   2762|Sixth Sense, The ...| 3.893854748603352|          179|\n",
      "|     32|Twelve Monkeys (a...| 3.983050847457627|          177|\n",
      "|    364|Lion King, The (1...| 3.941860465116279|          172|\n",
      "|    377|        Speed (1994)|3.5292397660818713|          171|\n",
      "|   1270|Back to the Futur...| 4.038011695906433|          171|\n",
      "|   3578|    Gladiator (2000)|3.9382352941176473|          170|\n",
      "|   4306|        Shrek (2001)|3.8676470588235294|          170|\n",
      "|    590|Dances with Wolve...|3.8353658536585367|          164|\n",
      "|    648|Mission: Impossib...| 3.537037037037037|          162|\n",
      "|   4226|      Memento (2000)| 4.122641509433962|          159|\n",
      "|   6539|Pirates of the Ca...| 3.778523489932886|          149|\n",
      "|  58559|Dark Knight, The ...| 4.238255033557047|          149|\n",
      "|    595|Beauty and the Be...|3.7705479452054793|          146|\n",
      "|   1214|        Alien (1979)| 3.969178082191781|          146|\n",
      "|   1036|     Die Hard (1988)|3.8620689655172415|          145|\n",
      "|    165|Die Hard: With a ...|3.5555555555555554|          144|\n",
      "|   1265|Groundhog Day (1993)| 3.944055944055944|          143|\n",
      "|  79132|    Inception (2010)| 4.066433566433567|          143|\n",
      "|   1197|Princess Bride, T...| 4.232394366197183|          142|\n",
      "|   1704|Good Will Hunting...| 4.078014184397163|          141|\n",
      "|   6377| Finding Nemo (2003)|3.9609929078014185|          141|\n",
      "|   1291|Indiana Jones and...| 4.046428571428572|          140|\n",
      "|   1136|Monty Python and ...| 4.161764705882353|          136|\n",
      "|    293|Léon: The Profess...| 4.018796992481203|          133|\n",
      "|   1193|One Flew Over the...| 4.203007518796992|          133|\n",
      "|   3793|        X-Men (2000)| 3.699248120300752|          133|\n",
      "|   4886|Monsters, Inc. (2...| 3.871212121212121|          132|\n",
      "|   1089|Reservoir Dogs (1...| 4.202290076335878|          131|\n",
      "|   1240|Terminator, The (...|3.8969465648854964|          131|\n",
      "|   6874|Kill Bill: Vol. 1...|3.9618320610687023|          131|\n",
      "|   7361|Eternal Sunshine ...|4.1603053435114505|          131|\n",
      "|   1221|Godfather: Part I...|  4.25968992248062|          129|\n",
      "|   2329|American History ...| 4.217054263565892|          129|\n",
      "|     34|         Babe (1995)|        3.65234375|          128|\n",
      "|   1200|       Aliens (1986)|3.9642857142857144|          126|\n",
      "|   1213|   Goodfellas (1990)|              4.25|          126|\n",
      "|   1682|Truman Show, The ...|             3.812|          125|\n",
      "|   8961|Incredibles, The ...|             3.836|          125|\n",
      "|    541| Blade Runner (1982)| 4.100806451612903|          124|\n",
      "|   4995|Beautiful Mind, A...|               4.0|          123|\n",
      "|   1097|E.T. the Extra-Te...|3.7663934426229506|          122|\n",
      "|   5349|   Spider-Man (2002)| 3.540983606557377|          122|\n",
      "|    733|    Rock, The (1996)|3.6404958677685952|          121|\n",
      "|   1206|Clockwork Orange,...| 3.995833333333333|          120|\n",
      "|   2716|Ghostbusters (a.k...|             3.775|          120|\n",
      "|   4973|Amelie (Fabuleux ...| 4.183333333333334|          120|\n",
      "|   5445|Minority Report (...|            3.6375|          120|\n",
      "|   1073|Willy Wonka & the...|3.8739495798319328|          119|\n",
      "|   4963|Ocean's Eleven (2...|3.8445378151260505|          119|\n",
      "|   1527|Fifth Element, Th...|3.7456896551724137|          116|\n",
      "|  33794|Batman Begins (2005)|3.8620689655172415|          116|\n",
      "|   5989|Catch Me If You C...|3.9217391304347826|          115|\n",
      "|   1968|Breakfast Club, T...|3.7787610619469025|          113|\n",
      "|   5418|Bourne Identity, ...|3.8169642857142856|          112|\n",
      "|   3147|Green Mile, The (...| 4.148648648648648|          111|\n",
      "|    349|Clear and Present...|3.6045454545454545|          110|\n",
      "|   3996|Crouching Tiger, ...|3.8363636363636364|          110|\n",
      "|   7438|Kill Bill: Vol. 2...| 3.868181818181818|          110|\n",
      "|    924|2001: A Space Ody...|3.8944954128440368|          109|\n",
      "|   1258| Shining, The (1980)|  4.08256880733945|          109|\n",
      "|   2918|Ferris Bueller's ...|3.8394495412844036|          109|\n",
      "|   4878| Donnie Darko (2001)| 3.981651376146789|          109|\n",
      "|   2115|Indiana Jones and...| 3.638888888888889|          108|\n",
      "|   1208|Apocalypse Now (1...| 4.219626168224299|          107|\n",
      "|   4896|Harry Potter and ...|3.7616822429906542|          107|\n",
      "|  48516|Departed, The (2006)| 4.252336448598131|          107|\n",
      "|   1732|Big Lebowski, The...|3.9245283018867925|          106|\n",
      "|   1923|There's Something...| 3.676190476190476|          105|\n",
      "|  68954|           Up (2009)| 4.004761904761905|          105|\n",
      "|    111|  Taxi Driver (1976)| 4.105769230769231|          104|\n",
      "|    223|       Clerks (1994)| 3.855769230769231|          104|\n",
      "|  60069|       WALL·E (2008)|4.0576923076923075|          104|\n",
      "|    161| Crimson Tide (1995)|3.6359223300970873|          103|\n",
      "+-------+--------------------+------------------+-------------+\n",
      "only showing top 100 rows\n",
      "\n"
     ]
    }
   ],
   "source": [
    "# join, inner join \n",
    "# get the movie title for the mostPopularMoviesDf\n",
    "# join mostPopularMoviesDf with movieDf based on condition that mostPopularMoviesDf.movieId == movieDf.movieId\n",
    "\n",
    "popularMoviesDf = mostPopularMoviesDf.join(movieDf, mostPopularMoviesDf.movieId == movieDf.movieId)\\\n",
    "                                     .select(movieDf.movieId, \"title\", \"avg_rating\", \"total_ratings\")\\\n",
    "                                     .sort(desc(\"total_ratings\"))\n",
    "\n",
    "popularMoviesDf.cache()\n",
    "\n",
    "popularMoviesDf.show(100)"
   ]
  },
  {
   "cell_type": "code",
   "execution_count": 21,
   "id": "e1f465e3-7f0b-4640-89ba-a6a61acfebf1",
   "metadata": {},
   "outputs": [
    {
     "data": {
      "text/plain": [
       "110"
      ]
     },
     "execution_count": 21,
     "metadata": {},
     "output_type": "execute_result"
    }
   ],
   "source": [
    "mostPopularMoviesDf.count()"
   ]
  },
  {
   "cell_type": "code",
   "execution_count": 24,
   "id": "dcd32817-498d-4497-ab86-b6ceb87455f1",
   "metadata": {},
   "outputs": [
    {
     "name": "stdout",
     "output_type": "stream",
     "text": [
      "== Parsed Logical Plan ==\n",
      "'Sort ['total_ratings DESC NULLS LAST], true\n",
      "+- Filter ((total_ratings#203L >= cast(100 as bigint)) AND (avg_rating#201 >= 3.5))\n",
      "   +- Aggregate [movieId#52], [movieId#52, avg(rating#53) AS avg_rating#201, count(userId#51) AS total_ratings#203L]\n",
      "      +- Relation[userId#51,movieId#52,rating#53,timestamp#54L] csv\n",
      "\n",
      "== Analyzed Logical Plan ==\n",
      "movieId: int, avg_rating: double, total_ratings: bigint\n",
      "Sort [total_ratings#203L DESC NULLS LAST], true\n",
      "+- Filter ((total_ratings#203L >= cast(100 as bigint)) AND (avg_rating#201 >= 3.5))\n",
      "   +- Aggregate [movieId#52], [movieId#52, avg(rating#53) AS avg_rating#201, count(userId#51) AS total_ratings#203L]\n",
      "      +- Relation[userId#51,movieId#52,rating#53,timestamp#54L] csv\n",
      "\n",
      "== Optimized Logical Plan ==\n",
      "InMemoryRelation [movieId#52, avg_rating#201, total_ratings#203L], StorageLevel(disk, memory, deserialized, 1 replicas)\n",
      "   +- *(3) Sort [total_ratings#203L DESC NULLS LAST], true, 0\n",
      "      +- Exchange rangepartitioning(total_ratings#203L DESC NULLS LAST, 200), ENSURE_REQUIREMENTS, [id=#232]\n",
      "         +- *(2) Filter ((isnotnull(avg_rating#201) AND (total_ratings#203L >= 100)) AND (avg_rating#201 >= 3.5))\n",
      "            +- *(2) HashAggregate(keys=[movieId#52], functions=[avg(rating#53), count(userId#51)], output=[movieId#52, avg_rating#201, total_ratings#203L])\n",
      "               +- Exchange hashpartitioning(movieId#52, 200), ENSURE_REQUIREMENTS, [id=#227]\n",
      "                  +- *(1) HashAggregate(keys=[movieId#52], functions=[partial_avg(rating#53), partial_count(userId#51)], output=[movieId#52, sum#213, count#214L, count#215L])\n",
      "                     +- FileScan csv [userId#51,movieId#52,rating#53] Batched: false, DataFilters: [], Format: CSV, Location: InMemoryFileIndex[hdfs://localhost:9000/ml-latest-small/ratings.csv], PartitionFilters: [], PushedFilters: [], ReadSchema: struct<userId:int,movieId:int,rating:double>\n",
      "\n",
      "== Physical Plan ==\n",
      "*(1) ColumnarToRow\n",
      "+- InMemoryTableScan [movieId#52, avg_rating#201, total_ratings#203L]\n",
      "      +- InMemoryRelation [movieId#52, avg_rating#201, total_ratings#203L], StorageLevel(disk, memory, deserialized, 1 replicas)\n",
      "            +- *(3) Sort [total_ratings#203L DESC NULLS LAST], true, 0\n",
      "               +- Exchange rangepartitioning(total_ratings#203L DESC NULLS LAST, 200), ENSURE_REQUIREMENTS, [id=#232]\n",
      "                  +- *(2) Filter ((isnotnull(avg_rating#201) AND (total_ratings#203L >= 100)) AND (avg_rating#201 >= 3.5))\n",
      "                     +- *(2) HashAggregate(keys=[movieId#52], functions=[avg(rating#53), count(userId#51)], output=[movieId#52, avg_rating#201, total_ratings#203L])\n",
      "                        +- Exchange hashpartitioning(movieId#52, 200), ENSURE_REQUIREMENTS, [id=#227]\n",
      "                           +- *(1) HashAggregate(keys=[movieId#52], functions=[partial_avg(rating#53), partial_count(userId#51)], output=[movieId#52, sum#213, count#214L, count#215L])\n",
      "                              +- FileScan csv [userId#51,movieId#52,rating#53] Batched: false, DataFilters: [], Format: CSV, Location: InMemoryFileIndex[hdfs://localhost:9000/ml-latest-small/ratings.csv], PartitionFilters: [], PushedFilters: [], ReadSchema: struct<userId:int,movieId:int,rating:double>\n",
      "\n"
     ]
    }
   ],
   "source": [
    "mostPopularMoviesDf.explain(extended=True)"
   ]
  },
  {
   "cell_type": "code",
   "execution_count": 25,
   "id": "048d7020-7381-44bb-89bf-2c447109d7e6",
   "metadata": {},
   "outputs": [
    {
     "name": "stderr",
     "output_type": "stream",
     "text": [
      "22/05/11 21:00:17 WARN CacheManager: Asked to cache already cached data.\n"
     ]
    },
    {
     "name": "stdout",
     "output_type": "stream",
     "text": [
      "+-------+--------------------+------------------+-------------+\n",
      "|movieId|               title|        avg_rating|total_ratings|\n",
      "+-------+--------------------+------------------+-------------+\n",
      "|    356| Forrest Gump (1994)| 4.164133738601824|          329|\n",
      "|    318|Shawshank Redempt...| 4.429022082018927|          317|\n",
      "|    296| Pulp Fiction (1994)| 4.197068403908795|          307|\n",
      "|    593|Silence of the La...| 4.161290322580645|          279|\n",
      "|   2571|  Matrix, The (1999)| 4.192446043165468|          278|\n",
      "|    260|Star Wars: Episod...| 4.231075697211155|          251|\n",
      "|    480|Jurassic Park (1993)|              3.75|          238|\n",
      "|    110|   Braveheart (1995)| 4.031645569620253|          237|\n",
      "|    589|Terminator 2: Jud...| 3.970982142857143|          224|\n",
      "|    527|Schindler's List ...|             4.225|          220|\n",
      "|   2959|   Fight Club (1999)| 4.272935779816514|          218|\n",
      "|      1|    Toy Story (1995)|3.9209302325581397|          215|\n",
      "|   1196|Star Wars: Episod...|4.2156398104265405|          211|\n",
      "|     50|Usual Suspects, T...| 4.237745098039215|          204|\n",
      "|   2858|American Beauty (...| 4.056372549019608|          204|\n",
      "|     47|Seven (a.k.a. Se7...|3.9753694581280787|          203|\n",
      "|    150|    Apollo 13 (1995)| 3.845771144278607|          201|\n",
      "|   1198|Raiders of the Lo...|            4.2075|          200|\n",
      "|   4993|Lord of the Rings...| 4.106060606060606|          198|\n",
      "|   1210|Star Wars: Episod...| 4.137755102040816|          196|\n",
      "|    858|Godfather, The (1...|         4.2890625|          192|\n",
      "|    457|Fugitive, The (1993)|3.9921052631578946|          190|\n",
      "|   2028|Saving Private Ry...|4.1462765957446805|          188|\n",
      "|   5952|Lord of the Rings...|4.0212765957446805|          188|\n",
      "|   7153|Lord of the Rings...| 4.118918918918919|          185|\n",
      "|    588|      Aladdin (1992)|3.7923497267759565|          183|\n",
      "|    608|        Fargo (1996)| 4.116022099447513|          181|\n",
      "|   2762|Sixth Sense, The ...| 3.893854748603352|          179|\n",
      "|     32|Twelve Monkeys (a...| 3.983050847457627|          177|\n",
      "|    364|Lion King, The (1...| 3.941860465116279|          172|\n",
      "|    377|        Speed (1994)|3.5292397660818713|          171|\n",
      "|   1270|Back to the Futur...| 4.038011695906433|          171|\n",
      "|   3578|    Gladiator (2000)|3.9382352941176473|          170|\n",
      "|   4306|        Shrek (2001)|3.8676470588235294|          170|\n",
      "|    590|Dances with Wolve...|3.8353658536585367|          164|\n",
      "|    648|Mission: Impossib...| 3.537037037037037|          162|\n",
      "|   4226|      Memento (2000)| 4.122641509433962|          159|\n",
      "|   6539|Pirates of the Ca...| 3.778523489932886|          149|\n",
      "|  58559|Dark Knight, The ...| 4.238255033557047|          149|\n",
      "|    595|Beauty and the Be...|3.7705479452054793|          146|\n",
      "|   1214|        Alien (1979)| 3.969178082191781|          146|\n",
      "|   1036|     Die Hard (1988)|3.8620689655172415|          145|\n",
      "|    165|Die Hard: With a ...|3.5555555555555554|          144|\n",
      "|   1265|Groundhog Day (1993)| 3.944055944055944|          143|\n",
      "|  79132|    Inception (2010)| 4.066433566433567|          143|\n",
      "|   1197|Princess Bride, T...| 4.232394366197183|          142|\n",
      "|   1704|Good Will Hunting...| 4.078014184397163|          141|\n",
      "|   6377| Finding Nemo (2003)|3.9609929078014185|          141|\n",
      "|   1291|Indiana Jones and...| 4.046428571428572|          140|\n",
      "|   1136|Monty Python and ...| 4.161764705882353|          136|\n",
      "|    293|Léon: The Profess...| 4.018796992481203|          133|\n",
      "|   1193|One Flew Over the...| 4.203007518796992|          133|\n",
      "|   3793|        X-Men (2000)| 3.699248120300752|          133|\n",
      "|   4886|Monsters, Inc. (2...| 3.871212121212121|          132|\n",
      "|   1089|Reservoir Dogs (1...| 4.202290076335878|          131|\n",
      "|   1240|Terminator, The (...|3.8969465648854964|          131|\n",
      "|   6874|Kill Bill: Vol. 1...|3.9618320610687023|          131|\n",
      "|   7361|Eternal Sunshine ...|4.1603053435114505|          131|\n",
      "|   1221|Godfather: Part I...|  4.25968992248062|          129|\n",
      "|   2329|American History ...| 4.217054263565892|          129|\n",
      "|     34|         Babe (1995)|        3.65234375|          128|\n",
      "|   1200|       Aliens (1986)|3.9642857142857144|          126|\n",
      "|   1213|   Goodfellas (1990)|              4.25|          126|\n",
      "|   1682|Truman Show, The ...|             3.812|          125|\n",
      "|   8961|Incredibles, The ...|             3.836|          125|\n",
      "|    541| Blade Runner (1982)| 4.100806451612903|          124|\n",
      "|   4995|Beautiful Mind, A...|               4.0|          123|\n",
      "|   1097|E.T. the Extra-Te...|3.7663934426229506|          122|\n",
      "|   5349|   Spider-Man (2002)| 3.540983606557377|          122|\n",
      "|    733|    Rock, The (1996)|3.6404958677685952|          121|\n",
      "|   1206|Clockwork Orange,...| 3.995833333333333|          120|\n",
      "|   2716|Ghostbusters (a.k...|             3.775|          120|\n",
      "|   4973|Amelie (Fabuleux ...| 4.183333333333334|          120|\n",
      "|   5445|Minority Report (...|            3.6375|          120|\n",
      "|   1073|Willy Wonka & the...|3.8739495798319328|          119|\n",
      "|   4963|Ocean's Eleven (2...|3.8445378151260505|          119|\n",
      "|   1527|Fifth Element, Th...|3.7456896551724137|          116|\n",
      "|  33794|Batman Begins (2005)|3.8620689655172415|          116|\n",
      "|   5989|Catch Me If You C...|3.9217391304347826|          115|\n",
      "|   1968|Breakfast Club, T...|3.7787610619469025|          113|\n",
      "|   5418|Bourne Identity, ...|3.8169642857142856|          112|\n",
      "|   3147|Green Mile, The (...| 4.148648648648648|          111|\n",
      "|    349|Clear and Present...|3.6045454545454545|          110|\n",
      "|   3996|Crouching Tiger, ...|3.8363636363636364|          110|\n",
      "|   7438|Kill Bill: Vol. 2...| 3.868181818181818|          110|\n",
      "|    924|2001: A Space Ody...|3.8944954128440368|          109|\n",
      "|   1258| Shining, The (1980)|  4.08256880733945|          109|\n",
      "|   2918|Ferris Bueller's ...|3.8394495412844036|          109|\n",
      "|   4878| Donnie Darko (2001)| 3.981651376146789|          109|\n",
      "|   2115|Indiana Jones and...| 3.638888888888889|          108|\n",
      "|   1208|Apocalypse Now (1...| 4.219626168224299|          107|\n",
      "|   4896|Harry Potter and ...|3.7616822429906542|          107|\n",
      "|  48516|Departed, The (2006)| 4.252336448598131|          107|\n",
      "|   1732|Big Lebowski, The...|3.9245283018867925|          106|\n",
      "|   1923|There's Something...| 3.676190476190476|          105|\n",
      "|  68954|           Up (2009)| 4.004761904761905|          105|\n",
      "|    111|  Taxi Driver (1976)| 4.105769230769231|          104|\n",
      "|    223|       Clerks (1994)| 3.855769230769231|          104|\n",
      "|  60069|       WALL·E (2008)|4.0576923076923075|          104|\n",
      "|    161| Crimson Tide (1995)|3.6359223300970873|          103|\n",
      "+-------+--------------------+------------------+-------------+\n",
      "only showing top 100 rows\n",
      "\n"
     ]
    }
   ],
   "source": [
    "# join, inner join \n",
    "# get the movie title for the mostPopularMoviesDf\n",
    "# join mostPopularMoviesDf with movieDf based on condition that mostPopularMoviesDf.movieId == movieDf.movieId\n",
    "\n",
    "popularMoviesDf = mostPopularMoviesDf.join(movieDf, mostPopularMoviesDf.movieId == movieDf.movieId)\\\n",
    "                                     .select(movieDf.movieId, \"title\", \"avg_rating\", \"total_ratings\")\\\n",
    "                                     .sort(desc(\"total_ratings\"))\n",
    "\n",
    "popularMoviesDf.cache()\n",
    "\n",
    "popularMoviesDf.show(100)"
   ]
  },
  {
   "cell_type": "code",
   "execution_count": 26,
   "id": "fcb3f858-0c16-4ab6-9e10-24b29691ea6b",
   "metadata": {},
   "outputs": [
    {
     "data": {
      "text/plain": [
       "72"
      ]
     },
     "execution_count": 26,
     "metadata": {},
     "output_type": "execute_result"
    }
   ],
   "source": [
    "popularMoviesDf.rdd.getNumPartitions()\n",
    "#popularMoviesDf.rdd.glom().collect()"
   ]
  },
  {
   "cell_type": "code",
   "execution_count": 27,
   "id": "1dbb6342-8f4b-46e8-b9e4-7509fe7185f6",
   "metadata": {},
   "outputs": [],
   "source": [
    "df = popularMoviesDf.coalesce(1)"
   ]
  },
  {
   "cell_type": "code",
   "execution_count": 29,
   "id": "147d6de6-0cc0-45b0-b8a6-d226bff1cf48",
   "metadata": {},
   "outputs": [
    {
     "name": "stdout",
     "output_type": "stream",
     "text": [
      "1\n"
     ]
    }
   ],
   "source": [
    "print(df.rdd.getNumPartitions())"
   ]
  },
  {
   "cell_type": "code",
   "execution_count": 30,
   "id": "af67876f-926c-4d50-a4f7-5ffd9896a0da",
   "metadata": {},
   "outputs": [
    {
     "name": "stderr",
     "output_type": "stream",
     "text": [
      "                                                                                \r"
     ]
    },
    {
     "data": {
      "text/plain": [
       "[[Row(movieId=356, title='Forrest Gump (1994)', avg_rating=4.164133738601824, total_ratings=329),\n",
       "  Row(movieId=318, title='Shawshank Redemption, The (1994)', avg_rating=4.429022082018927, total_ratings=317),\n",
       "  Row(movieId=296, title='Pulp Fiction (1994)', avg_rating=4.197068403908795, total_ratings=307),\n",
       "  Row(movieId=593, title='Silence of the Lambs, The (1991)', avg_rating=4.161290322580645, total_ratings=279),\n",
       "  Row(movieId=2571, title='Matrix, The (1999)', avg_rating=4.192446043165468, total_ratings=278),\n",
       "  Row(movieId=260, title='Star Wars: Episode IV - A New Hope (1977)', avg_rating=4.231075697211155, total_ratings=251),\n",
       "  Row(movieId=480, title='Jurassic Park (1993)', avg_rating=3.75, total_ratings=238),\n",
       "  Row(movieId=110, title='Braveheart (1995)', avg_rating=4.031645569620253, total_ratings=237),\n",
       "  Row(movieId=589, title='Terminator 2: Judgment Day (1991)', avg_rating=3.970982142857143, total_ratings=224),\n",
       "  Row(movieId=527, title=\"Schindler's List (1993)\", avg_rating=4.225, total_ratings=220),\n",
       "  Row(movieId=2959, title='Fight Club (1999)', avg_rating=4.272935779816514, total_ratings=218),\n",
       "  Row(movieId=1, title='Toy Story (1995)', avg_rating=3.9209302325581397, total_ratings=215),\n",
       "  Row(movieId=1196, title='Star Wars: Episode V - The Empire Strikes Back (1980)', avg_rating=4.2156398104265405, total_ratings=211),\n",
       "  Row(movieId=50, title='Usual Suspects, The (1995)', avg_rating=4.237745098039215, total_ratings=204),\n",
       "  Row(movieId=2858, title='American Beauty (1999)', avg_rating=4.056372549019608, total_ratings=204),\n",
       "  Row(movieId=47, title='Seven (a.k.a. Se7en) (1995)', avg_rating=3.9753694581280787, total_ratings=203),\n",
       "  Row(movieId=150, title='Apollo 13 (1995)', avg_rating=3.845771144278607, total_ratings=201),\n",
       "  Row(movieId=1198, title='Raiders of the Lost Ark (Indiana Jones and the Raiders of the Lost Ark) (1981)', avg_rating=4.2075, total_ratings=200),\n",
       "  Row(movieId=4993, title='Lord of the Rings: The Fellowship of the Ring, The (2001)', avg_rating=4.106060606060606, total_ratings=198),\n",
       "  Row(movieId=1210, title='Star Wars: Episode VI - Return of the Jedi (1983)', avg_rating=4.137755102040816, total_ratings=196),\n",
       "  Row(movieId=858, title='Godfather, The (1972)', avg_rating=4.2890625, total_ratings=192),\n",
       "  Row(movieId=457, title='Fugitive, The (1993)', avg_rating=3.9921052631578946, total_ratings=190),\n",
       "  Row(movieId=2028, title='Saving Private Ryan (1998)', avg_rating=4.1462765957446805, total_ratings=188),\n",
       "  Row(movieId=5952, title='Lord of the Rings: The Two Towers, The (2002)', avg_rating=4.0212765957446805, total_ratings=188),\n",
       "  Row(movieId=7153, title='Lord of the Rings: The Return of the King, The (2003)', avg_rating=4.118918918918919, total_ratings=185),\n",
       "  Row(movieId=588, title='Aladdin (1992)', avg_rating=3.7923497267759565, total_ratings=183),\n",
       "  Row(movieId=608, title='Fargo (1996)', avg_rating=4.116022099447513, total_ratings=181),\n",
       "  Row(movieId=2762, title='Sixth Sense, The (1999)', avg_rating=3.893854748603352, total_ratings=179),\n",
       "  Row(movieId=32, title='Twelve Monkeys (a.k.a. 12 Monkeys) (1995)', avg_rating=3.983050847457627, total_ratings=177),\n",
       "  Row(movieId=364, title='Lion King, The (1994)', avg_rating=3.941860465116279, total_ratings=172),\n",
       "  Row(movieId=377, title='Speed (1994)', avg_rating=3.5292397660818713, total_ratings=171),\n",
       "  Row(movieId=1270, title='Back to the Future (1985)', avg_rating=4.038011695906433, total_ratings=171),\n",
       "  Row(movieId=3578, title='Gladiator (2000)', avg_rating=3.9382352941176473, total_ratings=170),\n",
       "  Row(movieId=4306, title='Shrek (2001)', avg_rating=3.8676470588235294, total_ratings=170),\n",
       "  Row(movieId=590, title='Dances with Wolves (1990)', avg_rating=3.8353658536585367, total_ratings=164),\n",
       "  Row(movieId=648, title='Mission: Impossible (1996)', avg_rating=3.537037037037037, total_ratings=162),\n",
       "  Row(movieId=4226, title='Memento (2000)', avg_rating=4.122641509433962, total_ratings=159),\n",
       "  Row(movieId=6539, title='Pirates of the Caribbean: The Curse of the Black Pearl (2003)', avg_rating=3.778523489932886, total_ratings=149),\n",
       "  Row(movieId=58559, title='Dark Knight, The (2008)', avg_rating=4.238255033557047, total_ratings=149),\n",
       "  Row(movieId=595, title='Beauty and the Beast (1991)', avg_rating=3.7705479452054793, total_ratings=146),\n",
       "  Row(movieId=1214, title='Alien (1979)', avg_rating=3.969178082191781, total_ratings=146),\n",
       "  Row(movieId=1036, title='Die Hard (1988)', avg_rating=3.8620689655172415, total_ratings=145),\n",
       "  Row(movieId=165, title='Die Hard: With a Vengeance (1995)', avg_rating=3.5555555555555554, total_ratings=144),\n",
       "  Row(movieId=1265, title='Groundhog Day (1993)', avg_rating=3.944055944055944, total_ratings=143),\n",
       "  Row(movieId=79132, title='Inception (2010)', avg_rating=4.066433566433567, total_ratings=143),\n",
       "  Row(movieId=1197, title='Princess Bride, The (1987)', avg_rating=4.232394366197183, total_ratings=142),\n",
       "  Row(movieId=1704, title='Good Will Hunting (1997)', avg_rating=4.078014184397163, total_ratings=141),\n",
       "  Row(movieId=6377, title='Finding Nemo (2003)', avg_rating=3.9609929078014185, total_ratings=141),\n",
       "  Row(movieId=1291, title='Indiana Jones and the Last Crusade (1989)', avg_rating=4.046428571428572, total_ratings=140),\n",
       "  Row(movieId=1136, title='Monty Python and the Holy Grail (1975)', avg_rating=4.161764705882353, total_ratings=136),\n",
       "  Row(movieId=293, title='Léon: The Professional (a.k.a. The Professional) (Léon) (1994)', avg_rating=4.018796992481203, total_ratings=133),\n",
       "  Row(movieId=1193, title=\"One Flew Over the Cuckoo's Nest (1975)\", avg_rating=4.203007518796992, total_ratings=133),\n",
       "  Row(movieId=3793, title='X-Men (2000)', avg_rating=3.699248120300752, total_ratings=133),\n",
       "  Row(movieId=4886, title='Monsters, Inc. (2001)', avg_rating=3.871212121212121, total_ratings=132),\n",
       "  Row(movieId=1089, title='Reservoir Dogs (1992)', avg_rating=4.202290076335878, total_ratings=131),\n",
       "  Row(movieId=1240, title='Terminator, The (1984)', avg_rating=3.8969465648854964, total_ratings=131),\n",
       "  Row(movieId=6874, title='Kill Bill: Vol. 1 (2003)', avg_rating=3.9618320610687023, total_ratings=131),\n",
       "  Row(movieId=7361, title='Eternal Sunshine of the Spotless Mind (2004)', avg_rating=4.1603053435114505, total_ratings=131),\n",
       "  Row(movieId=1221, title='Godfather: Part II, The (1974)', avg_rating=4.25968992248062, total_ratings=129),\n",
       "  Row(movieId=2329, title='American History X (1998)', avg_rating=4.217054263565892, total_ratings=129),\n",
       "  Row(movieId=34, title='Babe (1995)', avg_rating=3.65234375, total_ratings=128),\n",
       "  Row(movieId=1200, title='Aliens (1986)', avg_rating=3.9642857142857144, total_ratings=126),\n",
       "  Row(movieId=1213, title='Goodfellas (1990)', avg_rating=4.25, total_ratings=126),\n",
       "  Row(movieId=1682, title='Truman Show, The (1998)', avg_rating=3.812, total_ratings=125),\n",
       "  Row(movieId=8961, title='Incredibles, The (2004)', avg_rating=3.836, total_ratings=125),\n",
       "  Row(movieId=541, title='Blade Runner (1982)', avg_rating=4.100806451612903, total_ratings=124),\n",
       "  Row(movieId=4995, title='Beautiful Mind, A (2001)', avg_rating=4.0, total_ratings=123),\n",
       "  Row(movieId=1097, title='E.T. the Extra-Terrestrial (1982)', avg_rating=3.7663934426229506, total_ratings=122),\n",
       "  Row(movieId=5349, title='Spider-Man (2002)', avg_rating=3.540983606557377, total_ratings=122),\n",
       "  Row(movieId=733, title='Rock, The (1996)', avg_rating=3.6404958677685952, total_ratings=121),\n",
       "  Row(movieId=1206, title='Clockwork Orange, A (1971)', avg_rating=3.995833333333333, total_ratings=120),\n",
       "  Row(movieId=2716, title='Ghostbusters (a.k.a. Ghost Busters) (1984)', avg_rating=3.775, total_ratings=120),\n",
       "  Row(movieId=4973, title=\"Amelie (Fabuleux destin d'Amélie Poulain, Le) (2001)\", avg_rating=4.183333333333334, total_ratings=120),\n",
       "  Row(movieId=5445, title='Minority Report (2002)', avg_rating=3.6375, total_ratings=120),\n",
       "  Row(movieId=1073, title='Willy Wonka & the Chocolate Factory (1971)', avg_rating=3.8739495798319328, total_ratings=119),\n",
       "  Row(movieId=4963, title=\"Ocean's Eleven (2001)\", avg_rating=3.8445378151260505, total_ratings=119),\n",
       "  Row(movieId=1527, title='Fifth Element, The (1997)', avg_rating=3.7456896551724137, total_ratings=116),\n",
       "  Row(movieId=33794, title='Batman Begins (2005)', avg_rating=3.8620689655172415, total_ratings=116),\n",
       "  Row(movieId=5989, title='Catch Me If You Can (2002)', avg_rating=3.9217391304347826, total_ratings=115),\n",
       "  Row(movieId=1968, title='Breakfast Club, The (1985)', avg_rating=3.7787610619469025, total_ratings=113),\n",
       "  Row(movieId=5418, title='Bourne Identity, The (2002)', avg_rating=3.8169642857142856, total_ratings=112),\n",
       "  Row(movieId=3147, title='Green Mile, The (1999)', avg_rating=4.148648648648648, total_ratings=111),\n",
       "  Row(movieId=349, title='Clear and Present Danger (1994)', avg_rating=3.6045454545454545, total_ratings=110),\n",
       "  Row(movieId=3996, title='Crouching Tiger, Hidden Dragon (Wo hu cang long) (2000)', avg_rating=3.8363636363636364, total_ratings=110),\n",
       "  Row(movieId=7438, title='Kill Bill: Vol. 2 (2004)', avg_rating=3.868181818181818, total_ratings=110),\n",
       "  Row(movieId=924, title='2001: A Space Odyssey (1968)', avg_rating=3.8944954128440368, total_ratings=109),\n",
       "  Row(movieId=1258, title='Shining, The (1980)', avg_rating=4.08256880733945, total_ratings=109),\n",
       "  Row(movieId=2918, title=\"Ferris Bueller's Day Off (1986)\", avg_rating=3.8394495412844036, total_ratings=109),\n",
       "  Row(movieId=4878, title='Donnie Darko (2001)', avg_rating=3.981651376146789, total_ratings=109),\n",
       "  Row(movieId=2115, title='Indiana Jones and the Temple of Doom (1984)', avg_rating=3.638888888888889, total_ratings=108),\n",
       "  Row(movieId=1208, title='Apocalypse Now (1979)', avg_rating=4.219626168224299, total_ratings=107),\n",
       "  Row(movieId=4896, title=\"Harry Potter and the Sorcerer's Stone (a.k.a. Harry Potter and the Philosopher's Stone) (2001)\", avg_rating=3.7616822429906542, total_ratings=107),\n",
       "  Row(movieId=48516, title='Departed, The (2006)', avg_rating=4.252336448598131, total_ratings=107),\n",
       "  Row(movieId=1732, title='Big Lebowski, The (1998)', avg_rating=3.9245283018867925, total_ratings=106),\n",
       "  Row(movieId=1923, title=\"There's Something About Mary (1998)\", avg_rating=3.676190476190476, total_ratings=105),\n",
       "  Row(movieId=68954, title='Up (2009)', avg_rating=4.004761904761905, total_ratings=105),\n",
       "  Row(movieId=111, title='Taxi Driver (1976)', avg_rating=4.105769230769231, total_ratings=104),\n",
       "  Row(movieId=223, title='Clerks (1994)', avg_rating=3.855769230769231, total_ratings=104),\n",
       "  Row(movieId=60069, title='WALL·E (2008)', avg_rating=4.0576923076923075, total_ratings=104),\n",
       "  Row(movieId=161, title='Crimson Tide (1995)', avg_rating=3.6359223300970873, total_ratings=103),\n",
       "  Row(movieId=357, title='Four Weddings and a Funeral (1994)', avg_rating=3.5194174757281553, total_ratings=103),\n",
       "  Row(movieId=6, title='Heat (1995)', avg_rating=3.946078431372549, total_ratings=102),\n",
       "  Row(movieId=778, title='Trainspotting (1996)', avg_rating=4.03921568627451, total_ratings=102),\n",
       "  Row(movieId=1222, title='Full Metal Jacket (1987)', avg_rating=4.098039215686274, total_ratings=102),\n",
       "  Row(movieId=5816, title='Harry Potter and the Chamber of Secrets (2002)', avg_rating=3.5980392156862746, total_ratings=102),\n",
       "  Row(movieId=454, title='Firm, The (1993)', avg_rating=3.5346534653465347, total_ratings=101),\n",
       "  Row(movieId=912, title='Casablanca (1942)', avg_rating=4.24, total_ratings=100),\n",
       "  Row(movieId=1517, title='Austin Powers: International Man of Mystery (1997)', avg_rating=3.535, total_ratings=100),\n",
       "  Row(movieId=4022, title='Cast Away (2000)', avg_rating=3.7, total_ratings=100),\n",
       "  Row(movieId=44191, title='V for Vendetta (2006)', avg_rating=3.885, total_ratings=100)]]"
      ]
     },
     "execution_count": 30,
     "metadata": {},
     "output_type": "execute_result"
    }
   ],
   "source": [
    "df.rdd.glom().collect()"
   ]
  },
  {
   "cell_type": "code",
   "execution_count": 31,
   "id": "5c5671ff-a806-4c88-83af-a2a2cf7e5498",
   "metadata": {},
   "outputs": [
    {
     "name": "stderr",
     "output_type": "stream",
     "text": [
      "                                                                                \r"
     ]
    }
   ],
   "source": [
    "# write popularMoviesDf to hadoop with header [by default headers shall not be written]\n",
    "# overwrite existing files\n",
    "# 70 plus partitions having approx total of 100 plus records\n",
    "# write 70 plus files into hadoop\n",
    "popularMoviesDf.write.mode(\"overwrite\")\\\n",
    "                .option(\"header\", True)\\\n",
    "                .csv(\"hdfs://localhost:9000/most-popular-movies-many-files\")"
   ]
  },
  {
   "cell_type": "code",
   "execution_count": 32,
   "id": "173c1e87-f9ad-42d1-98a6-f88ccdb92257",
   "metadata": {},
   "outputs": [],
   "source": [
    "# write popularMoviesDf into single file\n",
    "# coalesce(1) to reduce partitions\n",
    "popularMoviesDf.coalesce(1).write.mode(\"overwrite\")\\\n",
    "                .option(\"header\", True)\\\n",
    "                .csv(\"hdfs://localhost:9000/most-popular-movies\")"
   ]
  },
  {
   "cell_type": "code",
   "execution_count": 33,
   "id": "ae6cdebb-00c5-4611-b7f3-3a65133d6202",
   "metadata": {},
   "outputs": [
    {
     "name": "stderr",
     "output_type": "stream",
     "text": [
      "                                                                                \r"
     ]
    },
    {
     "name": "stdout",
     "output_type": "stream",
     "text": [
      "root\n",
      " |-- movieId: integer (nullable = true)\n",
      " |-- title: string (nullable = true)\n",
      " |-- avg_rating: double (nullable = true)\n",
      " |-- total_ratings: integer (nullable = true)\n",
      "\n",
      "Partitions 3\n",
      "+-------+--------------------+------------------+-------------+\n",
      "|movieId|               title|        avg_rating|total_ratings|\n",
      "+-------+--------------------+------------------+-------------+\n",
      "|   1206|Clockwork Orange,...| 3.995833333333333|          120|\n",
      "|   2716|Ghostbusters (a.k...|             3.775|          120|\n",
      "|   4973|Amelie (Fabuleux ...| 4.183333333333334|          120|\n",
      "|   5445|Minority Report (...|            3.6375|          120|\n",
      "|   1089|Reservoir Dogs (1...| 4.202290076335878|          131|\n",
      "|   1240|Terminator, The (...|3.8969465648854964|          131|\n",
      "|   6874|Kill Bill: Vol. 1...|3.9618320610687023|          131|\n",
      "|   7361|Eternal Sunshine ...|4.1603053435114505|          131|\n",
      "|   1208|Apocalypse Now (1...| 4.219626168224299|          107|\n",
      "|   4896|Harry Potter and ...|3.7616822429906542|          107|\n",
      "|  48516|Departed, The (2006)| 4.252336448598131|          107|\n",
      "|    924|2001: A Space Ody...|3.8944954128440368|          109|\n",
      "|   1258| Shining, The (1980)|  4.08256880733945|          109|\n",
      "|   2918|Ferris Bueller's ...|3.8394495412844036|          109|\n",
      "|   4878| Donnie Darko (2001)| 3.981651376146789|          109|\n",
      "|      6|         Heat (1995)| 3.946078431372549|          102|\n",
      "|    778|Trainspotting (1996)|  4.03921568627451|          102|\n",
      "|   1222|Full Metal Jacket...| 4.098039215686274|          102|\n",
      "|   5816|Harry Potter and ...|3.5980392156862746|          102|\n",
      "|    293|Léon: The Profess...| 4.018796992481203|          133|\n",
      "+-------+--------------------+------------------+-------------+\n",
      "only showing top 20 rows\n",
      "\n"
     ]
    }
   ],
   "source": [
    "# inferSchema will scan csvs and define data types for  youy schema\n",
    "popularMovies = spark.read.format(\"csv\")\\\n",
    "                .option(\"header\", True)\\\n",
    "                .option(\"inferSchema\", True)\\\n",
    "                .load(\"hdfs://localhost:9000/most-popular-movies-many-files\")\n",
    "\n",
    "popularMovies.printSchema()\n",
    "print(\"Partitions\", popularMovies.rdd.getNumPartitions())\n",
    "popularMovies.show()"
   ]
  },
  {
   "cell_type": "code",
   "execution_count": 6,
   "id": "87b97bbc-32fd-49a2-9fdb-dfa47c3c84be",
   "metadata": {},
   "outputs": [
    {
     "name": "stdout",
     "output_type": "stream",
     "text": [
      "root\n",
      " |-- movieId: integer (nullable = true)\n",
      " |-- title: string (nullable = true)\n",
      " |-- avg_rating: double (nullable = true)\n",
      " |-- total_ratings: integer (nullable = true)\n",
      "\n",
      "Partitions 1\n",
      "+-------+--------------------+------------------+-------------+\n",
      "|movieId|               title|        avg_rating|total_ratings|\n",
      "+-------+--------------------+------------------+-------------+\n",
      "|    356| Forrest Gump (1994)| 4.164133738601824|          329|\n",
      "|    318|Shawshank Redempt...| 4.429022082018927|          317|\n",
      "|    296| Pulp Fiction (1994)| 4.197068403908795|          307|\n",
      "|    593|Silence of the La...| 4.161290322580645|          279|\n",
      "|   2571|  Matrix, The (1999)| 4.192446043165468|          278|\n",
      "|    260|Star Wars: Episod...| 4.231075697211155|          251|\n",
      "|    480|Jurassic Park (1993)|              3.75|          238|\n",
      "|    110|   Braveheart (1995)| 4.031645569620253|          237|\n",
      "|    589|Terminator 2: Jud...| 3.970982142857143|          224|\n",
      "|    527|Schindler's List ...|             4.225|          220|\n",
      "|   2959|   Fight Club (1999)| 4.272935779816514|          218|\n",
      "|      1|    Toy Story (1995)|3.9209302325581397|          215|\n",
      "|   1196|Star Wars: Episod...|4.2156398104265405|          211|\n",
      "|     50|Usual Suspects, T...| 4.237745098039215|          204|\n",
      "|   2858|American Beauty (...| 4.056372549019608|          204|\n",
      "|     47|Seven (a.k.a. Se7...|3.9753694581280787|          203|\n",
      "|    150|    Apollo 13 (1995)| 3.845771144278607|          201|\n",
      "|   1198|Raiders of the Lo...|            4.2075|          200|\n",
      "|   4993|Lord of the Rings...| 4.106060606060606|          198|\n",
      "|   1210|Star Wars: Episod...| 4.137755102040816|          196|\n",
      "+-------+--------------------+------------------+-------------+\n",
      "only showing top 20 rows\n",
      "\n"
     ]
    }
   ],
   "source": [
    "# inferSchema will scan csvs and define data types for  youy schema\n",
    "popularMovies = spark.read.format(\"csv\")\\\n",
    "                .option(\"header\", True)\\\n",
    "                .option(\"inferSchema\", True)\\\n",
    "                .load(\"hdfs://localhost:9000/most-popular-movies\")\n",
    "\n",
    "popularMovies.printSchema()\n",
    "print(\"Partitions\", popularMovies.rdd.getNumPartitions())\n",
    "popularMovies.show()"
   ]
  },
  {
   "cell_type": "code",
   "execution_count": 7,
   "id": "c39632a5-defe-4490-a9fa-a038f4f0ba9d",
   "metadata": {},
   "outputs": [
    {
     "name": "stdout",
     "output_type": "stream",
     "text": [
      "root\n",
      " |-- SYMBOL: string (nullable = true)\n",
      " |-- SERIES: string (nullable = true)\n",
      " |-- OPEN: double (nullable = true)\n",
      " |-- HIGH: double (nullable = true)\n",
      " |-- LOW: double (nullable = true)\n",
      " |-- CLOSE: double (nullable = true)\n",
      " |-- LAST: double (nullable = true)\n",
      " |-- PREVCLOSE: double (nullable = true)\n",
      " |-- TOTTRDQTY: integer (nullable = true)\n",
      " |-- TOTTRDVAL: double (nullable = true)\n",
      " |-- TIMESTAMP: string (nullable = true)\n",
      " |-- TOTALTRADES: integer (nullable = true)\n",
      " |-- ISIN: string (nullable = true)\n",
      " |-- _c13: string (nullable = true)\n",
      "\n",
      "Partitions 1\n",
      "+----------+------+-------+-------+-------+-------+-------+---------+---------+-------------+-----------+-----------+------------+----+\n",
      "|    SYMBOL|SERIES|   OPEN|   HIGH|    LOW|  CLOSE|   LAST|PREVCLOSE|TOTTRDQTY|    TOTTRDVAL|  TIMESTAMP|TOTALTRADES|        ISIN|_c13|\n",
      "+----------+------+-------+-------+-------+-------+-------+---------+---------+-------------+-----------+-----------+------------+----+\n",
      "| 20MICRONS|    EQ|   70.1|   73.6|   70.1|  71.85|  72.05|     71.2|   219912|1.583125505E7|02-MAR-2022|       2642|INE144J01027|null|\n",
      "|21STCENMGM|    EQ|   29.6|   29.6|   29.6|   29.6|   29.6|     30.2|     1209|      35786.4|02-MAR-2022|         45|INE253B01015|null|\n",
      "| 3IINFOLTD|    EQ|  51.05|  51.35|   49.1|  49.45|   49.4|    51.45|  1092731| 5.46426994E7|02-MAR-2022|       7273|INE748C01038|null|\n",
      "|   3MINDIA|    EQ|21480.0|21480.0|20730.0|20923.1|20925.0|  21208.4|     1823|3.829445575E7|02-MAR-2022|       1120|INE470A01017|null|\n",
      "|    3PLAND|    BE|   15.9|  16.15|   14.8|   15.5|  15.65|    15.55|     8318|     128580.0|02-MAR-2022|         70|INE105C01023|null|\n",
      "|    5PAISA|    EQ| 329.65| 332.95|  323.0|  324.4|  325.0|   329.65|    26781|    8742489.6|02-MAR-2022|        753|INE618L01018|null|\n",
      "|   63MOONS|    BE|  205.0| 210.95| 201.85| 204.15|  207.0|   212.45|    56165| 1.14652762E7|02-MAR-2022|       1048|INE111B01023|null|\n",
      "| 667GS2050|    GS|   97.9|   97.9|   97.0|   97.0|   97.0|    97.79|     6795|    660945.55|02-MAR-2022|          8|IN0020200252|null|\n",
      "| 676GS2061|    GS|  96.55|  100.0|  96.55|  100.0|  100.0|    95.25|      210|      20310.0|02-MAR-2022|          2|IN0020200401|null|\n",
      "| 699GS2051|    GS|   99.5|  101.0|   99.5|  101.0|  101.0|    99.05|      101|      10051.0|02-MAR-2022|          2|IN0020210194|null|\n",
      "| 717GS2028|    GS|  103.2|  103.2|  103.2|  103.2|  103.2|    103.0|     3000|     309600.0|02-MAR-2022|          1|IN0020170174|null|\n",
      "| 726GS2029|    GS| 101.21| 101.21| 101.21| 101.21| 101.21|    101.2|       50|       5060.5|02-MAR-2022|          1|IN0020180454|null|\n",
      "| 737GS2023|    GS|  95.61|   96.7|  95.61|   96.0|   96.0|    100.5|      150|      14429.5|02-MAR-2022|          4|IN0020180025|null|\n",
      "| 772GS2055|    GS|  114.5|  114.5|  114.5|  114.5|  114.5|    115.0|        2|        229.0|02-MAR-2022|          1|IN0020150077|null|\n",
      "| 795GS2032|    GS|  117.0|  117.0|  117.0|  117.0|  117.0|    116.0|        2|        234.0|02-MAR-2022|          1|IN0020020106|null|\n",
      "| 817GS2044|    GS|  115.0|  118.5|  115.0|  118.5|  118.5|    113.0|        8|        937.5|02-MAR-2022|          2|IN0020140078|null|\n",
      "| 824GS2027|    GS|  104.0| 104.11|  104.0| 104.11| 104.11|    109.0|      100|      10405.5|02-MAR-2022|          2|IN0020060078|null|\n",
      "|  A2ZINFRA|    EQ|    9.6|    9.8|   9.45|    9.8|    9.8|     9.35|   555528|    5411088.6|02-MAR-2022|        758|INE619I01012|null|\n",
      "|   AAATECH|    SM|   66.0|   71.0|   66.0|   69.5|   71.0|     67.0|     9000|     615000.0|02-MAR-2022|          3|INE0D0U01013|null|\n",
      "|    AAKASH|    BE|  30.15|  30.15|   27.9|  29.75|   29.8|     29.1|    76613|   2254733.25|02-MAR-2022|        290|INE087Z01024|null|\n",
      "+----------+------+-------+-------+-------+-------+-------+---------+---------+-------------+-----------+-----------+------------+----+\n",
      "only showing top 20 rows\n",
      "\n"
     ]
    },
    {
     "name": "stderr",
     "output_type": "stream",
     "text": [
      "22/05/11 22:37:55 WARN CSVHeaderChecker: CSV header does not conform to the schema.\n",
      " Header: SYMBOL, SERIES, OPEN, HIGH, LOW, CLOSE, LAST, PREVCLOSE, TOTTRDQTY, TOTTRDVAL, TIMESTAMP, TOTALTRADES, ISIN, \n",
      " Schema: SYMBOL, SERIES, OPEN, HIGH, LOW, CLOSE, LAST, PREVCLOSE, TOTTRDQTY, TOTTRDVAL, TIMESTAMP, TOTALTRADES, ISIN, _c13\n",
      "Expected: _c13 but found: \n",
      "CSV file: hdfs://localhost:9000/stocks-main/daily/cm02MAR2022bhav.csv\n"
     ]
    }
   ],
   "source": [
    "# inferSchema will scan csvs and define data types for  youy schema\n",
    "stocksDaily = spark.read.format(\"csv\")\\\n",
    "                .option(\"header\", True)\\\n",
    "                .option(\"inferSchema\", True)\\\n",
    "                .load(\"hdfs://localhost:9000/stocks-main/daily\")\n",
    "\n",
    "stocksDaily.printSchema()\n",
    "print(\"Partitions\", stocksDaily.rdd.getNumPartitions())\n",
    "stocksDaily.show()"
   ]
  },
  {
   "cell_type": "code",
   "execution_count": 9,
   "id": "5d93c207-ab7e-4adf-a83f-0c7e27de4631",
   "metadata": {},
   "outputs": [
    {
     "name": "stdout",
     "output_type": "stream",
     "text": [
      "root\n",
      " |-- Company Name: string (nullable = true)\n",
      " |-- Industry: string (nullable = true)\n",
      " |-- Symbol: string (nullable = true)\n",
      " |-- Series: string (nullable = true)\n",
      " |-- ISIN Code: string (nullable = true)\n",
      "\n",
      "Partitions 1\n",
      "+--------------------+------------------+----------+------+------------+\n",
      "|        Company Name|          Industry|    Symbol|Series|   ISIN Code|\n",
      "+--------------------+------------------+----------+------+------------+\n",
      "|      Axis Bank Ltd.|FINANCIAL SERVICES|  AXISBANK|    EQ|INE238A01034|\n",
      "|  Bajaj Finance Ltd.|FINANCIAL SERVICES|BAJFINANCE|    EQ|INE296A01024|\n",
      "|  Bajaj Finserv Ltd.|FINANCIAL SERVICES|BAJAJFINSV|    EQ|INE918I01018|\n",
      "|Cholamandalam Inv...|FINANCIAL SERVICES|  CHOLAFIN|    EQ|INE121A01024|\n",
      "|HDFC Asset Manage...|FINANCIAL SERVICES|   HDFCAMC|    EQ|INE127D01025|\n",
      "|      HDFC Bank Ltd.|FINANCIAL SERVICES|  HDFCBANK|    EQ|INE040A01034|\n",
      "|HDFC Life Insuran...|FINANCIAL SERVICES|  HDFCLIFE|    EQ|INE795G01014|\n",
      "|Housing Developme...|FINANCIAL SERVICES|      HDFC|    EQ|INE001A01036|\n",
      "|     ICICI Bank Ltd.|FINANCIAL SERVICES| ICICIBANK|    EQ|INE090A01021|\n",
      "|ICICI Lombard Gen...|FINANCIAL SERVICES|   ICICIGI|    EQ|INE765G01017|\n",
      "|ICICI Prudential ...|FINANCIAL SERVICES|ICICIPRULI|    EQ|INE726G01019|\n",
      "|Kotak Mahindra Ba...|FINANCIAL SERVICES| KOTAKBANK|    EQ|INE237A01028|\n",
      "|Mahindra & Mahind...|FINANCIAL SERVICES|    M&MFIN|    EQ|INE774D01024|\n",
      "|Muthoot Finance Ltd.|FINANCIAL SERVICES|MUTHOOTFIN|    EQ|INE414G01012|\n",
      "|Piramal Enterpris...|FINANCIAL SERVICES|       PEL|    EQ|INE140A01024|\n",
      "|Power Finance Cor...|FINANCIAL SERVICES|       PFC|    EQ|INE134E01011|\n",
      "|            REC Ltd.|FINANCIAL SERVICES|    RECLTD|    EQ|INE020B01018|\n",
      "|SBI Life Insuranc...|FINANCIAL SERVICES|   SBILIFE|    EQ|INE123W01016|\n",
      "|Shriram Transport...|FINANCIAL SERVICES|SRTRANSFIN|    EQ|INE721A01013|\n",
      "| State Bank of India|FINANCIAL SERVICES|      SBIN|    EQ|INE062A01020|\n",
      "+--------------------+------------------+----------+------+------------+\n",
      "only showing top 20 rows\n",
      "\n"
     ]
    }
   ],
   "source": [
    "# inferSchema will scan csvs and define data types for  youy schema\n",
    "stocksSector = spark.read.format(\"csv\")\\\n",
    "                .option(\"header\", True)\\\n",
    "                .option(\"inferSchema\", True)\\\n",
    "                .load(\"hdfs://localhost:9000/stocks-main/sectors\")\n",
    "\n",
    "stocksSector.printSchema()\n",
    "print(\"Partitions\", stocksSector.rdd.getNumPartitions())\n",
    "stocksSector.show()"
   ]
  },
  {
   "cell_type": "code",
   "execution_count": 11,
   "id": "38b14f38-ceea-4ae1-b59d-ed5402a74a87",
   "metadata": {},
   "outputs": [
    {
     "name": "stdout",
     "output_type": "stream",
     "text": [
      "+----------+------+-------+--------+-------+--------+-------+---------+---------+---------------+-----------+-----------+------------+----+--------------------+-------------------+----------+------+------------+\n",
      "|    SYMBOL|SERIES|   OPEN|    HIGH|    LOW|   CLOSE|   LAST|PREVCLOSE|TOTTRDQTY|      TOTTRDVAL|  TIMESTAMP|TOTALTRADES|        ISIN|_c13|        Company Name|           Industry|    Symbol|Series|   ISIN Code|\n",
      "+----------+------+-------+--------+-------+--------+-------+---------+---------+---------------+-----------+-----------+------------+----+--------------------+-------------------+----------+------+------------+\n",
      "|ABBOTINDIA|    EQ|17500.0| 17500.0|16900.1|17200.25|17176.2|  17556.5|    29193| 5.0080170615E8|02-MAR-2022|      10804|INE358A01014|null|   Abbott India Ltd.|             PHARMA|ABBOTINDIA|    EQ|INE358A01014|\n",
      "|  ADANIENT|    EQ| 1638.0| 1664.25| 1615.5|  1641.8| 1647.0|  1644.45|  1249817| 2.0597624144E9|02-MAR-2022|      30797|INE423A01024|null|Adani Enterprises...|             METALS|  ADANIENT|    EQ|INE423A01024|\n",
      "|     ALKEM|    EQ| 3239.0|  3293.0| 3230.0|  3259.0| 3245.0|  3277.95|    22773|  7.427771475E7|02-MAR-2022|       3799|INE540L01014|null|Alkem Laboratorie...|             PHARMA|     ALKEM|    EQ|INE540L01014|\n",
      "|     ALKEM|    EQ| 3239.0|  3293.0| 3230.0|  3259.0| 3245.0|  3277.95|    22773|  7.427771475E7|02-MAR-2022|       3799|INE540L01014|null|Alkem Laboratorie...|             PHARMA|     ALKEM|    EQ|INE540L01014|\n",
      "|AMARAJABAT|    EQ|  560.0|  566.55|  550.0|   561.6| 563.25|   560.85|   470655| 2.6436820945E8|02-MAR-2022|      15164|INE885A01032|null|Amara Raja Batter...|         AUTOMOBILE|AMARAJABAT|    EQ|INE885A01032|\n",
      "|     AMBER|    EQ| 3420.0|  3549.0|3400.05| 3476.95|3447.05|   3481.8|    93523| 3.2624204855E8|02-MAR-2022|      18013|INE371P01015|null|Amber Enterprises...|     CONSUMER GOODS|     AMBER|    EQ|INE371P01015|\n",
      "| APLAPOLLO|    EQ| 840.95|   852.0|  828.3|  849.75|  848.1|    850.2|   267362|   2.25740415E8|02-MAR-2022|      25087|INE702C01027|null|APL Apollo Tubes ...|             METALS| APLAPOLLO|    EQ|INE702C01027|\n",
      "|    APLLTD|    EQ|  719.5|  739.55| 719.05|   735.6| 734.95|    725.3|   198357| 1.4572158625E8|02-MAR-2022|       6843|INE901L01018|null|Alembic Pharmaceu...|             PHARMA|    APLLTD|    EQ|INE901L01018|\n",
      "|    APLLTD|    EQ|  719.5|  739.55| 719.05|   735.6| 734.95|    725.3|   198357| 1.4572158625E8|02-MAR-2022|       6843|INE901L01018|null|Alembic Pharmaceu...|             PHARMA|    APLLTD|    EQ|INE901L01018|\n",
      "|APOLLOHOSP|    EQ| 4827.0| 4903.95| 4780.2| 4861.25|4862.15|   4802.8|  1194676|5.78960907555E9|02-MAR-2022|      92312|INE437A01024|null|Apollo Hospitals ...|HEALTHCARE SERVICES|APOLLOHOSP|    EQ|INE437A01024|\n",
      "|  ASHOKLEY|    EQ|  118.0|  118.35| 116.35|   117.9|  117.7|   118.65| 13299580|1.56376581585E9|02-MAR-2022|      67584|INE208A01029|null|  Ashok Leyland Ltd.|         AUTOMOBILE|  ASHOKLEY|    EQ|INE208A01029|\n",
      "|      ATGL|    EQ| 1592.0|  1667.9| 1550.3|  1667.9| 1667.9|   1588.5|   123179| 2.0358471965E8|02-MAR-2022|       5287|INE399L01023|null|Adani Total Gas Ltd.|          OIL & GAS|      ATGL|    EQ|INE399L01023|\n",
      "|    AUBANK|    EQ| 1185.0|  1221.0|1169.05| 1209.35| 1209.0|   1203.6|  1217121|1.45188610315E9|02-MAR-2022|      59942|INE949L01017|null|AU Small Finance ...| FINANCIAL SERVICES|    AUBANK|    EQ|INE949L01017|\n",
      "|AUROPHARMA|    EQ|  616.0|  625.95|  614.0|  620.15| 619.35|   625.25|  1459733|   9.04221542E8|02-MAR-2022|      32540|INE406A01037|null|Aurobindo Pharma ...|             PHARMA|AUROPHARMA|    EQ|INE406A01037|\n",
      "|AUROPHARMA|    EQ|  616.0|  625.95|  614.0|  620.15| 619.35|   625.25|  1459733|   9.04221542E8|02-MAR-2022|      32540|INE406A01037|null|Aurobindo Pharma ...|             PHARMA|AUROPHARMA|    EQ|INE406A01037|\n",
      "|  AXISBANK|    EQ|  728.7|  756.45|  725.0|  750.25| 753.25|    742.4| 11691602| 8.6334568352E9|02-MAR-2022|     208746|INE238A01034|null|      Axis Bank Ltd.| FINANCIAL SERVICES|  AXISBANK|    EQ|INE238A01034|\n",
      "|  AXISBANK|    EQ|  728.7|  756.45|  725.0|  750.25| 753.25|    742.4| 11691602| 8.6334568352E9|02-MAR-2022|     208746|INE238A01034|null|      Axis Bank Ltd.| FINANCIAL SERVICES|  AXISBANK|    EQ|INE238A01034|\n",
      "|  AXISBANK|    EQ|  728.7|  756.45|  725.0|  750.25| 753.25|    742.4| 11691602| 8.6334568352E9|02-MAR-2022|     208746|INE238A01034|null|      Axis Bank Ltd.| FINANCIAL SERVICES|  AXISBANK|    EQ|INE238A01034|\n",
      "|BAJAJ-AUTO|    EQ| 3498.3|  3498.3| 3333.0|  3372.3|3367.15|  3530.35|   982580|3.32836715025E9|02-MAR-2022|      86459|INE917I01010|null|     Bajaj Auto Ltd.|         AUTOMOBILE|BAJAJ-AUTO|    EQ|INE917I01010|\n",
      "|BAJAJFINSV|    EQ|15705.0|16157.15|15632.0| 16053.0|16070.0| 16012.55|   281715|4.46354837195E9|02-MAR-2022|      58311|INE918I01018|null|  Bajaj Finserv Ltd.| FINANCIAL SERVICES|BAJAJFINSV|    EQ|INE918I01018|\n",
      "+----------+------+-------+--------+-------+--------+-------+---------+---------+---------------+-----------+-----------+------------+----+--------------------+-------------------+----------+------+------------+\n",
      "only showing top 20 rows\n",
      "\n"
     ]
    },
    {
     "name": "stderr",
     "output_type": "stream",
     "text": [
      "22/05/11 22:42:57 WARN CSVHeaderChecker: CSV header does not conform to the schema.\n",
      " Header: SYMBOL, SERIES, OPEN, HIGH, LOW, CLOSE, LAST, PREVCLOSE, TOTTRDQTY, TOTTRDVAL, TIMESTAMP, TOTALTRADES, ISIN, \n",
      " Schema: SYMBOL, SERIES, OPEN, HIGH, LOW, CLOSE, LAST, PREVCLOSE, TOTTRDQTY, TOTTRDVAL, TIMESTAMP, TOTALTRADES, ISIN, _c13\n",
      "Expected: _c13 but found: \n",
      "CSV file: hdfs://localhost:9000/stocks-main/daily/cm02MAR2022bhav.csv\n"
     ]
    }
   ],
   "source": [
    "stocksDaily.join(stocksSector, stocksDaily[\"Symbol\"] ==  stocksSector[\"Symbol\"], \"inner\").show()\n"
   ]
  },
  {
   "cell_type": "code",
   "execution_count": null,
   "id": "e0b2a180-7eb1-495a-81de-7e7568c357da",
   "metadata": {},
   "outputs": [],
   "source": []
  }
 ],
 "metadata": {
  "kernelspec": {
   "display_name": "Python 3 (ipykernel)",
   "language": "python",
   "name": "python3"
  },
  "language_info": {
   "codemirror_mode": {
    "name": "ipython",
    "version": 3
   },
   "file_extension": ".py",
   "mimetype": "text/x-python",
   "name": "python",
   "nbconvert_exporter": "python",
   "pygments_lexer": "ipython3",
   "version": "3.8.12"
  }
 },
 "nbformat": 4,
 "nbformat_minor": 5
}
