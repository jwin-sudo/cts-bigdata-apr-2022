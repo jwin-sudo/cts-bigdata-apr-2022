{
 "cells": [
  {
   "cell_type": "code",
   "execution_count": 1,
   "id": "b0c96c30-01df-4991-b5a8-97137397d7e4",
   "metadata": {},
   "outputs": [],
   "source": [
    "import findspark\n",
    "findspark.init()"
   ]
  },
  {
   "cell_type": "code",
   "execution_count": 2,
   "id": "7e1eff7e-65c1-4e0b-a259-96681cf18c14",
   "metadata": {},
   "outputs": [
    {
     "name": "stderr",
     "output_type": "stream",
     "text": [
      "22/05/05 19:22:31 WARN Utils: Your hostname, ubuntu-virtual-machine resolves to a loopback address: 127.0.1.1; using 192.168.174.129 instead (on interface ens33)\n",
      "22/05/05 19:22:31 WARN Utils: Set SPARK_LOCAL_IP if you need to bind to another address\n",
      "22/05/05 19:22:31 WARN NativeCodeLoader: Unable to load native-hadoop library for your platform... using builtin-java classes where applicable\n",
      "Using Spark's default log4j profile: org/apache/spark/log4j-defaults.properties\n",
      "Setting default log level to \"WARN\".\n",
      "To adjust logging level use sc.setLogLevel(newLevel). For SparkR, use setLogLevel(newLevel).\n",
      "22/05/05 19:22:33 WARN Utils: Service 'SparkUI' could not bind on port 4040. Attempting port 4041.\n"
     ]
    }
   ],
   "source": [
    "from pyspark import SparkContext\n",
    "sc = SparkContext(\"local\", \"FlatMap\")\n"
   ]
  },
  {
   "cell_type": "code",
   "execution_count": 3,
   "id": "97384045-d4c8-41b1-9060-f0ae0791735c",
   "metadata": {},
   "outputs": [],
   "source": [
    "# List of List of elements\n",
    "data = [\n",
    "    [1,2,3],\n",
    "    [4,5,6],\n",
    "    [7,8,9]\n",
    "]\n",
    "\n",
    "rdd = sc.parallelize(data) # 1 partition, local"
   ]
  },
  {
   "cell_type": "code",
   "execution_count": 4,
   "id": "dc25e335-e414-4354-93fe-ebe5f9a321b9",
   "metadata": {},
   "outputs": [
    {
     "name": "stderr",
     "output_type": "stream",
     "text": [
      "[Stage 0:>                                                          (0 + 1) / 1]\r"
     ]
    },
    {
     "name": "stdout",
     "output_type": "stream",
     "text": [
      "Count  3\n"
     ]
    },
    {
     "name": "stderr",
     "output_type": "stream",
     "text": [
      "                                                                                \r"
     ]
    },
    {
     "data": {
      "text/plain": [
       "[[1, 2, 3], [4, 5, 6], [7, 8, 9]]"
      ]
     },
     "execution_count": 4,
     "metadata": {},
     "output_type": "execute_result"
    }
   ],
   "source": [
    "rddMap = rdd.map ( lambda r: r ) # return list as is [1,2,3]\n",
    "# let us see output of map \n",
    "# List of List of elements\n",
    "print(\"Count \", rddMap.count()) # 3\n",
    "rddMap.collect()"
   ]
  },
  {
   "cell_type": "code",
   "execution_count": 5,
   "id": "6edf0bdd-9497-4e0b-ad06-771f43a50fcc",
   "metadata": {},
   "outputs": [
    {
     "name": "stdout",
     "output_type": "stream",
     "text": [
      "Count  9\n"
     ]
    },
    {
     "data": {
      "text/plain": [
       "[1, 2, 3, 4, 5, 6, 7, 8, 9]"
      ]
     },
     "execution_count": 5,
     "metadata": {},
     "output_type": "execute_result"
    }
   ],
   "source": [
    "# flatMap\n",
    "# flatten elements inside array into elements\n",
    "# remove the list, project elements are records\n",
    "# each element in the list will be 1 record\n",
    "rddFlatMap = rdd.flatMap (lambda r: r) \n",
    "print (\"Count \", rddFlatMap.count())\n",
    "rddFlatMap.collect()"
   ]
  },
  {
   "cell_type": "code",
   "execution_count": null,
   "id": "6d6abba2-1b80-488a-8bdb-47015beeb16f",
   "metadata": {},
   "outputs": [],
   "source": []
  }
 ],
 "metadata": {
  "kernelspec": {
   "display_name": "Python 3 (ipykernel)",
   "language": "python",
   "name": "python3"
  },
  "language_info": {
   "codemirror_mode": {
    "name": "ipython",
    "version": 3
   },
   "file_extension": ".py",
   "mimetype": "text/x-python",
   "name": "python",
   "nbconvert_exporter": "python",
   "pygments_lexer": "ipython3",
   "version": "3.8.12"
  }
 },
 "nbformat": 4,
 "nbformat_minor": 5
}
