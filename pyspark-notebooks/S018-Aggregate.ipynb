{
 "cells": [
  {
   "cell_type": "code",
   "execution_count": null,
   "id": "e01b7861-90cd-4658-8790-53d07507f2ef",
   "metadata": {},
   "outputs": [],
   "source": []
  },
  {
   "cell_type": "code",
   "execution_count": 1,
   "id": "1a14d828-ab25-42f3-8651-f70d55c23e2c",
   "metadata": {},
   "outputs": [],
   "source": [
    "import findspark\n",
    "findspark.init()\n"
   ]
  },
  {
   "cell_type": "code",
   "execution_count": null,
   "id": "03ee446d-52cc-4bf3-9fde-f6baad8714bf",
   "metadata": {},
   "outputs": [],
   "source": []
  },
  {
   "cell_type": "code",
   "execution_count": 2,
   "id": "9e977802-b8fc-4037-9869-cb2b154b3f64",
   "metadata": {},
   "outputs": [
    {
     "name": "stderr",
     "output_type": "stream",
     "text": [
      "22/05/07 01:39:14 WARN Utils: Your hostname, ubuntu-virtual-machine resolves to a loopback address: 127.0.1.1; using 192.168.174.129 instead (on interface ens33)\n",
      "22/05/07 01:39:14 WARN Utils: Set SPARK_LOCAL_IP if you need to bind to another address\n",
      "22/05/07 01:39:16 WARN NativeCodeLoader: Unable to load native-hadoop library for your platform... using builtin-java classes where applicable\n",
      "Using Spark's default log4j profile: org/apache/spark/log4j-defaults.properties\n",
      "Setting default log level to \"WARN\".\n",
      "To adjust logging level use sc.setLogLevel(newLevel). For SparkR, use setLogLevel(newLevel).\n",
      "22/05/07 01:39:20 WARN Utils: Service 'SparkUI' could not bind on port 4040. Attempting port 4041.\n",
      "22/05/07 01:39:20 WARN Utils: Service 'SparkUI' could not bind on port 4041. Attempting port 4042.\n",
      "22/05/07 01:39:20 WARN Utils: Service 'SparkUI' could not bind on port 4042. Attempting port 4043.\n",
      "22/05/07 01:39:20 WARN Utils: Service 'SparkUI' could not bind on port 4043. Attempting port 4044.\n",
      "22/05/07 01:39:20 WARN Utils: Service 'SparkUI' could not bind on port 4044. Attempting port 4045.\n",
      "22/05/07 01:39:20 WARN Utils: Service 'SparkUI' could not bind on port 4045. Attempting port 4046.\n",
      "22/05/07 01:39:20 WARN Utils: Service 'SparkUI' could not bind on port 4046. Attempting port 4047.\n",
      "22/05/07 01:39:20 WARN Utils: Service 'SparkUI' could not bind on port 4047. Attempting port 4048.\n",
      "22/05/07 01:39:20 WARN Utils: Service 'SparkUI' could not bind on port 4048. Attempting port 4049.\n",
      "22/05/07 01:39:20 WARN Utils: Service 'SparkUI' could not bind on port 4049. Attempting port 4050.\n"
     ]
    }
   ],
   "source": [
    "from pyspark import SparkContext\n",
    "sc = SparkContext(\"local\", \"Accumulator\")"
   ]
  },
  {
   "cell_type": "code",
   "execution_count": 3,
   "id": "50af1b84-4664-496f-ab6b-eb53ecb3c85c",
   "metadata": {},
   "outputs": [
    {
     "name": "stderr",
     "output_type": "stream",
     "text": [
      "                                                                                \r"
     ]
    },
    {
     "data": {
      "text/plain": [
       "(10, 4)"
      ]
     },
     "execution_count": 3,
     "metadata": {},
     "output_type": "execute_result"
    }
   ],
   "source": [
    "seqOp = (lambda x, y: (x[0] + y, x[1] + 1))\n",
    "combOp = (lambda x, y: (x[0] + y[0], x[1] + y[1]))\n",
    "sc.parallelize([1, 2, 3, 4]).aggregate((0, 0), seqOp, combOp)\n",
    "(10, 4)"
   ]
  },
  {
   "cell_type": "code",
   "execution_count": 4,
   "id": "bb076132-a061-4286-932a-58c11c1d431e",
   "metadata": {},
   "outputs": [
    {
     "name": "stdout",
     "output_type": "stream",
     "text": [
      "cOp (0, 0) (10, 4)\n",
      "cOp (10, 4) (35, 5)\n",
      "result  (45, 9)\n"
     ]
    },
    {
     "name": "stderr",
     "output_type": "stream",
     "text": [
      "sOP (0, 0) 1\n",
      "sOP (1, 1) 2\n",
      "sOP (3, 2) 3\n",
      "sOP (6, 3) 4\n",
      "sOP (0, 0) 5\n",
      "sOP (5, 1) 6\n",
      "sOP (11, 2) 7\n",
      "sOP (18, 3) 8\n",
      "sOP (26, 4) 9\n"
     ]
    }
   ],
   "source": [
    "def sOp(x, y):\n",
    "    print(\"sOP\", x, y)\n",
    "    # x is tuple, x[0] is sum value, x[1] is count  value\n",
    "    return (x[0] + y, x[1] + 1) # return tuple\n",
    "def cOp(x, y):\n",
    "    print (\"cOp\", x, y)\n",
    "    # x is tuple, x[0] is sum value, x[1] is count value, since it is combine func, we sum total result\n",
    "    return (x[0] + y[0], x[1] + y[1]) # return tuple\n",
    "    \n",
    "seqOp = (lambda x, y: sOp(x, y) )\n",
    "combOp = (lambda x, y: cOp(x, y))\n",
    "\"\"\"\n",
    "(0, 0)  -- aggregate initial value \n",
    "            first   0 - represent sum of values\n",
    "            second 0 - represent count of values\n",
    "            \n",
    "seqOp - Sequence operation is executed first at all teh partitions\n",
    "combOp - Combine operations - executed last , result of SeqOp is passed as input to combine Operation\n",
    "\"\"\"\n",
    "result = sc.parallelize([1, 2, 3, 4, 5, 6, 7, 8,9], 2).aggregate((0, 0), seqOp, combOp)\n",
    "print(\"result \", result)"
   ]
  },
  {
   "cell_type": "code",
   "execution_count": null,
   "id": "07bd55e8-8f84-49cb-a9d5-d789ed1b2a63",
   "metadata": {},
   "outputs": [],
   "source": []
  }
 ],
 "metadata": {
  "kernelspec": {
   "display_name": "Python 3 (ipykernel)",
   "language": "python",
   "name": "python3"
  },
  "language_info": {
   "codemirror_mode": {
    "name": "ipython",
    "version": 3
   },
   "file_extension": ".py",
   "mimetype": "text/x-python",
   "name": "python",
   "nbconvert_exporter": "python",
   "pygments_lexer": "ipython3",
   "version": "3.8.12"
  }
 },
 "nbformat": 4,
 "nbformat_minor": 5
}
