{
 "cells": [
  {
   "cell_type": "code",
   "execution_count": 1,
   "id": "1f4b8c8a-d140-4768-931e-0bfd2db1b3df",
   "metadata": {},
   "outputs": [],
   "source": [
    "import findspark\n",
    "findspark.init()"
   ]
  },
  {
   "cell_type": "code",
   "execution_count": 2,
   "id": "693b640b-79da-4d8d-b957-89404b4484f9",
   "metadata": {},
   "outputs": [
    {
     "name": "stderr",
     "output_type": "stream",
     "text": [
      "Warning: Ignoring non-Spark config property: hive.metastore.uris\n",
      "Warning: Ignoring non-Spark config property: hive.metastore.warehouse.dir\n",
      "22/05/16 21:01:24 WARN Utils: Your hostname, ubuntu-virtual-machine resolves to a loopback address: 127.0.1.1; using 192.168.174.129 instead (on interface ens33)\n",
      "22/05/16 21:01:24 WARN Utils: Set SPARK_LOCAL_IP if you need to bind to another address\n",
      "22/05/16 21:01:25 WARN NativeCodeLoader: Unable to load native-hadoop library for your platform... using builtin-java classes where applicable\n",
      "Using Spark's default log4j profile: org/apache/spark/log4j-defaults.properties\n",
      "Setting default log level to \"WARN\".\n",
      "To adjust logging level use sc.setLogLevel(newLevel). For SparkR, use setLogLevel(newLevel).\n",
      "22/05/16 21:01:25 WARN SparkConf: Note that spark.local.dir will be overridden by the value set by the cluster manager (via SPARK_LOCAL_DIRS in mesos/standalone/kubernetes and LOCAL_DIRS in YARN).\n",
      "22/05/16 21:01:26 WARN Utils: Service 'SparkUI' could not bind on port 4040. Attempting port 4041.\n"
     ]
    }
   ],
   "source": [
    "from pyspark.conf import SparkConf\n",
    "config = SparkConf()\n",
    "# config.set(\"property\", \"value\")\n",
    "config.setMaster(\"local\").setAppName(\"SparkHiveDatabase\")\n",
    "\n",
    "# centarlized hive meta server\n",
    "# hdfs hive for data warehouse\n",
    "# enable hive support must for sql database\n",
    " \n",
    "config.set(\"spark.local.dir\", \"/home/ubuntu/spark-temp\")\n",
    "\n",
    "# while using hive.metastore.warehouse.dir, we should not use spark warehouse dir\n",
    "\n",
    "config.set(\"hive.metastore.uris\", \"thrift://localhost:9083\")\n",
    "config.set(\"hive.metastore.warehouse.dir\", \"hdfs://localhost:9000/user/hive/warehouse\")\n",
    "\n",
    "\n",
    "from pyspark.sql import SparkSession\n",
    "# spark Session, entry point for Spark SQL, DataFrame\n",
    "\n",
    "# enableHiveSupport() now using hive meta server running as server\n",
    "# multiple notebooks can share hive meta server, work in parallel\n",
    "# we use hive warehouse directory for spark too, this way hive and spark can co-exists\n",
    "# metastore shall have meta data: database, tables, columns, data types, where exactly\n",
    "# data located in hdfs or file system or s3\n",
    "\n",
    "spark = SparkSession.builder\\\n",
    "                    .config(conf=config)\\\n",
    "                    .enableHiveSupport()\\\n",
    "                    .getOrCreate()\n",
    "\n",
    "sc = spark.sparkContext"
   ]
  },
  {
   "cell_type": "code",
   "execution_count": 3,
   "id": "e7329ab2-c535-4d47-a4f1-1577f4ec1a3e",
   "metadata": {},
   "outputs": [
    {
     "data": {
      "text/html": [
       "\n",
       "            <div>\n",
       "                <p><b>SparkSession - hive</b></p>\n",
       "                \n",
       "        <div>\n",
       "            <p><b>SparkContext</b></p>\n",
       "\n",
       "            <p><a href=\"http://192.168.174.129:4041\">Spark UI</a></p>\n",
       "\n",
       "            <dl>\n",
       "              <dt>Version</dt>\n",
       "                <dd><code>v3.1.3</code></dd>\n",
       "              <dt>Master</dt>\n",
       "                <dd><code>local</code></dd>\n",
       "              <dt>AppName</dt>\n",
       "                <dd><code>SparkHiveDatabase</code></dd>\n",
       "            </dl>\n",
       "        </div>\n",
       "        \n",
       "            </div>\n",
       "        "
      ],
      "text/plain": [
       "<pyspark.sql.session.SparkSession at 0x7fe63daaf910>"
      ]
     },
     "execution_count": 3,
     "metadata": {},
     "output_type": "execute_result"
    }
   ],
   "source": [
    "spark\n"
   ]
  },
  {
   "cell_type": "code",
   "execution_count": 5,
   "id": "4e757be9-5942-4eb5-bc41-a3487a1b7999",
   "metadata": {},
   "outputs": [
    {
     "name": "stdout",
     "output_type": "stream",
     "text": [
      "+----------+\n",
      "| namespace|\n",
      "+----------+\n",
      "|   default|\n",
      "|   moviedb|\n",
      "|  ordersdb|\n",
      "|productsdb|\n",
      "+----------+\n",
      "\n"
     ]
    }
   ],
   "source": [
    "spark.sql(\"SHOW DATABASES\").show()\n"
   ]
  },
  {
   "cell_type": "code",
   "execution_count": 8,
   "id": "3d087c17-d549-499b-b6e9-7d83259c4659",
   "metadata": {},
   "outputs": [
    {
     "name": "stdout",
     "output_type": "stream",
     "text": [
      "+--------+---------+-----------+\n",
      "|database|tableName|isTemporary|\n",
      "+--------+---------+-----------+\n",
      "| moviedb|   movies|      false|\n",
      "| moviedb|  ratings|      false|\n",
      "+--------+---------+-----------+\n",
      "\n"
     ]
    }
   ],
   "source": [
    "spark.sql(\"SHOW TABLES IN moviedb\").show()"
   ]
  },
  {
   "cell_type": "code",
   "execution_count": 12,
   "id": "49c93beb-804c-4ae0-ab5c-1748ac58ec39",
   "metadata": {},
   "outputs": [
    {
     "name": "stdout",
     "output_type": "stream",
     "text": [
      "+--------+--------------------+--------------------+\n",
      "|movie_id|               title|              genres|\n",
      "+--------+--------------------+--------------------+\n",
      "|    null|               title|              genres|\n",
      "|       1|    Toy Story (1995)|Adventure|Animati...|\n",
      "|       2|      Jumanji (1995)|Adventure|Childre...|\n",
      "|       3|Grumpier Old Men ...|      Comedy|Romance|\n",
      "|       4|Waiting to Exhale...|Comedy|Drama|Romance|\n",
      "|       5|Father of the Bri...|              Comedy|\n",
      "|       6|         Heat (1995)|Action|Crime|Thri...|\n",
      "|       7|      Sabrina (1995)|      Comedy|Romance|\n",
      "|       8| Tom and Huck (1995)|  Adventure|Children|\n",
      "|       9| Sudden Death (1995)|              Action|\n",
      "|      10|    GoldenEye (1995)|Action|Adventure|...|\n",
      "+--------+--------------------+--------------------+\n",
      "\n"
     ]
    }
   ],
   "source": [
    "spark.sql(\"SELECT * from moviedb.movies LIMIT 11\").show()"
   ]
  },
  {
   "cell_type": "code",
   "execution_count": 14,
   "id": "b2395483-333f-43fc-8f2f-5732e3578a3d",
   "metadata": {},
   "outputs": [
    {
     "name": "stdout",
     "output_type": "stream",
     "text": [
      "+-------+--------+------+----------------+\n",
      "|user_id|movie_id|rating|rating_timestamp|\n",
      "+-------+--------+------+----------------+\n",
      "|   null|    null|  null|            null|\n",
      "|      1|       1|     4|       964982703|\n",
      "|      1|       3|     4|       964981247|\n",
      "|      1|       6|     4|       964982224|\n",
      "|      1|      47|     5|       964983815|\n",
      "|      1|      50|     5|       964982931|\n",
      "|      1|      70|     3|       964982400|\n",
      "|      1|     101|     5|       964980868|\n",
      "|      1|     110|     4|       964982176|\n",
      "|      1|     151|     5|       964984041|\n",
      "|      1|     157|     5|       964984100|\n",
      "+-------+--------+------+----------------+\n",
      "\n"
     ]
    }
   ],
   "source": [
    "spark.sql(\"SELECT * from moviedb.ratings LIMIT 11\").show()"
   ]
  },
  {
   "cell_type": "code",
   "execution_count": 25,
   "id": "28b160d2-772b-461f-bc5c-a3b8260ec0e9",
   "metadata": {},
   "outputs": [
    {
     "name": "stdout",
     "output_type": "stream",
     "text": [
      "+--------+----------+-------------+\n",
      "|movie_id|avg_rating|user_id_count|\n",
      "+--------+----------+-------------+\n",
      "|    1580|    3.6364|          165|\n",
      "|    2366|    3.7200|           25|\n",
      "|    3175|    3.6933|           75|\n",
      "|    1088|    3.5714|           42|\n",
      "|   32460|    4.5000|            4|\n",
      "|   44022|    3.4783|           23|\n",
      "|   96488|    4.5000|            4|\n",
      "|    1238|    4.1111|            9|\n",
      "|    1342|    2.6364|           11|\n",
      "|    1591|    2.7692|           26|\n",
      "|    1645|    3.5490|           51|\n",
      "|    4519|    3.4444|            9|\n",
      "|    2142|    2.8000|           10|\n",
      "|     471|    3.6500|           40|\n",
      "|    3997|    2.0000|           12|\n",
      "|     833|    2.1667|            6|\n",
      "|    3918|    3.3333|            9|\n",
      "|    7982|    3.7500|            4|\n",
      "|    1959|    3.8000|           15|\n",
      "|   68135|    3.9000|           10|\n",
      "+--------+----------+-------------+\n",
      "only showing top 20 rows\n",
      "\n"
     ]
    }
   ],
   "source": [
    "spark.sql(\"SELECT movie_id, AVG(rating) as avg_rating, \\\n",
    "          COUNT(user_id) as user_id_count from moviedb.ratings WHERE rating >= 1.0 group by movie_id\").show()"
   ]
  },
  {
   "cell_type": "code",
   "execution_count": 41,
   "id": "5ae6158b-b6fe-4db4-aaff-794cbad0b93d",
   "metadata": {},
   "outputs": [
    {
     "data": {
      "text/plain": [
       "DataFrame[]"
      ]
     },
     "execution_count": 41,
     "metadata": {},
     "output_type": "execute_result"
    }
   ],
   "source": [
    "spark.sql(\"\"\" CREATE OR REPLACE TEMP VIEW most_popular_temp_table AS\n",
    "        SELECT movie_id, AVG(rating) as avg_ratings, COUNT(user_id) as total_ratings FROM moviedb.ratings\n",
    "        group by movie_id\n",
    "        HAVING avg_ratings >= 3.5 and total_ratings > 100\n",
    "\"\"\")"
   ]
  },
  {
   "cell_type": "code",
   "execution_count": 42,
   "id": "c40d1736-73e8-4f03-87b7-f2f3e7069950",
   "metadata": {},
   "outputs": [
    {
     "name": "stderr",
     "output_type": "stream",
     "text": [
      "                                                                                \r"
     ]
    },
    {
     "name": "stdout",
     "output_type": "stream",
     "text": [
      "+--------+-----------+-------------+\n",
      "|movie_id|avg_ratings|total_ratings|\n",
      "+--------+-----------+-------------+\n",
      "|    1580|     3.6364|          165|\n",
      "|    1721|     3.5571|          140|\n",
      "|     858|     4.3958|          192|\n",
      "|    1270|     4.1696|          171|\n",
      "|    1265|     4.0699|          143|\n",
      "|     588|     3.8689|          183|\n",
      "|     296|     4.2964|          307|\n",
      "|   68954|     4.1810|          105|\n",
      "|   58559|     4.4295|          149|\n",
      "|     593|     4.2688|          279|\n",
      "+--------+-----------+-------------+\n",
      "only showing top 10 rows\n",
      "\n"
     ]
    }
   ],
   "source": [
    "spark.sql(\"SELECT * from most_popular_temp_table\").show(10)"
   ]
  },
  {
   "cell_type": "code",
   "execution_count": 63,
   "id": "9f7fafbc-2800-4c0c-bd78-60566b7418e8",
   "metadata": {},
   "outputs": [
    {
     "name": "stderr",
     "output_type": "stream",
     "text": [
      "22/05/16 23:54:06 WARN LazyStruct: Extra bytes detected at the end of the row! Ignoring similar problems.\n"
     ]
    },
    {
     "name": "stdout",
     "output_type": "stream",
     "text": [
      "+--------+--------------------+-----------+-------------+\n",
      "|movie_id|               title|avg_ratings|total_ratings|\n",
      "+--------+--------------------+-----------+-------------+\n",
      "|    1580|Men in Black (a.k...|     3.6364|          165|\n",
      "|    1721|      Titanic (1997)|     3.5571|          140|\n",
      "|     858|          \"Godfather|     4.3958|          192|\n",
      "|    1270|Back to the Futur...|     4.1696|          171|\n",
      "|    1265|Groundhog Day (1993)|     4.0699|          143|\n",
      "|     588|      Aladdin (1992)|     3.8689|          183|\n",
      "|     296| Pulp Fiction (1994)|     4.2964|          307|\n",
      "|   68954|           Up (2009)|     4.1810|          105|\n",
      "|   58559|        \"Dark Knight|     4.4295|          149|\n",
      "|     593|\"Silence of the L...|     4.2688|          279|\n",
      "+--------+--------------------+-----------+-------------+\n",
      "only showing top 10 rows\n",
      "\n"
     ]
    }
   ],
   "source": [
    "spark.sql(\"\"\"SELECT mp.movie_id, title, avg_ratings, total_ratings FROM most_popular_temp_table mp INNER JOIN\n",
    "        moviedb.movies m ON mp.movie_id = m.movie_id\"\"\").show(10)"
   ]
  },
  {
   "cell_type": "code",
   "execution_count": 66,
   "id": "9563d49c-a438-47a7-ae93-e9a6d6e08931",
   "metadata": {},
   "outputs": [
    {
     "name": "stderr",
     "output_type": "stream",
     "text": [
      "22/05/17 00:04:41 WARN ResolveSessionCatalog: A Hive serde table will be created as there is no table provider specified. You can set spark.sql.legacy.createHiveTableByDefault to false so that native data source table will be created instead.\n",
      "22/05/17 00:04:41 WARN SessionState: METASTORE_FILTER_HOOK will be ignored, since hive.security.authorization.manager is set to instance of HiveAuthorizerFactory.\n",
      "22/05/17 00:04:41 WARN LazyStruct: Extra bytes detected at the end of the row! Ignoring similar problems.\n",
      "22/05/17 00:04:52 ERROR KeyProviderCache: Could not find uri with key [dfs.encryption.key.provider.uri] to create a keyProvider !!\n"
     ]
    },
    {
     "name": "stdout",
     "output_type": "stream",
     "text": [
      "++\n",
      "||\n",
      "++\n",
      "++\n",
      "\n"
     ]
    }
   ],
   "source": [
    "spark.sql(\"\"\" CREATE TABLE moviedb.popular_movies AS\n",
    "        SELECT mp.movie_id, title, avg_ratings, total_ratings FROM most_popular_temp_table mp\n",
    "        INNER JOIN moviedb.movies m ON m.movie_id= mp.movie_id\n",
    "\"\"\").show(10)"
   ]
  },
  {
   "cell_type": "code",
   "execution_count": 67,
   "id": "66555e5c-c5ae-4c88-b841-ab67fb3b3d90",
   "metadata": {},
   "outputs": [
    {
     "name": "stdout",
     "output_type": "stream",
     "text": [
      "+----------------------------+-------------------------------------------------------------------+-------+\n",
      "|col_name                    |data_type                                                          |comment|\n",
      "+----------------------------+-------------------------------------------------------------------+-------+\n",
      "|movie_id                    |int                                                                |null   |\n",
      "|title                       |string                                                             |null   |\n",
      "|avg_ratings                 |decimal(14,4)                                                      |null   |\n",
      "|total_ratings               |bigint                                                             |null   |\n",
      "|                            |                                                                   |       |\n",
      "|# Detailed Table Information|                                                                   |       |\n",
      "|Database                    |moviedb                                                            |       |\n",
      "|Table                       |popular_movies                                                     |       |\n",
      "|Owner                       |ubuntu                                                             |       |\n",
      "|Created Time                |Tue May 17 00:04:41 IST 2022                                       |       |\n",
      "|Last Access                 |UNKNOWN                                                            |       |\n",
      "|Created By                  |Spark 3.1.3                                                        |       |\n",
      "|Type                        |MANAGED                                                            |       |\n",
      "|Provider                    |hive                                                               |       |\n",
      "|Table Properties            |[transient_lastDdlTime=1652726093]                                 |       |\n",
      "|Statistics                  |4794 bytes                                                         |       |\n",
      "|Location                    |hdfs://localhost:9000/user/hive/warehouse/moviedb.db/popular_movies|       |\n",
      "|Serde Library               |org.apache.hadoop.hive.serde2.lazy.LazySimpleSerDe                 |       |\n",
      "|InputFormat                 |org.apache.hadoop.mapred.TextInputFormat                           |       |\n",
      "|OutputFormat                |org.apache.hadoop.hive.ql.io.HiveIgnoreKeyTextOutputFormat         |       |\n",
      "+----------------------------+-------------------------------------------------------------------+-------+\n",
      "only showing top 20 rows\n",
      "\n"
     ]
    }
   ],
   "source": [
    "spark.sql(\"DESC FORMATTED moviedb.popular_movies\").show(truncate=False)"
   ]
  },
  {
   "cell_type": "code",
   "execution_count": 68,
   "id": "49605cda-815d-449a-aa0d-75d0b61921fd",
   "metadata": {},
   "outputs": [
    {
     "name": "stdout",
     "output_type": "stream",
     "text": [
      "root\n",
      " |-- movie_id: integer (nullable = true)\n",
      " |-- title: string (nullable = true)\n",
      " |-- genres: string (nullable = true)\n",
      "\n"
     ]
    }
   ],
   "source": [
    "movieDf = spark.table(\"moviedb.movies\")\n",
    "movieDf.printSchema()"
   ]
  },
  {
   "cell_type": "code",
   "execution_count": 69,
   "id": "024e23c8-9a8e-4583-86e2-fcae6a686b03",
   "metadata": {},
   "outputs": [
    {
     "name": "stdout",
     "output_type": "stream",
     "text": [
      "+--------+--------------------+--------------------+\n",
      "|movie_id|               title|              genres|\n",
      "+--------+--------------------+--------------------+\n",
      "|    null|               title|              genres|\n",
      "|       1|    Toy Story (1995)|Adventure|Animati...|\n",
      "|       2|      Jumanji (1995)|Adventure|Childre...|\n",
      "|       3|Grumpier Old Men ...|      Comedy|Romance|\n",
      "|       4|Waiting to Exhale...|Comedy|Drama|Romance|\n",
      "|       5|Father of the Bri...|              Comedy|\n",
      "|       6|         Heat (1995)|Action|Crime|Thri...|\n",
      "|       7|      Sabrina (1995)|      Comedy|Romance|\n",
      "|       8| Tom and Huck (1995)|  Adventure|Children|\n",
      "|       9| Sudden Death (1995)|              Action|\n",
      "|      10|    GoldenEye (1995)|Action|Adventure|...|\n",
      "|      11| \"American President|         The (1995)\"|\n",
      "|      12|Dracula: Dead and...|       Comedy|Horror|\n",
      "|      13|        Balto (1995)|Adventure|Animati...|\n",
      "|      14|        Nixon (1995)|               Drama|\n",
      "|      15|Cutthroat Island ...|Action|Adventure|...|\n",
      "|      16|       Casino (1995)|         Crime|Drama|\n",
      "|      17|Sense and Sensibi...|       Drama|Romance|\n",
      "|      18|   Four Rooms (1995)|              Comedy|\n",
      "|      19|Ace Ventura: When...|              Comedy|\n",
      "+--------+--------------------+--------------------+\n",
      "only showing top 20 rows\n",
      "\n"
     ]
    },
    {
     "name": "stderr",
     "output_type": "stream",
     "text": [
      "22/05/17 00:07:51 WARN LazyStruct: Extra bytes detected at the end of the row! Ignoring similar problems.\n"
     ]
    }
   ],
   "source": [
    "movieDf.show()"
   ]
  },
  {
   "cell_type": "code",
   "execution_count": null,
   "id": "7e87fbf3-d96c-42c9-9d2a-e9bf759c05ab",
   "metadata": {},
   "outputs": [],
   "source": []
  }
 ],
 "metadata": {
  "kernelspec": {
   "display_name": "Python 3 (ipykernel)",
   "language": "python",
   "name": "python3"
  },
  "language_info": {
   "codemirror_mode": {
    "name": "ipython",
    "version": 3
   },
   "file_extension": ".py",
   "mimetype": "text/x-python",
   "name": "python",
   "nbconvert_exporter": "python",
   "pygments_lexer": "ipython3",
   "version": "3.8.12"
  }
 },
 "nbformat": 4,
 "nbformat_minor": 5
}
