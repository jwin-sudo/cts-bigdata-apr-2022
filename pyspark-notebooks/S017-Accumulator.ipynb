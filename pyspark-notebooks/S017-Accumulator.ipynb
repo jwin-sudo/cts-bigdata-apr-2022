{
 "cells": [
  {
   "cell_type": "code",
   "execution_count": 6,
   "id": "e3a69166-b014-40fc-9cc6-eebc7f5f7a27",
   "metadata": {},
   "outputs": [],
   "source": [
    "import findspark\n",
    "findspark.init()\n"
   ]
  },
  {
   "cell_type": "code",
   "execution_count": 9,
   "id": "fcaaaff4-0ee9-41e2-a94c-4ab47f99a80f",
   "metadata": {},
   "outputs": [
    {
     "name": "stderr",
     "output_type": "stream",
     "text": [
      "[Stage 0:>                                                          (0 + 1) / 1]\r"
     ]
    },
    {
     "name": "stdout",
     "output_type": "stream",
     "text": [
      "Acc value is  190\n"
     ]
    },
    {
     "name": "stderr",
     "output_type": "stream",
     "text": [
      "                                                                                \r"
     ]
    }
   ],
   "source": [
    "# Databricks notebook source\n",
    "# accumulator designed to fetch data from executor to notebook\n",
    "# Databricks notebook source\n",
    "# accumulator useful to collect data from executor to driver program\n",
    "rdd = sc.parallelize(range(0, 20))\n",
    "\n",
    "sumAccum = sc.accumulator(0)\n",
    "\n",
    "rdd.foreach(lambda n: sumAccum.add(n))  # run inside executor\n",
    "\n",
    "print(\"Acc value is \", sumAccum.value) # driver"
   ]
  },
  {
   "cell_type": "code",
   "execution_count": 8,
   "id": "8942057e-c011-48e3-9319-29b14cc2d16a",
   "metadata": {},
   "outputs": [
    {
     "name": "stderr",
     "output_type": "stream",
     "text": [
      "22/05/07 00:35:41 WARN Utils: Your hostname, ubuntu-virtual-machine resolves to a loopback address: 127.0.1.1; using 192.168.174.129 instead (on interface ens33)\n",
      "22/05/07 00:35:41 WARN Utils: Set SPARK_LOCAL_IP if you need to bind to another address\n",
      "22/05/07 00:35:42 WARN NativeCodeLoader: Unable to load native-hadoop library for your platform... using builtin-java classes where applicable\n",
      "Using Spark's default log4j profile: org/apache/spark/log4j-defaults.properties\n",
      "Setting default log level to \"WARN\".\n",
      "To adjust logging level use sc.setLogLevel(newLevel). For SparkR, use setLogLevel(newLevel).\n",
      "22/05/07 00:35:43 WARN Utils: Service 'SparkUI' could not bind on port 4040. Attempting port 4041.\n",
      "22/05/07 00:35:43 WARN Utils: Service 'SparkUI' could not bind on port 4041. Attempting port 4042.\n",
      "22/05/07 00:35:43 WARN Utils: Service 'SparkUI' could not bind on port 4042. Attempting port 4043.\n",
      "22/05/07 00:35:43 WARN Utils: Service 'SparkUI' could not bind on port 4043. Attempting port 4044.\n",
      "22/05/07 00:35:43 WARN Utils: Service 'SparkUI' could not bind on port 4044. Attempting port 4045.\n",
      "22/05/07 00:35:43 WARN Utils: Service 'SparkUI' could not bind on port 4045. Attempting port 4046.\n",
      "22/05/07 00:35:43 WARN Utils: Service 'SparkUI' could not bind on port 4046. Attempting port 4047.\n",
      "22/05/07 00:35:43 WARN Utils: Service 'SparkUI' could not bind on port 4047. Attempting port 4048.\n",
      "22/05/07 00:35:43 WARN Utils: Service 'SparkUI' could not bind on port 4048. Attempting port 4049.\n"
     ]
    }
   ],
   "source": [
    "from pyspark import SparkContext\n",
    "sc = SparkContext(\"local\", \"Accumulator\")"
   ]
  },
  {
   "cell_type": "code",
   "execution_count": 14,
   "id": "de4d2d5c-ac5b-4b4d-b615-5a7165035632",
   "metadata": {},
   "outputs": [
    {
     "name": "stdout",
     "output_type": "stream",
     "text": [
      "Data [[0, 1, 2, 3, 4], [5, 6, 7, 8, 9], [10, 11, 12, 13, 14], [15, 16, 17, 18, 19]]\n",
      "Acc value is  190\n"
     ]
    }
   ],
   "source": [
    "# Databricks notebook source\n",
    "# accumulator designed to fetch data from executor to notebook\n",
    "# Databricks notebook source\n",
    "# accumulator useful to collect data from executor to driver program\n",
    "rdd = sc.parallelize(range(0, 20),4)\n",
    "\n",
    "print(\"Data\", rdd.glom().collect())\n",
    "\n",
    "sumAccum = sc.accumulator(0)\n",
    "\n",
    "rdd.foreach(lambda n: sumAccum.add(n))  # run inside executor\n",
    "\n",
    "print(\"Acc value is \", sumAccum.value) # driver"
   ]
  },
  {
   "cell_type": "code",
   "execution_count": 15,
   "id": "78d98297-5a13-40de-b9e2-5ea363dedd87",
   "metadata": {},
   "outputs": [
    {
     "name": "stdout",
     "output_type": "stream",
     "text": [
      "sum of first elements  30\n"
     ]
    }
   ],
   "source": [
    "sumFirstValueInPartitionAccum = sc.accumulator(0)\n",
    "\n",
    "# write a accumulator that picks first element in each partition and sum them up\n",
    "def sumFirstElement(partitionItr):\n",
    "  global sumFirstValueInPartitionAccum\n",
    "  for n in partitionItr: \n",
    "    sumFirstValueInPartitionAccum.add(n)\n",
    "    break # we process only 1st element in the partition and end the loop\n",
    "    \n",
    "rdd.foreachPartition(lambda itr: sumFirstElement(itr))\n",
    "\n",
    "print (\"sum of first elements \", sumFirstValueInPartitionAccum.value)"
   ]
  },
  {
   "cell_type": "code",
   "execution_count": 16,
   "id": "21f728d3-bfe4-475c-a448-3f196be1f2d6",
   "metadata": {},
   "outputs": [],
   "source": [
    "# custom accumulator\n",
    "# collect first element in each parition [not to sum/count]\n",
    "# zero, addInPlace are default functions will be invoked by accumulator \n",
    "from  pyspark.accumulators import AccumulatorParam\n",
    "class ListItemParamAccumulator(AccumulatorParam):\n",
    "  def zero(self, v):\n",
    "    return [] # return list, empty list used when no seed value given initially\n",
    "  # variable is list, value is the arg we pass via add function\n",
    "  # acc.add(value) ==> calls addInPlace()\n",
    "  def addInPlace(self, variable, value):\n",
    "    variable.append(value)\n",
    "    return variable"
   ]
  },
  {
   "cell_type": "code",
   "execution_count": 17,
   "id": "653a1592-6cfe-4f8d-8df4-c72a3ae891ee",
   "metadata": {},
   "outputs": [
    {
     "name": "stdout",
     "output_type": "stream",
     "text": [
      " first elements in each partition  [[0], [5], [10], [15]]\n"
     ]
    }
   ],
   "source": [
    "# create accumulator\n",
    "# [] is empty list\n",
    "# ListItemParamAccumulator is custom accumulator defiend above\n",
    "firstValueAccum = sc.accumulator([], ListItemParamAccumulator())\n",
    "\n",
    "\n",
    "# write a accumulator that picks first element in each partition and sum them up\n",
    "def sampleFirstElement(partitionItr):\n",
    "  global firstValueAccum\n",
    "  for n in partitionItr: \n",
    "    # n is passed as value to addInPlace function\n",
    "    firstValueAccum.add(n) # this will call ListItemParamAccumulator addInPlace function\n",
    "    break\n",
    "    \n",
    "rdd.foreachPartition(lambda itr: sampleFirstElement(itr))\n",
    "\n",
    "print (\" first elements in each partition \", firstValueAccum.value)"
   ]
  },
  {
   "cell_type": "code",
   "execution_count": 18,
   "id": "b0298885-8eea-4a94-b1f0-10824ff7311b",
   "metadata": {},
   "outputs": [
    {
     "data": {
      "text/plain": [
       "[[0, 1, 2, 3, 4], [5, 6, 7, 8, 9], [10, 11, 12, 13, 14], [15, 16, 17, 18, 19]]"
      ]
     },
     "execution_count": 18,
     "metadata": {},
     "output_type": "execute_result"
    }
   ],
   "source": [
    "rdd.glom().collect()\n"
   ]
  },
  {
   "cell_type": "code",
   "execution_count": null,
   "id": "3382cd3b-d55b-402b-aea8-3ce0ea856c38",
   "metadata": {},
   "outputs": [],
   "source": []
  }
 ],
 "metadata": {
  "kernelspec": {
   "display_name": "Python 3 (ipykernel)",
   "language": "python",
   "name": "python3"
  },
  "language_info": {
   "codemirror_mode": {
    "name": "ipython",
    "version": 3
   },
   "file_extension": ".py",
   "mimetype": "text/x-python",
   "name": "python",
   "nbconvert_exporter": "python",
   "pygments_lexer": "ipython3",
   "version": "3.8.12"
  }
 },
 "nbformat": 4,
 "nbformat_minor": 5
}
