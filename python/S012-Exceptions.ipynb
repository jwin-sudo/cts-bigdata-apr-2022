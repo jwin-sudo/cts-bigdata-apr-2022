{
 "cells": [
  {
   "cell_type": "code",
   "execution_count": 1,
   "id": "20d12590-4f57-4ebf-a2cb-eda99b11eeb8",
   "metadata": {},
   "outputs": [
    {
     "ename": "ZeroDivisionError",
     "evalue": "division by zero",
     "output_type": "error",
     "traceback": [
      "\u001b[0;31m---------------------------------------------------------------------------\u001b[0m",
      "\u001b[0;31mZeroDivisionError\u001b[0m                         Traceback (most recent call last)",
      "Input \u001b[0;32mIn [1]\u001b[0m, in \u001b[0;36m<cell line: 6>\u001b[0;34m()\u001b[0m\n\u001b[1;32m      1\u001b[0m \u001b[38;5;66;03m# exception handling\u001b[39;00m\n\u001b[1;32m      2\u001b[0m \u001b[38;5;66;03m# exceptions are errors, that may cause your program to terminate abnormally\u001b[39;00m\n\u001b[1;32m      3\u001b[0m \n\u001b[1;32m      4\u001b[0m \u001b[38;5;66;03m# try, except, else and finally\u001b[39;00m\n\u001b[0;32m----> 6\u001b[0m \u001b[38;5;241;43m42\u001b[39;49m\u001b[38;5;241;43m/\u001b[39;49m\u001b[38;5;241;43m0\u001b[39;49m\n\u001b[1;32m      7\u001b[0m \u001b[38;5;28mprint\u001b[39m(\u001b[38;5;124m\"\u001b[39m\u001b[38;5;124mthis will not be shown\u001b[39m\u001b[38;5;124m\"\u001b[39m)\n",
      "\u001b[0;31mZeroDivisionError\u001b[0m: division by zero"
     ]
    }
   ],
   "source": [
    "# exception handling\n",
    "# exceptions are errors, that may cause your program to terminate abnormally\n",
    "\n",
    "# try, except, else and finally\n",
    "\n",
    "42/0\n",
    "print(\"this will not be shown\")\n"
   ]
  },
  {
   "cell_type": "code",
   "execution_count": 2,
   "id": "4a12572b-8c65-4d9f-afe0-85b118de7845",
   "metadata": {},
   "outputs": [
    {
     "name": "stdout",
     "output_type": "stream",
     "text": [
      "There is exeption, captured\n",
      "this will be shown\n"
     ]
    }
   ],
   "source": [
    "# exeption handling, when error occurred, we capture exception\n",
    "# either we handle it, supress it, rethrow it\n",
    "#except block capture exceptions\n",
    "\n",
    "try:\n",
    "    42/0\n",
    "    print(\"this will not be shown\")\n",
    "except:\n",
    "    print(\"There is exeption, captured\")\n",
    "    \n",
    "print(\"this will be shown\")"
   ]
  },
  {
   "cell_type": "code",
   "execution_count": 3,
   "id": "e64ce8fb-dcce-43d0-bce9-008f96dcaf29",
   "metadata": {},
   "outputs": [
    {
     "name": "stdout",
     "output_type": "stream",
     "text": [
      "this will be show 21.0\n"
     ]
    }
   ],
   "source": [
    "try:\n",
    "    n = 42/2 # no exception, mean except won't be called\n",
    "    print(\"this will be show\", n)\n",
    "    \n",
    "except:\n",
    "    print(\"this won't be shown\")"
   ]
  },
  {
   "cell_type": "code",
   "execution_count": 5,
   "id": "a8e9a047-6e4e-4e9a-a2a3-ae5b3cde40d6",
   "metadata": {},
   "outputs": [
    {
     "name": "stdout",
     "output_type": "stream",
     "text": [
      "You cannot divide number by 0\n"
     ]
    }
   ],
   "source": [
    "# handle specific exception\n",
    "\n",
    "try:\n",
    "    #42/x # raise NameError since x is not defined earlier\n",
    "    42 / 0 # raise Zero DivisionError\n",
    "except ZeroDivisionError:\n",
    "    print(\"You cannot divide number by 0\")\n",
    "except NameError:\n",
    "    print(\"Looks like you haven't defined variable\")\n",
    "    \n",
    "    \n"
   ]
  },
  {
   "cell_type": "code",
   "execution_count": 6,
   "id": "d438f41e-9a1b-42c1-8f52-40e272a50580",
   "metadata": {},
   "outputs": [
    {
     "name": "stdout",
     "output_type": "stream",
     "text": [
      "exception caused\n",
      "at finally, cleanup\n"
     ]
    }
   ],
   "source": [
    "# finally is a block will be called on error, no error scenario\n",
    "# finally to close/release resources\n",
    "\n",
    "try:\n",
    "    42/0 # except shall be called, finally will be called\n",
    "    #42/2 # no exception, finally will be called\n",
    "except:\n",
    "    print('exception caused')\n",
    "finally:\n",
    "    print('at finally, cleanup')\n",
    "    "
   ]
  },
  {
   "cell_type": "code",
   "execution_count": null,
   "id": "19f526d8-c7e3-44d2-ada2-1f96a41b53be",
   "metadata": {},
   "outputs": [],
   "source": []
  }
 ],
 "metadata": {
  "kernelspec": {
   "display_name": "Python 3 (ipykernel)",
   "language": "python",
   "name": "python3"
  },
  "language_info": {
   "codemirror_mode": {
    "name": "ipython",
    "version": 3
   },
   "file_extension": ".py",
   "mimetype": "text/x-python",
   "name": "python",
   "nbconvert_exporter": "python",
   "pygments_lexer": "ipython3",
   "version": "3.9.7"
  }
 },
 "nbformat": 4,
 "nbformat_minor": 5
}
