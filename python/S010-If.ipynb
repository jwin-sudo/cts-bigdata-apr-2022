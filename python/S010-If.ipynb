{
 "cells": [
  {
   "cell_type": "code",
   "execution_count": 1,
   "id": "813aa14b-f204-492a-81c2-3183d644cb64",
   "metadata": {},
   "outputs": [
    {
     "name": "stdout",
     "output_type": "stream",
     "text": [
      "Odd Number\n"
     ]
    }
   ],
   "source": [
    "# conditional statement which can evaluate to True/False\n",
    "\n",
    "n = 11 # 10\n",
    "\n",
    "if n % 2 == 0:\n",
    "    # true part\n",
    "    print(\"Even Number\")\n",
    "else:\n",
    "    # else part, False\n",
    "    print(\"Odd Number\")"
   ]
  },
  {
   "cell_type": "code",
   "execution_count": 2,
   "id": "fda67e3e-4545-4e53-b329-f072ecfbcc31",
   "metadata": {},
   "outputs": [
    {
     "name": "stdout",
     "output_type": "stream",
     "text": [
      "a is greater\n"
     ]
    }
   ],
   "source": [
    "# if else is statement, statement doesn't return any result\n",
    "# else if statement\n",
    "\n",
    "a = 50\n",
    "b = 40\n",
    "c = 30\n",
    "\n",
    "# greatest amount\n",
    "\n",
    "if a > b and a > c:\n",
    "    print(\"a is greater\")\n",
    "elif b > c:\n",
    "    print(\"b is greater\")\n",
    "else:\n",
    "    print(\"c is greater\")\n",
    "\n"
   ]
  },
  {
   "cell_type": "code",
   "execution_count": 3,
   "id": "476fd198-f870-4928-9a83-307abcf9b75d",
   "metadata": {},
   "outputs": [
    {
     "name": "stdout",
     "output_type": "stream",
     "text": [
      "Odd\n"
     ]
    }
   ],
   "source": [
    "# if expression or similar to ternary operator\n",
    "# if used as expression that return \"Even\" or \"Odd\"\n",
    "# if expression returns output\n",
    "result = \"Even\" if 11 % 2 ==0 else \"Odd\"\n",
    "\n",
    "print(result)"
   ]
  },
  {
   "cell_type": "code",
   "execution_count": null,
   "id": "2500483f-1f9c-40fa-947b-b88823e6cf16",
   "metadata": {},
   "outputs": [],
   "source": []
  }
 ],
 "metadata": {
  "kernelspec": {
   "display_name": "Python 3 (ipykernel)",
   "language": "python",
   "name": "python3"
  },
  "language_info": {
   "codemirror_mode": {
    "name": "ipython",
    "version": 3
   },
   "file_extension": ".py",
   "mimetype": "text/x-python",
   "name": "python",
   "nbconvert_exporter": "python",
   "pygments_lexer": "ipython3",
   "version": "3.9.7"
  }
 },
 "nbformat": 4,
 "nbformat_minor": 5
}
