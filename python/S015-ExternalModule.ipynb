{
 "cells": [
  {
   "cell_type": "code",
   "execution_count": 5,
   "id": "ddb4e462-8ccd-439b-9777-9512a953ce2c",
   "metadata": {},
   "outputs": [],
   "source": [
    "# python has a lot of packages\n",
    "# located in PYPI index site\n",
    "# installation can be done using pip install\n",
    "# pip install simplejson\n",
    "\n",
    "# simple json is a library for parsing json file/content\n",
    "# on Linux terminal [create new one]\n",
    "# run below command\n",
    "\n",
    "# pip install simplejson"
   ]
  },
  {
   "cell_type": "code",
   "execution_count": 6,
   "id": "e202137d-1dce-497d-a38a-6cbe935c9b1e",
   "metadata": {},
   "outputs": [],
   "source": [
    "import simplejson as json"
   ]
  },
  {
   "cell_type": "code",
   "execution_count": null,
   "id": "320ec8c4-d111-4089-868e-897318e74b40",
   "metadata": {},
   "outputs": [],
   "source": []
  }
 ],
 "metadata": {
  "kernelspec": {
   "display_name": "Python 3 (ipykernel)",
   "language": "python",
   "name": "python3"
  },
  "language_info": {
   "codemirror_mode": {
    "name": "ipython",
    "version": 3
   },
   "file_extension": ".py",
   "mimetype": "text/x-python",
   "name": "python",
   "nbconvert_exporter": "python",
   "pygments_lexer": "ipython3",
   "version": "3.8.12"
  }
 },
 "nbformat": 4,
 "nbformat_minor": 5
}
