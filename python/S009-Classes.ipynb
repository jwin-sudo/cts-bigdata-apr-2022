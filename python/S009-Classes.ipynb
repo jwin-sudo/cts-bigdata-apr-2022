{
 "cells": [
  {
   "cell_type": "code",
   "execution_count": 1,
   "id": "aa63c13c-afa7-4bd1-9539-7eaa961a3956",
   "metadata": {},
   "outputs": [],
   "source": [
    "# what is class\n",
    "# prototype to create instances\n",
    "# class will have methods, attributes\n",
    "\n",
    "class Product:\n",
    "    # attributes\n",
    "    price = 100.0\n",
    "    discount = 0\n",
    "    grandTotal = 0\n",
    "    # self always first argument, represent instance of the class\n",
    "    # in C++/java//C# self is known as this\n",
    "    def applyDiscount(self,p):\n",
    "        self.discount = self.price * p / 100.0\n",
    "        self.grandTotal = self.price - self.discount\n",
    "        \n",
    "        "
   ]
  },
  {
   "cell_type": "code",
   "execution_count": 2,
   "id": "b80d4e6e-78b1-4f3b-93f5-8af0fabfe6a0",
   "metadata": {},
   "outputs": [
    {
     "name": "stdout",
     "output_type": "stream",
     "text": [
      "100.0 0 0\n",
      "after 10% 100.0 10.0 90.0\n",
      "after 50% 100.0 50.0 50.0\n"
     ]
    }
   ],
   "source": [
    "# create instance for product\n",
    "product1 = Product() # similar to C++/Java/C# new Product()\n",
    "\n",
    "print(product1.price, product1.discount, product1.grandTotal)\n",
    "# product1 is passed as self, the first arg\n",
    "product1.applyDiscount(10)\n",
    "print(\"after 10%\", product1.price, product1.discount, product1.grandTotal)\n",
    "\n",
    "product1.applyDiscount(50)\n",
    "print(\"after 50%\", product1.price, product1.discount, product1.grandTotal)\n",
    "\n"
   ]
  },
  {
   "cell_type": "code",
   "execution_count": 3,
   "id": "93c5a784-c8dc-4ad1-b3e8-b9b36f1434c0",
   "metadata": {},
   "outputs": [],
   "source": [
    "# initializer, a special method called _init_\n",
    "# similar to constructor in other lang\n",
    "\n",
    "class Product:\n",
    "    # attributes\n",
    "    price = 0.0\n",
    "    discount = 0\n",
    "    grandTotal = 0\n",
    "    \n",
    "    def __init__(self, price, discount = 0):\n",
    "        print(\"init called \", price, discount)\n",
    "        self.price = price\n",
    "        self.discount = discount\n",
    "    # self always first argument, represent instance of the class\n",
    "    # in C++/java//C# self is known as this\n",
    "    def applyDiscount(self,p):\n",
    "        self.discount = self.price * p / 100.0\n",
    "        self.grandTotal = self.price - self.discount"
   ]
  },
  {
   "cell_type": "code",
   "execution_count": 5,
   "id": "bbe4c100-3cd9-453b-8673-ef762aee321e",
   "metadata": {},
   "outputs": [
    {
     "name": "stdout",
     "output_type": "stream",
     "text": [
      "init called  100 10\n",
      "100 10\n",
      "init called  200 20\n",
      "200 20\n",
      "<__main__.Product object at 0x7f43b0aca790>\n"
     ]
    }
   ],
   "source": [
    "# let us initialize the value while creating product\n",
    "\n",
    "product1 = Product(100, 10) # this calls __init__ function\n",
    "print(product1.price, product1.discount)\n",
    "\n",
    "product2 = Product(200,20)\n",
    "print(product2.price, product2.discount)\n",
    "\n",
    "print(product1) # print memory address"
   ]
  },
  {
   "cell_type": "code",
   "execution_count": 9,
   "id": "9d0e4a57-b7f7-4898-9e8e-226d9eb07cce",
   "metadata": {},
   "outputs": [],
   "source": [
    "# initializer, a special method called __init__\n",
    "# similar to constructor in other lang\n",
    "\n",
    "# initializer, a special method called _init_\n",
    "# similar to constructor in other lang\n",
    "\n",
    "class Product:\n",
    "    # attributes\n",
    "    price = 0.0\n",
    "    discount = 0\n",
    "    grandTotal = 0\n",
    "    \n",
    "    def __init__(self, price, discount = 0):\n",
    "        print(\"init called \", price, discount)\n",
    "        self.price = price\n",
    "        self.discount = discount\n",
    "        \n",
    "    # called when printing object\n",
    "    # print shall call __str__\n",
    "    def __str__(self):\n",
    "        return \"Product (\" + str(self.price) + \", \" + str(self.discount) + \")\"\n",
    "    \n",
    "    # self always first argument, represent instance of the class\n",
    "    # in C++/java//C# self is known as this\n",
    "    def applyDiscount(self,p):\n",
    "        self.discount = self.price * p / 100.0\n",
    "        self.grandTotal = self.price - self.discount\n",
    "\n"
   ]
  },
  {
   "cell_type": "code",
   "execution_count": 10,
   "id": "74844d3f-49dc-4313-9ac9-bb82fe6c7ac7",
   "metadata": {},
   "outputs": [
    {
     "name": "stdout",
     "output_type": "stream",
     "text": [
      "init called  100 10\n",
      "Product (100, 10)\n"
     ]
    }
   ],
   "source": [
    "product1 = Product(100,10)\n",
    "print(product1) # internally calls __str__ and print the returned value"
   ]
  },
  {
   "cell_type": "code",
   "execution_count": 15,
   "id": "de20dcc9-8fe3-4369-9a23-16129179e992",
   "metadata": {},
   "outputs": [
    {
     "name": "stdout",
     "output_type": "stream",
     "text": [
      "BRAND: 1,NAME: Apple\n"
     ]
    }
   ],
   "source": [
    "#DIY \n",
    "#Create a class called Brand, which has two attributes, brand_id and brand_name\n",
    "\n",
    "# initialize them with __init__\n",
    "# implement __str__\n",
    "# print result\n",
    "# b1 = Brand(1, 'Apple')\n",
    "# print (b1) to print Brand (1,Apple)\n",
    "\n",
    "class Brand:\n",
    "    brand_id = 0\n",
    "    brand_name = ''\n",
    "    \n",
    "    def __init__(self, id, name):\n",
    "        self.brand_id = id\n",
    "        self.brand_name = name\n",
    "        \n",
    "    def __str__(self):\n",
    "        return \"BRAND: \" + str(self.brand_id) + \",\" + \"NAME: \" + str(self.brand_name)\n",
    "        \n",
    "b1 = Brand(1, 'Apple')\n",
    "print(b1)"
   ]
  },
  {
   "cell_type": "code",
   "execution_count": null,
   "id": "61540d7d-ef32-4bc4-bfe8-6bace7a7b6ef",
   "metadata": {},
   "outputs": [],
   "source": []
  }
 ],
 "metadata": {
  "kernelspec": {
   "display_name": "Python 3 (ipykernel)",
   "language": "python",
   "name": "python3"
  },
  "language_info": {
   "codemirror_mode": {
    "name": "ipython",
    "version": 3
   },
   "file_extension": ".py",
   "mimetype": "text/x-python",
   "name": "python",
   "nbconvert_exporter": "python",
   "pygments_lexer": "ipython3",
   "version": "3.9.7"
  }
 },
 "nbformat": 4,
 "nbformat_minor": 5
}
