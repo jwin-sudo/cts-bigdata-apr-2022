{
 "cells": [
  {
   "cell_type": "code",
   "execution_count": 6,
   "id": "e2cf792f-1703-4f79-992b-fa4491dfb004",
   "metadata": {},
   "outputs": [
    {
     "name": "stdout",
     "output_type": "stream",
     "text": [
      "pow func name pow\n",
      "Lambda func name  <lambda>\n",
      "type of func <class 'function'>\n",
      "type of lambda  <class 'function'>\n"
     ]
    }
   ],
   "source": [
    "# Lambda - annonymous function\n",
    "# no name to be given\n",
    "# can be created inline\n",
    "# always oneline\n",
    "# has no name, power is just variable\n",
    "# n is argument to Lambda\n",
    "# n * n is return value\n",
    "# before colon: declaration of arguments\n",
    "# after colon, return n expression, only one line\n",
    "\n",
    "power = lambda n: n * n # lambda\n",
    "\n",
    "# function, has name\n",
    "def pow(n):\n",
    "    return n * n\n",
    "\n",
    "# internally both def and lambda are functions only \n",
    "print (\"pow func name\", pow.__name__)\n",
    "print (\"Lambda func name \", power.__name__)\n",
    "print (\"type of func\", type(pow))\n",
    "print (\"type of lambda \", type(power))"
   ]
  },
  {
   "cell_type": "code",
   "execution_count": 7,
   "id": "6086b282-f469-4d59-a96f-8db165d8ef1f",
   "metadata": {},
   "outputs": [
    {
     "name": "stdout",
     "output_type": "stream",
     "text": [
      "100\n"
     ]
    }
   ],
   "source": [
    "print (power(10)) # calling lambda\n"
   ]
  },
  {
   "cell_type": "code",
   "execution_count": 9,
   "id": "ff5af375-7c6c-4030-b6cc-74eac3f9b070",
   "metadata": {},
   "outputs": [],
   "source": [
    "square = lambda n : n ** 2 # n^2\n",
    "cube = lambda n : n ** 3 # n ^ 3\n",
    "import math\n",
    "sqrt = lambda n: math.sqrt(n) # sq root of number\n"
   ]
  },
  {
   "cell_type": "code",
   "execution_count": 13,
   "id": "609ffc10-b88b-4b1c-b141-f8a3bbe90304",
   "metadata": {},
   "outputs": [
    {
     "name": "stdout",
     "output_type": "stream",
     "text": [
      "14\n",
      "36\n",
      "4.146264369941973\n"
     ]
    }
   ],
   "source": [
    "# higher order function\n",
    "# functional pattern\n",
    "# a function that accept another function as input called higher order function\n",
    "\n",
    "# sum of square/cube/sqrt of the numbers\n",
    "# sum is higher function, the first param is function\n",
    "# then we can pass as many numbers\n",
    "# sum func apply numbers into func and sum the result\n",
    "# func be be square, cube, sqrt, etc...\n",
    "\n",
    "def sum(func, *numbers):\n",
    "    s = 0\n",
    "    for n in numbers:\n",
    "        s += func(n)\n",
    "        \n",
    "    return s\n",
    "\n",
    "\n",
    "# passing square to sum function\n",
    "# sum of square of numbers\n",
    "# result should 1 ^ 2 + 2 ^ 2 + 3 ^ 2 = 14\n",
    "result = sum(square, 1,2,3)\n",
    "print(result)\n",
    "\n",
    "# DIY, try cube, sqrt, and get result and print\n",
    "result2 = sum(cube, 1,2,3)\n",
    "print(result2)\n",
    "\n",
    "result3 = sum(sqrt, 1,2,3)\n",
    "print(result3)\n",
    "\n",
    "\n",
    "\n"
   ]
  },
  {
   "cell_type": "code",
   "execution_count": 14,
   "id": "252fd373-73d5-4333-993c-5156e4ce8039",
   "metadata": {},
   "outputs": [
    {
     "name": "stdout",
     "output_type": "stream",
     "text": [
      "14\n"
     ]
    }
   ],
   "source": [
    "# lambda can be inline\n",
    "# def can't be inlined\n",
    "\n",
    "result = sum(lambda n: n * n, 1,2,3)\n",
    "print(result)"
   ]
  },
  {
   "cell_type": "code",
   "execution_count": null,
   "id": "e68fcf11-38b5-447f-96e4-0caa8b2208e1",
   "metadata": {},
   "outputs": [],
   "source": []
  }
 ],
 "metadata": {
  "kernelspec": {
   "display_name": "Python 3 (ipykernel)",
   "language": "python",
   "name": "python3"
  },
  "language_info": {
   "codemirror_mode": {
    "name": "ipython",
    "version": 3
   },
   "file_extension": ".py",
   "mimetype": "text/x-python",
   "name": "python",
   "nbconvert_exporter": "python",
   "pygments_lexer": "ipython3",
   "version": "3.9.7"
  }
 },
 "nbformat": 4,
 "nbformat_minor": 5
}
