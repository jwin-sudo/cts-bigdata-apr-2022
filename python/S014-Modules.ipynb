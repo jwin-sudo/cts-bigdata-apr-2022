{
 "cells": [
  {
   "cell_type": "code",
   "execution_count": 3,
   "id": "1a8893dd-c6f8-46a2-99f8-83751bdccfd9",
   "metadata": {},
   "outputs": [
    {
     "name": "stdout",
     "output_type": "stream",
     "text": [
      "models __init__ called\n"
     ]
    }
   ],
   "source": [
    "# in python, packages/namespace are called modules\n",
    "# each file is a module\n",
    "# we can use import statement to import the module\n",
    "\n",
    "# notice, the __init__ will be called\n",
    "# models is directory\n",
    "# product is product.py\n",
    "# Product is a class located in product.py\n",
    "\n",
    "from models.product import Product"
   ]
  },
  {
   "cell_type": "code",
   "execution_count": 2,
   "id": "ad8d5d4b-99eb-4bfb-967a-33bde434d2e0",
   "metadata": {},
   "outputs": [
    {
     "name": "stdout",
     "output_type": "stream",
     "text": [
      "Product created\n"
     ]
    }
   ],
   "source": [
    "p1 = Product()"
   ]
  },
  {
   "cell_type": "code",
   "execution_count": 3,
   "id": "7d98cfd0-d1ac-494d-99a8-173c855c23cb",
   "metadata": {},
   "outputs": [
    {
     "ename": "ImportError",
     "evalue": "cannot import name 'Product' from 'models' (/home/ubuntu/workshop/python/models/__init__.py)",
     "output_type": "error",
     "traceback": [
      "\u001b[0;31m---------------------------------------------------------------------------\u001b[0m",
      "\u001b[0;31mImportError\u001b[0m                               Traceback (most recent call last)",
      "Input \u001b[0;32mIn [3]\u001b[0m, in \u001b[0;36m<cell line: 1>\u001b[0;34m()\u001b[0m\n\u001b[0;32m----> 1\u001b[0m \u001b[38;5;28;01mfrom\u001b[39;00m \u001b[38;5;21;01mmodels\u001b[39;00m \u001b[38;5;28;01mimport\u001b[39;00m Product\n",
      "\u001b[0;31mImportError\u001b[0m: cannot import name 'Product' from 'models' (/home/ubuntu/workshop/python/models/__init__.py)"
     ]
    }
   ],
   "source": [
    "from models import Product # fails"
   ]
  },
  {
   "cell_type": "code",
   "execution_count": 4,
   "id": "0c7e91b8-cb21-45b5-873f-3f88052db7f6",
   "metadata": {},
   "outputs": [],
   "source": [
    "# now within __init__.py file\n",
    "# from product import Product\n"
   ]
  },
  {
   "cell_type": "code",
   "execution_count": 4,
   "id": "c49f2436-60c7-4931-b220-1ce1ec65f1ef",
   "metadata": {},
   "outputs": [],
   "source": [
    "from models import Product # sucess, since __init__ file has Product already imported"
   ]
  },
  {
   "cell_type": "code",
   "execution_count": null,
   "id": "7be3d625-701b-4c5b-9b45-f6a877a148b0",
   "metadata": {},
   "outputs": [],
   "source": []
  }
 ],
 "metadata": {
  "kernelspec": {
   "display_name": "Python 3 (ipykernel)",
   "language": "python",
   "name": "python3"
  },
  "language_info": {
   "codemirror_mode": {
    "name": "ipython",
    "version": 3
   },
   "file_extension": ".py",
   "mimetype": "text/x-python",
   "name": "python",
   "nbconvert_exporter": "python",
   "pygments_lexer": "ipython3",
   "version": "3.9.7"
  }
 },
 "nbformat": 4,
 "nbformat_minor": 5
}
