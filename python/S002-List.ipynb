{
 "cells": [
  {
   "cell_type": "code",
   "execution_count": 1,
   "id": "855c8d81-619e-4453-bb59-a283bf7e093e",
   "metadata": {},
   "outputs": [],
   "source": [
    "# list is data structure, \n",
    "# hold collection of items\n",
    "# [] to represent list\n",
    "\n",
    "# List items are mutable, insert/update/delete items any time\n",
    "stocks = ['INFY', 'APPL', 'TSLA']"
   ]
  },
  {
   "cell_type": "code",
   "execution_count": 2,
   "id": "0c29c45a-efd2-4c66-8977-3184a263d149",
   "metadata": {},
   "outputs": [
    {
     "name": "stdout",
     "output_type": "stream",
     "text": [
      "3\n"
     ]
    }
   ],
   "source": [
    "# to get length \n",
    "\n",
    "print (len(stocks))"
   ]
  },
  {
   "cell_type": "code",
   "execution_count": 3,
   "id": "3f312102-c803-43c5-b9bc-c97fbed2f670",
   "metadata": {},
   "outputs": [],
   "source": [
    "# append new element at end of the list\n",
    "stocks.append(\"MSFT\")"
   ]
  },
  {
   "cell_type": "code",
   "execution_count": 4,
   "id": "aab382d3-58d6-4099-977c-f914f9aa8993",
   "metadata": {},
   "outputs": [
    {
     "name": "stdout",
     "output_type": "stream",
     "text": [
      "['INFY', 'APPL', 'TSLA', 'MSFT']\n"
     ]
    }
   ],
   "source": [
    "print(stocks)"
   ]
  },
  {
   "cell_type": "code",
   "execution_count": 5,
   "id": "f8d3e5ef-d26d-499f-afaf-29972f0de380",
   "metadata": {},
   "outputs": [],
   "source": [
    "# insert element between, element index starting from 0\n",
    "stocks.insert(1, 'CTS')"
   ]
  },
  {
   "cell_type": "code",
   "execution_count": 6,
   "id": "076a0494-10ec-4c66-99a5-a378fa98f7fa",
   "metadata": {},
   "outputs": [
    {
     "name": "stdout",
     "output_type": "stream",
     "text": [
      "['INFY', 'CTS', 'APPL', 'TSLA', 'MSFT']\n"
     ]
    }
   ],
   "source": [
    "print(stocks)\n"
   ]
  },
  {
   "cell_type": "code",
   "execution_count": 7,
   "id": "172bf27e-be0b-4aae-8f54-94ad512c3993",
   "metadata": {},
   "outputs": [
    {
     "name": "stdout",
     "output_type": "stream",
     "text": [
      "['INFY', 'CTS', 'TSLA', 'MSFT']\n"
     ]
    }
   ],
   "source": [
    "# remove elements\n",
    "\n",
    "stocks.remove('APPL')\n",
    "print(stocks)\n"
   ]
  },
  {
   "cell_type": "code",
   "execution_count": 8,
   "id": "e4c4cb0e-40b2-41e4-9c35-04731990dfda",
   "metadata": {},
   "outputs": [
    {
     "name": "stdout",
     "output_type": "stream",
     "text": [
      "INFY\n",
      "MSFT\n",
      "MSFT\n",
      "TSLA\n"
     ]
    }
   ],
   "source": [
    "# access list element, use index position starting from 0 upto len - 1\n",
    "# positive index , from left to right\n",
    "print(stocks[0])\n",
    "print(stocks[3]) \n",
    "# negative index, from right to left\n",
    "print(stocks[-1]) # -1 represent last element\n",
    "print (stocks[-2]) # TSLA last but one"
   ]
  },
  {
   "cell_type": "code",
   "execution_count": 9,
   "id": "5ac12fb3-a9bd-4dc1-b7bc-80702e0822f9",
   "metadata": {},
   "outputs": [
    {
     "name": "stdout",
     "output_type": "stream",
     "text": [
      "['INFY', 'CTS', 'TSLA', 'MSFT']\n",
      "['TSLA', 'MSFT']\n",
      "['INFY', 'CTS']\n",
      "['INFY', 'CTS', 'TSLA']\n",
      "['CTS', 'TSLA']\n"
     ]
    }
   ],
   "source": [
    "# access list elements in range, : opeartor\n",
    "\n",
    "# upper bound is not given\n",
    "print (stocks[0:]) # picks element 0 to last element\n",
    "print (stocks[2:]) # picks 2 nd element onwards until last elemnet\n",
    "\n",
    "# lower bound is not given\n",
    "print(stocks[:2]) # picks element 0 to 2 - 1 (upper bound - 1)\n",
    "print(stocks[:-1]) # picks 0 to   upper bound -1 \n",
    "\n",
    "# 1 from left, -1 from right\n",
    "print(stocks[1:-1]) "
   ]
  },
  {
   "cell_type": "code",
   "execution_count": null,
   "id": "eeb6b429-55be-4fd4-8dcc-425a4e7113df",
   "metadata": {},
   "outputs": [],
   "source": []
  }
 ],
 "metadata": {
  "kernelspec": {
   "display_name": "Python 3 (ipykernel)",
   "language": "python",
   "name": "python3"
  },
  "language_info": {
   "codemirror_mode": {
    "name": "ipython",
    "version": 3
   },
   "file_extension": ".py",
   "mimetype": "text/x-python",
   "name": "python",
   "nbconvert_exporter": "python",
   "pygments_lexer": "ipython3",
   "version": "3.9.7"
  }
 },
 "nbformat": 4,
 "nbformat_minor": 5
}
