{
 "cells": [
  {
   "cell_type": "code",
   "execution_count": 1,
   "id": "06cf0cc8-b1bd-43cd-b11d-f472f2cf4fc6",
   "metadata": {},
   "outputs": [],
   "source": [
    "name = \"Python\"\n",
    "framework = 'Spark'\n",
    "#multiline\n",
    "course= \"\"\"\n",
    "We learn \n",
    "Python\n",
    "Spark \n",
    "\"\"\"\n",
    "\n",
    "\n",
    "# to run the cell, Shift + Enter"
   ]
  },
  {
   "cell_type": "code",
   "execution_count": 2,
   "id": "658b84a4-e36c-4e8f-9620-e6fb1c5c9647",
   "metadata": {},
   "outputs": [
    {
     "name": "stdout",
     "output_type": "stream",
     "text": [
      "Python\n",
      "Spark\n",
      "\n",
      "We learn \n",
      "Python\n",
      "Spark \n",
      "\n"
     ]
    }
   ],
   "source": [
    "print(name)\n",
    "print(framework)\n",
    "print(course)"
   ]
  },
  {
   "cell_type": "code",
   "execution_count": 3,
   "id": "c87c2601-692a-4367-a718-c0e033a1bf1a",
   "metadata": {},
   "outputs": [
    {
     "name": "stdout",
     "output_type": "stream",
     "text": [
      "     Python    \n"
     ]
    }
   ],
   "source": [
    "s = \"     Python    \"\n",
    "print(s)"
   ]
  },
  {
   "cell_type": "code",
   "execution_count": 4,
   "id": "8ca1c2fc-525c-4969-b4a8-d8edb15c99e1",
   "metadata": {},
   "outputs": [
    {
     "name": "stdout",
     "output_type": "stream",
     "text": [
      "     PYTHON    \n"
     ]
    }
   ],
   "source": [
    "u = s.upper()\n",
    "print(u)"
   ]
  },
  {
   "cell_type": "code",
   "execution_count": 5,
   "id": "1f8ceebb-c041-415e-9652-71f5918e51c6",
   "metadata": {},
   "outputs": [
    {
     "name": "stdout",
     "output_type": "stream",
     "text": [
      "     python    \n"
     ]
    }
   ],
   "source": [
    "l = s.lower()\n",
    "print(l)"
   ]
  },
  {
   "cell_type": "code",
   "execution_count": 6,
   "id": "9106a907-ca68-46ce-adc8-3c0e4cd48da6",
   "metadata": {},
   "outputs": [
    {
     "name": "stdout",
     "output_type": "stream",
     "text": [
      "Python\n"
     ]
    }
   ],
   "source": [
    "t = s.strip()\n",
    "print(t)\n"
   ]
  },
  {
   "cell_type": "code",
   "execution_count": null,
   "id": "c625d4c8-fff4-4099-a8f2-0d1273ecef68",
   "metadata": {},
   "outputs": [],
   "source": []
  }
 ],
 "metadata": {
  "kernelspec": {
   "display_name": "Python 3 (ipykernel)",
   "language": "python",
   "name": "python3"
  },
  "language_info": {
   "codemirror_mode": {
    "name": "ipython",
    "version": 3
   },
   "file_extension": ".py",
   "mimetype": "text/x-python",
   "name": "python",
   "nbconvert_exporter": "python",
   "pygments_lexer": "ipython3",
   "version": "3.9.7"
  }
 },
 "nbformat": 4,
 "nbformat_minor": 5
}
