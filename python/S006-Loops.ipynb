{
 "cells": [
  {
   "cell_type": "code",
   "execution_count": 1,
   "id": "6af6a368-8cf9-4b59-b934-4e8e7ed90845",
   "metadata": {},
   "outputs": [],
   "source": [
    "r1 = [1,2,3,4,5,6,7,8,9]"
   ]
  },
  {
   "cell_type": "code",
   "execution_count": 2,
   "id": "355a5e69-82e2-4228-be03-c1a2bd779e93",
   "metadata": {},
   "outputs": [],
   "source": [
    "r2 = range(1,10)"
   ]
  },
  {
   "cell_type": "code",
   "execution_count": 3,
   "id": "ad0815f7-1074-4bdb-b229-71f7bbbf5efc",
   "metadata": {},
   "outputs": [
    {
     "name": "stdout",
     "output_type": "stream",
     "text": [
      "[1, 2, 3, 4, 5, 6, 7, 8, 9]\n"
     ]
    }
   ],
   "source": [
    "print(r1)"
   ]
  },
  {
   "cell_type": "code",
   "execution_count": 4,
   "id": "0640c72c-f711-44cc-a403-8ce0d9b22a50",
   "metadata": {},
   "outputs": [
    {
     "name": "stdout",
     "output_type": "stream",
     "text": [
      "range(1, 10)\n"
     ]
    }
   ],
   "source": [
    "print(r2)"
   ]
  },
  {
   "cell_type": "code",
   "execution_count": 5,
   "id": "5b3fb5e4-7b7f-431d-afb1-c3c2394fc892",
   "metadata": {},
   "outputs": [
    {
     "name": "stdout",
     "output_type": "stream",
     "text": [
      "1\n",
      "2\n",
      "3\n",
      "4\n",
      "5\n",
      "6\n",
      "7\n",
      "8\n",
      "9\n"
     ]
    }
   ],
   "source": [
    "# colon : is used for block statements\n",
    "# use INDENTATION [WHITE SPACE/TAB]\n",
    "for i in r1:\n",
    "    print(i)"
   ]
  },
  {
   "cell_type": "code",
   "execution_count": 6,
   "id": "aa4422f5-f563-4004-a5a5-27ce031cab1f",
   "metadata": {},
   "outputs": [
    {
     "name": "stdout",
     "output_type": "stream",
     "text": [
      "1\n",
      "2\n",
      "3\n",
      "4\n",
      "5\n",
      "6\n",
      "7\n",
      "8\n",
      "9\n"
     ]
    }
   ],
   "source": [
    "for i in r2:\n",
    "    print(i)"
   ]
  },
  {
   "cell_type": "code",
   "execution_count": 8,
   "id": "9e4dd628-5e50-43e0-ba60-8216ee791218",
   "metadata": {},
   "outputs": [
    {
     "name": "stdout",
     "output_type": "stream",
     "text": [
      "Sum 45\n",
      "Fact 362880\n",
      "Sum  45 \n",
      " Fact 362880\n"
     ]
    }
   ],
   "source": [
    "s = 0\n",
    "f = 1\n",
    "\n",
    "for i in r2:\n",
    "    s += i \n",
    "    f *= i\n",
    "    \n",
    "print(\"Sum\", s)\n",
    "print(\"Fact\", f)\n",
    "print(\"Sum \", s, \"\\n\", \"Fact\", f)"
   ]
  },
  {
   "cell_type": "code",
   "execution_count": 9,
   "id": "69bc8db4-c772-4595-859e-9ab907ac0005",
   "metadata": {},
   "outputs": [
    {
     "name": "stdout",
     "output_type": "stream",
     "text": [
      "1\n",
      "3\n",
      "5\n",
      "7\n",
      "9\n"
     ]
    }
   ],
   "source": [
    "# continue \n",
    "# print only odd number\n",
    "for i in r2:\n",
    "    if i % 2 == 0:\n",
    "        continue\n",
    "    print(i) #print only odd number"
   ]
  },
  {
   "cell_type": "code",
   "execution_count": 10,
   "id": "c7d9d11a-a2aa-432c-9821-922816fec7a4",
   "metadata": {},
   "outputs": [],
   "source": [
    "# DIY: print even numbers"
   ]
  },
  {
   "cell_type": "code",
   "execution_count": 11,
   "id": "b1756ae0-2f6a-4b92-953b-06c3801a8e95",
   "metadata": {},
   "outputs": [
    {
     "name": "stdout",
     "output_type": "stream",
     "text": [
      "2\n",
      "4\n",
      "6\n",
      "8\n"
     ]
    }
   ],
   "source": [
    "for i in r2:\n",
    "    if i % 2 == 1:\n",
    "        continue\n",
    "    print(i) # print only even number\n",
    "    "
   ]
  },
  {
   "cell_type": "code",
   "execution_count": 12,
   "id": "28d53e04-1003-457a-b4dc-1c5da5e868c0",
   "metadata": {},
   "outputs": [
    {
     "name": "stdout",
     "output_type": "stream",
     "text": [
      "1\n",
      "2\n",
      "3\n",
      "4\n",
      "5\n",
      "6\n"
     ]
    }
   ],
   "source": [
    "# break is to break the loop and exit \n",
    "\n",
    "for i in r2:\n",
    "    print(i)\n",
    "    if i > 5:\n",
    "        break"
   ]
  },
  {
   "cell_type": "code",
   "execution_count": 2,
   "id": "b62f04a2-3cfe-4b7a-8d5c-97cc3109cb6a",
   "metadata": {},
   "outputs": [
    {
     "name": "stdout",
     "output_type": "stream",
     "text": [
      "Fact 120\n",
      "Sum 15\n"
     ]
    }
   ],
   "source": [
    "i = 1\n",
    "n = 5\n",
    "f = 1\n",
    "s = 0\n",
    "\n",
    "while i <=5:\n",
    "    f *= i\n",
    "    s += i\n",
    "    i += 1\n",
    "    \n",
    "print(\"Fact\", f)\n",
    "print(\"Sum\", s)"
   ]
  },
  {
   "cell_type": "code",
   "execution_count": null,
   "id": "af2ec1b2-cdea-4636-817d-2d4f151a0982",
   "metadata": {},
   "outputs": [],
   "source": []
  }
 ],
 "metadata": {
  "kernelspec": {
   "display_name": "Python 3 (ipykernel)",
   "language": "python",
   "name": "python3"
  },
  "language_info": {
   "codemirror_mode": {
    "name": "ipython",
    "version": 3
   },
   "file_extension": ".py",
   "mimetype": "text/x-python",
   "name": "python",
   "nbconvert_exporter": "python",
   "pygments_lexer": "ipython3",
   "version": "3.9.7"
  }
 },
 "nbformat": 4,
 "nbformat_minor": 5
}
