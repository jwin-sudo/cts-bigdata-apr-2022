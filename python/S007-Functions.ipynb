{
 "cells": [
  {
   "cell_type": "code",
   "execution_count": 1,
   "id": "a5e73f60-fc6d-4944-974d-3c2383f5e078",
   "metadata": {},
   "outputs": [],
   "source": [
    "# Functions - few lines of reusable code\n",
    "# functions accept 0, 1, ore more parameters, apply logic on parameters, return a result"
   ]
  },
  {
   "cell_type": "code",
   "execution_count": 2,
   "id": "65ce6529-0ec4-4998-92b9-eb3c114cc4e0",
   "metadata": {},
   "outputs": [
    {
     "name": "stdout",
     "output_type": "stream",
     "text": [
      "good morning\n",
      "happy learning\n",
      "good morning\n",
      "happy learning\n"
     ]
    }
   ],
   "source": [
    "# def keyword to define function, function shall have name\n",
    "\n",
    "\n",
    "# colon is mandatory, act as block statement, in other language begin, end, or {}\n",
    "# indentation mandatory for function\n",
    "# notice space for the print statement, that comes inside greeting\n",
    "# define a function, that takes 0 parameter, return no result\n",
    "\n",
    "def greeting():\n",
    "    print('good morning')\n",
    "    print('happy learning')\n",
    "\n",
    "# function ended here    , no indentation\n",
    "\n",
    "# call the function\n",
    "greeting()\n",
    "# reuse function\n",
    "greeting()"
   ]
  },
  {
   "cell_type": "code",
   "execution_count": 4,
   "id": "e29e49cb-0a8c-4f45-ba31-7e8fb89d1f29",
   "metadata": {},
   "outputs": [
    {
     "name": "stdout",
     "output_type": "stream",
     "text": [
      "Hello  Jane !!\n",
      "Good Morning  Jane\n",
      "Hello  Joe !!\n",
      "Good Morning  Joe\n"
     ]
    }
   ],
   "source": [
    "# define a function, that accept 1 parameter\n",
    "\n",
    "def greet(name):\n",
    "    print(\"Hello \", name, \"!!\")\n",
    "    print(\"Good Morning \", name)\n",
    "    \n",
    "greet(\"Jane\")\n",
    "greet(\"Joe\")"
   ]
  },
  {
   "cell_type": "code",
   "execution_count": 5,
   "id": "bfaa5250-872d-4d38-8fa5-0636fd0f8dea",
   "metadata": {},
   "outputs": [
    {
     "name": "stdout",
     "output_type": "stream",
     "text": [
      "30\n"
     ]
    }
   ],
   "source": [
    "# a function that accept 2 parameters, return 1 result\n",
    "\n",
    "def add(a,b):\n",
    "    return a+b\n",
    "\n",
    "result = add(10,20)\n",
    "print(result)"
   ]
  },
  {
   "cell_type": "code",
   "execution_count": 1,
   "id": "3e1094cd-9b10-4baa-9a82-3e9c2c0fb4bf",
   "metadata": {},
   "outputs": [
    {
     "name": "stdout",
     "output_type": "stream",
     "text": [
      "<class 'tuple'> ()\n",
      "0\n",
      "<class 'tuple'> (10,)\n",
      "10\n",
      "<class 'tuple'> (10, 20)\n",
      "30\n",
      "<class 'tuple'> (10, 20, 30, 40, 50)\n",
      "150\n"
     ]
    }
   ],
   "source": [
    "# Vars args\n",
    "# arbitary arguments, variable number of arguments\n",
    "# you may pass 0 parameter, or 1 parameter or 2 or any number of parameters\n",
    "# * to define vars arg\n",
    "# numbers is tuple\n",
    "\n",
    "def sum(*numbers):\n",
    "    print(type(numbers), numbers)\n",
    "    s = 0\n",
    "    # for each loop, where is n is element in numbers\n",
    "    for n in numbers:\n",
    "        s += n\n",
    "    \n",
    "    return s\n",
    "    \n",
    "print( sum() ) # no arg\n",
    "print( sum(10) ) # 1 arg\n",
    "print( sum(10, 20) ) # 2 args\n",
    "print( sum(10, 20, 30, 40, 50) ) # 5 args"
   ]
  },
  {
   "cell_type": "code",
   "execution_count": 2,
   "id": "55e7bd4a-5356-41aa-8ce5-797e2077d741",
   "metadata": {},
   "outputs": [
    {
     "name": "stdout",
     "output_type": "stream",
     "text": [
      "Symbol  MSFT  Qty  100 Price  150\n",
      "Symbol  FB  Qty  50 Price  200\n",
      "Symbol  TSLA  Qty  20 Price  400\n"
     ]
    }
   ],
   "source": [
    "# keyword based argument\n",
    "\n",
    "def placeOrder(symbol, qty, price):\n",
    "    print(\"Symbol \", symbol, \" Qty \", qty, \"Price \", price)\n",
    "    \n",
    "# typically arguments are passed from left to right\n",
    "\n",
    "placeOrder(\"MSFT\", 100, 150)\n",
    "\n",
    "# keyword\n",
    "placeOrder(symbol= \"FB\", qty = 50, price = 200)\n",
    "\n",
    "placeOrder(qty = 20, symbol = 'TSLA', price =400)"
   ]
  },
  {
   "cell_type": "code",
   "execution_count": 4,
   "id": "defc7de4-1063-4b61-bc6d-46e38c14408a",
   "metadata": {},
   "outputs": [
    {
     "name": "stdout",
     "output_type": "stream",
     "text": [
      "Type  <class 'dict'>\n",
      "Arguments {'age': 5}\n",
      "Type  <class 'dict'>\n",
      "Arguments {'age': 5, 'gender': 'female', 'state': 'C0'}\n",
      "Type  <class 'dict'>\n",
      "Arguments {}\n"
     ]
    }
   ],
   "source": [
    "# dynamic keyword based arguments\n",
    "# **\n",
    "\n",
    "def show(**arguments):\n",
    "    print(\"Type \", type(arguments))\n",
    "    print(\"Arguments\", arguments)\n",
    "    \n",
    "show(age=5)\n",
    "show(age=5, gender='female', state='C0')\n",
    "show()"
   ]
  },
  {
   "cell_type": "code",
   "execution_count": 5,
   "id": "8762f510-6476-40e0-8f25-94a5e2104cf6",
   "metadata": {},
   "outputs": [
    {
     "name": "stdout",
     "output_type": "stream",
     "text": [
      "a 0 b 0\n",
      "0\n",
      "a 10 b 0\n",
      "10\n",
      "a 10 b 20\n",
      "30\n",
      "a 10 b 20\n",
      "30\n"
     ]
    }
   ],
   "source": [
    "# default values for parameters\n",
    "def add(a=0, b = 0):\n",
    "    print(\"a\", a, \"b\", b)\n",
    "    return a+b\n",
    "\n",
    "print(add()) # a =0, b=0\n",
    "print (add(10)) # a = 10, b = 0\n",
    "print(add(10,20)) # a = 10, b = 20\n",
    "\n",
    "print (add(b=20, a=10)) # a=10, b= 20"
   ]
  },
  {
   "cell_type": "raw",
   "id": "86e5019d-c013-4580-82b2-6173eed539b6",
   "metadata": {},
   "source": []
  },
  {
   "cell_type": "raw",
   "id": "d3520f4a-f961-4323-a16a-ed50871086d3",
   "metadata": {},
   "source": []
  },
  {
   "cell_type": "code",
   "execution_count": null,
   "id": "dfdefb44-6457-4f02-bad9-aa64d7c9bec1",
   "metadata": {},
   "outputs": [],
   "source": []
  },
  {
   "cell_type": "code",
   "execution_count": null,
   "id": "7a26edf4-dcd2-41ad-987f-57db581eec9d",
   "metadata": {},
   "outputs": [],
   "source": []
  }
 ],
 "metadata": {
  "kernelspec": {
   "display_name": "Python 3 (ipykernel)",
   "language": "python",
   "name": "python3"
  },
  "language_info": {
   "codemirror_mode": {
    "name": "ipython",
    "version": 3
   },
   "file_extension": ".py",
   "mimetype": "text/x-python",
   "name": "python",
   "nbconvert_exporter": "python",
   "pygments_lexer": "ipython3",
   "version": "3.9.7"
  }
 },
 "nbformat": 4,
 "nbformat_minor": 5
}
