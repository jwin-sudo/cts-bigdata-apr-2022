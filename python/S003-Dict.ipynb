{
 "cells": [
  {
   "cell_type": "code",
   "execution_count": 1,
   "id": "657aa8c4-08ad-4e37-a0ce-984923802abf",
   "metadata": {},
   "outputs": [],
   "source": [
    "# Dict - Key and Value\n",
    "# Key should be unique, Value can be anything\n",
    "# {} to define dictionary or dict\n",
    "# mutable, we can add/remove/update items anytime\n",
    "# lookup\n",
    "countries = {\n",
    "    #key: value\n",
    "    \"IN\": \"India\",\n",
    "    \"USA\": \"United States of America\",\n",
    "    \"CA\": \"Canada\"\n",
    "}\n",
    "# Shift + Enter"
   ]
  },
  {
   "cell_type": "code",
   "execution_count": 2,
   "id": "845b839a-c3a0-4df1-8b81-0b4f03f47c39",
   "metadata": {},
   "outputs": [
    {
     "name": "stdout",
     "output_type": "stream",
     "text": [
      "United States of America\n"
     ]
    }
   ],
   "source": [
    "print(countries[\"USA\"])"
   ]
  },
  {
   "cell_type": "code",
   "execution_count": 3,
   "id": "af69b240-9588-43aa-827b-a27d5aa7ee73",
   "metadata": {},
   "outputs": [
    {
     "name": "stdout",
     "output_type": "stream",
     "text": [
      "India\n"
     ]
    }
   ],
   "source": [
    "code = countries[\"IN\"]\n",
    "print(code)"
   ]
  },
  {
   "cell_type": "code",
   "execution_count": 4,
   "id": "f70058a2-fe4a-4bf3-b79a-a63175a8c076",
   "metadata": {},
   "outputs": [
    {
     "name": "stdout",
     "output_type": "stream",
     "text": [
      "3\n"
     ]
    }
   ],
   "source": [
    "# length\n",
    "print (len(countries))"
   ]
  },
  {
   "cell_type": "code",
   "execution_count": 5,
   "id": "8af3fcf5-d025-4222-8904-b0ed0475e57d",
   "metadata": {},
   "outputs": [
    {
     "name": "stdout",
     "output_type": "stream",
     "text": [
      "<class 'dict'>\n"
     ]
    }
   ],
   "source": [
    "# type\n",
    "print (type(countries))"
   ]
  },
  {
   "cell_type": "code",
   "execution_count": 6,
   "id": "fe9968b4-df37-415e-b593-9204050f0e4a",
   "metadata": {},
   "outputs": [
    {
     "name": "stdout",
     "output_type": "stream",
     "text": [
      "Canada\n"
     ]
    }
   ],
   "source": [
    "# get\n",
    "\n",
    "print (countries.get(\"CA\"))"
   ]
  },
  {
   "cell_type": "code",
   "execution_count": 7,
   "id": "615bd86d-1d83-4347-a336-28ec9df8eb13",
   "metadata": {},
   "outputs": [
    {
     "data": {
      "text/plain": [
       "dict_keys(['IN', 'USA', 'CA'])"
      ]
     },
     "execution_count": 7,
     "metadata": {},
     "output_type": "execute_result"
    }
   ],
   "source": [
    "# to get all keys\n",
    "countries.keys()"
   ]
  },
  {
   "cell_type": "code",
   "execution_count": 8,
   "id": "bd83a6ea-8f02-46b5-8a4b-fa5627b03537",
   "metadata": {},
   "outputs": [
    {
     "data": {
      "text/plain": [
       "dict_items([('IN', 'India'), ('USA', 'United States of America'), ('CA', 'Canada')])"
      ]
     },
     "execution_count": 8,
     "metadata": {},
     "output_type": "execute_result"
    }
   ],
   "source": [
    "# items, get all items with key, value tuple\n",
    "countries.items()"
   ]
  },
  {
   "cell_type": "code",
   "execution_count": 9,
   "id": "3e5c8299-bfca-4f6c-ae11-396d3c340acf",
   "metadata": {},
   "outputs": [
    {
     "name": "stdout",
     "output_type": "stream",
     "text": [
      "{'IN': 'India', 'USA': 'United States of America', 'CA': 'Canada', 'AU': 'Aus'}\n",
      "{'IN': 'India', 'USA': 'United States of America', 'CA': 'Canada', 'AU': 'Australia'}\n"
     ]
    }
   ],
   "source": [
    "# add new entry\n",
    "# modify existing data\n",
    "\n",
    "countries[\"AU\"] = \"Aus\" # add new entry\n",
    "print(countries)\n",
    "# modify the value\n",
    "countries[\"AU\"] = \"Australia\"\n",
    "print(countries)"
   ]
  },
  {
   "cell_type": "code",
   "execution_count": 10,
   "id": "38ea27f9-7f67-40ec-a013-9e8c10d9e6a8",
   "metadata": {},
   "outputs": [
    {
     "name": "stdout",
     "output_type": "stream",
     "text": [
      "dict_values(['India', 'United States of America', 'Canada', 'Australia'])\n"
     ]
    }
   ],
   "source": [
    "# get all values\n",
    "print(countries.values())"
   ]
  },
  {
   "cell_type": "code",
   "execution_count": 11,
   "id": "31b9995a-81f6-4035-ab15-95d0c0c822bd",
   "metadata": {},
   "outputs": [
    {
     "name": "stdout",
     "output_type": "stream",
     "text": [
      "{'IN': 'India', 'USA': 'United States of America', 'CA': 'Canada'}\n"
     ]
    }
   ],
   "source": [
    "# to remove item, popitem\n",
    "\n",
    "countries.pop(\"AU\")\n",
    "print(countries)"
   ]
  },
  {
   "cell_type": "code",
   "execution_count": 12,
   "id": "86f666ea-38fb-4bd2-8123-80204d73092c",
   "metadata": {},
   "outputs": [
    {
     "name": "stdout",
     "output_type": "stream",
     "text": [
      "{'IN': 'India', 'USA': 'United States of America'}\n"
     ]
    }
   ],
   "source": [
    "# to remove item using del keyword\n",
    "del countries['CA']\n",
    "\n",
    "print(countries)"
   ]
  },
  {
   "cell_type": "code",
   "execution_count": 13,
   "id": "c463bcee-afb6-43c2-b196-76bf6063fc3d",
   "metadata": {},
   "outputs": [
    {
     "name": "stdout",
     "output_type": "stream",
     "text": [
      "{}\n"
     ]
    }
   ],
   "source": [
    "# to remove all entries\n",
    "\n",
    "countries.clear()\n",
    "print(countries)"
   ]
  },
  {
   "cell_type": "code",
   "execution_count": null,
   "id": "16f54cdf-c31b-4d5b-b5ae-a572e6a54c18",
   "metadata": {},
   "outputs": [],
   "source": []
  }
 ],
 "metadata": {
  "kernelspec": {
   "display_name": "Python 3 (ipykernel)",
   "language": "python",
   "name": "python3"
  },
  "language_info": {
   "codemirror_mode": {
    "name": "ipython",
    "version": 3
   },
   "file_extension": ".py",
   "mimetype": "text/x-python",
   "name": "python",
   "nbconvert_exporter": "python",
   "pygments_lexer": "ipython3",
   "version": "3.9.7"
  }
 },
 "nbformat": 4,
 "nbformat_minor": 5
}
