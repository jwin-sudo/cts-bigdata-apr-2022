{
 "cells": [
  {
   "cell_type": "code",
   "execution_count": 1,
   "id": "1d653791-ea88-4ad0-bda9-586abc4d979f",
   "metadata": {},
   "outputs": [],
   "source": [
    "# Tuple - pair of elements\n",
    "# represent a fact, event, related information\n",
    "# like record\n",
    "# Tuple is immutable - once created, it cannot be changed\n",
    "# used a lot of in Spark, big data\n",
    "# tuple elements stored in index order\n",
    "stock1 = ('MSFT', 56, 54, 57)\n",
    "product = ('iPhone', 12, 1200)\n",
    "emp = ('Joe', 'Male', 35, 6000)"
   ]
  },
  {
   "cell_type": "code",
   "execution_count": 2,
   "id": "aab25483-c88a-4029-8d3c-60137e658200",
   "metadata": {},
   "outputs": [
    {
     "name": "stdout",
     "output_type": "stream",
     "text": [
      "4 3\n"
     ]
    }
   ],
   "source": [
    "print(len(stock1), len(product))\n"
   ]
  },
  {
   "cell_type": "code",
   "execution_count": 3,
   "id": "ab8f2dac-3a2c-4114-a29b-f62305f98fc4",
   "metadata": {},
   "outputs": [
    {
     "name": "stdout",
     "output_type": "stream",
     "text": [
      "MSFT\n"
     ]
    }
   ],
   "source": [
    "# to access tuple element, use [] with index starting from 0, similar to list\n",
    "\n",
    "print (stock1[0]) # MSFT"
   ]
  },
  {
   "cell_type": "code",
   "execution_count": 4,
   "id": "655ee4d5-f77e-47da-817d-08acb0a50c3e",
   "metadata": {},
   "outputs": [
    {
     "name": "stdout",
     "output_type": "stream",
     "text": [
      "57\n"
     ]
    }
   ],
   "source": [
    "print (stock1[-1]) # Last item 57\n"
   ]
  },
  {
   "cell_type": "code",
   "execution_count": 5,
   "id": "c3f0f296-d7f2-4e75-9a19-7e995d4ed463",
   "metadata": {},
   "outputs": [
    {
     "name": "stdout",
     "output_type": "stream",
     "text": [
      "('Joe', 'Male')\n"
     ]
    }
   ],
   "source": [
    "# range lowerbound:upper bound\n",
    "\n",
    "print ( emp[0:2]) "
   ]
  },
  {
   "cell_type": "code",
   "execution_count": 6,
   "id": "83fb8ad0-3536-4bb7-91e8-69f1654a4221",
   "metadata": {},
   "outputs": [
    {
     "name": "stdout",
     "output_type": "stream",
     "text": [
      "(12, 1200)\n"
     ]
    }
   ],
   "source": [
    "print ( product[1:] )\n"
   ]
  },
  {
   "cell_type": "code",
   "execution_count": 7,
   "id": "1243dff5-96c6-4f7c-b1c7-c503a4b1baf5",
   "metadata": {},
   "outputs": [
    {
     "name": "stdout",
     "output_type": "stream",
     "text": [
      "MSFT 56 54 57\n"
     ]
    }
   ],
   "source": [
    "# unpacking tuple\n",
    "# symbol, close price, day low, day high\n",
    "# declaration = expression\n",
    "stock1 = ('MSFT', 56, 54, 57)\n",
    "# we use [], index number, which is hard to remember\n",
    "\n",
    "# assign the stock1 elements into python variable\n",
    "# note: left side is declation/definition, ( - unpackaing\n",
    "(symbol, close, low, high) = stock1\n",
    "\n",
    "print(symbol, close, low, high)\n",
    "\n",
    "\n",
    "# symbol = stock1[0]"
   ]
  },
  {
   "cell_type": "code",
   "execution_count": 8,
   "id": "a20a18df-bdc9-4ba8-ace3-74be42d88e0a",
   "metadata": {},
   "outputs": [
    {
     "data": {
      "text/plain": [
       "tuple"
      ]
     },
     "execution_count": 8,
     "metadata": {},
     "output_type": "execute_result"
    }
   ],
   "source": [
    "type(stock1)\n"
   ]
  },
  {
   "cell_type": "code",
   "execution_count": 9,
   "id": "a62786c2-4b44-40a2-a507-02b039d5f23d",
   "metadata": {},
   "outputs": [
    {
     "name": "stdout",
     "output_type": "stream",
     "text": [
      "MSFT 56\n",
      "[54, 57] <class 'list'>\n"
     ]
    }
   ],
   "source": [
    "stock1 = ('MSFT', 56, 54, 57)\n",
    "# Asterisk *\n",
    "# we want symbol, close price, and low and high or others to be assigned to another list\n",
    "# *lowhigh means rest of the elements in the tuple\n",
    "# lowhigh is list type - remaining items \n",
    "(symbol, close, *lowhigh) = stock1\n",
    "print (symbol, close)\n",
    "print (lowhigh, type(lowhigh))"
   ]
  },
  {
   "cell_type": "code",
   "execution_count": 10,
   "id": "3baf43d6-bed6-44e4-b2fe-3da0aaeb4ef4",
   "metadata": {},
   "outputs": [
    {
     "name": "stdout",
     "output_type": "stream",
     "text": [
      "MSFT\n",
      "57\n",
      "[56, 54]\n"
     ]
    }
   ],
   "source": [
    "# unpacking \n",
    "stock1 = ('MSFT', 56, 54, 57)\n",
    "# r shall have close price, low price\n",
    "(symbol, *r, high) = stock1\n",
    "\n",
    "print(symbol)\n",
    "print(high)\n",
    "print(r)"
   ]
  },
  {
   "cell_type": "code",
   "execution_count": 11,
   "id": "1732af53-3afb-4401-8ad5-f5b1af0a3dbd",
   "metadata": {},
   "outputs": [
    {
     "ename": "TypeError",
     "evalue": "'tuple' object does not support item assignment",
     "output_type": "error",
     "traceback": [
      "\u001b[0;31m---------------------------------------------------------------------------\u001b[0m",
      "\u001b[0;31mTypeError\u001b[0m                                 Traceback (most recent call last)",
      "Input \u001b[0;32mIn [11]\u001b[0m, in \u001b[0;36m<cell line: 3>\u001b[0;34m()\u001b[0m\n\u001b[1;32m      1\u001b[0m \u001b[38;5;66;03m# tuple is immutable, unchangable\u001b[39;00m\n\u001b[1;32m      2\u001b[0m \u001b[38;5;66;03m# error\u001b[39;00m\n\u001b[0;32m----> 3\u001b[0m stock1[\u001b[38;5;241m0\u001b[39m] \u001b[38;5;241m=\u001b[39m \u001b[38;5;124m'\u001b[39m\u001b[38;5;124mTSLA\u001b[39m\u001b[38;5;124m'\u001b[39m\n",
      "\u001b[0;31mTypeError\u001b[0m: 'tuple' object does not support item assignment"
     ]
    }
   ],
   "source": [
    "# tuple is immutable, unchangable\n",
    "# error\n",
    "stock1[0] = 'TSLA'"
   ]
  },
  {
   "cell_type": "code",
   "execution_count": null,
   "id": "1b83989a-7aa1-4fad-b546-57afed806345",
   "metadata": {},
   "outputs": [],
   "source": []
  }
 ],
 "metadata": {
  "kernelspec": {
   "display_name": "Python 3 (ipykernel)",
   "language": "python",
   "name": "python3"
  },
  "language_info": {
   "codemirror_mode": {
    "name": "ipython",
    "version": 3
   },
   "file_extension": ".py",
   "mimetype": "text/x-python",
   "name": "python",
   "nbconvert_exporter": "python",
   "pygments_lexer": "ipython3",
   "version": "3.9.7"
  }
 },
 "nbformat": 4,
 "nbformat_minor": 5
}
