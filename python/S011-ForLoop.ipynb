{
 "cells": [
  {
   "cell_type": "code",
   "execution_count": 1,
   "id": "77155152-8e2a-4178-beb5-9d30e37310e9",
   "metadata": {},
   "outputs": [
    {
     "name": "stdout",
     "output_type": "stream",
     "text": [
      "FB\n",
      "AAPL\n",
      "EMR\n",
      "TSLA\n"
     ]
    }
   ],
   "source": [
    "stocks = ['FB', 'AAPL', 'EMR', 'TSLA']\n",
    "\n",
    "for stock in stocks:\n",
    "    print(stock)"
   ]
  },
  {
   "cell_type": "code",
   "execution_count": 3,
   "id": "5240e701-01b2-41d9-98f3-637635235205",
   "metadata": {},
   "outputs": [
    {
     "name": "stdin",
     "output_type": "stream",
     "text": [
      "enter n 10\n"
     ]
    },
    {
     "name": "stdout",
     "output_type": "stream",
     "text": [
      "n  10 <class 'str'>\n",
      "n  10 <class 'int'>\n"
     ]
    }
   ],
   "source": [
    "n = input(\"enter n\")\n",
    "print(\"n \", n, type(n))\n",
    "n = int(n) # Cast string to int\n",
    "print (\"n \", n, type(n))"
   ]
  },
  {
   "cell_type": "code",
   "execution_count": 4,
   "id": "c3b8f0d8-29e6-4c02-9e89-8aa39a95e6da",
   "metadata": {},
   "outputs": [
    {
     "name": "stdout",
     "output_type": "stream",
     "text": [
      "FB\n",
      "AAPL\n",
      "EMR\n",
      "TSLA\n",
      "done processing stock\n"
     ]
    }
   ],
   "source": [
    "# for loop with else part\n",
    "# else is executed at end of for loop\n",
    "\n",
    "for s in stocks:\n",
    "    print(s)\n",
    "else:\n",
    "    print('done processing stock')"
   ]
  },
  {
   "cell_type": "code",
   "execution_count": 5,
   "id": "1944b177-48c5-4540-88f8-781afa738cc3",
   "metadata": {},
   "outputs": [
    {
     "name": "stdout",
     "output_type": "stream",
     "text": [
      "FB\n",
      "AAPL\n",
      "EMR\n"
     ]
    }
   ],
   "source": [
    "# break, doesn't call else block\n",
    "\n",
    "for stock in stocks:\n",
    "    print(stock)\n",
    "    if stock == 'EMR': \n",
    "        break # come out of for loop\n",
    "else:\n",
    "    print('done processing stock')"
   ]
  },
  {
   "cell_type": "code",
   "execution_count": null,
   "id": "5e5d6dfa-8d32-40dc-a077-4ee0e115531b",
   "metadata": {},
   "outputs": [],
   "source": []
  }
 ],
 "metadata": {
  "kernelspec": {
   "display_name": "Python 3 (ipykernel)",
   "language": "python",
   "name": "python3"
  },
  "language_info": {
   "codemirror_mode": {
    "name": "ipython",
    "version": 3
   },
   "file_extension": ".py",
   "mimetype": "text/x-python",
   "name": "python",
   "nbconvert_exporter": "python",
   "pygments_lexer": "ipython3",
   "version": "3.9.7"
  }
 },
 "nbformat": 4,
 "nbformat_minor": 5
}
