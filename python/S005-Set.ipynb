{
 "cells": [
  {
   "cell_type": "code",
   "execution_count": 1,
   "id": "b6691c49-1335-47f2-b942-f8b7aec5accd",
   "metadata": {},
   "outputs": [
    {
     "name": "stdout",
     "output_type": "stream",
     "text": [
      "{'FB', 'MSFT', 'TSLA', 'AAPL'}\n"
     ]
    }
   ],
   "source": [
    "# set is a collection\n",
    "# unordered - doesn't preserve insert order\n",
    "# unindexed - we cann't access by index number like [0], 1 ,2..\n",
    "# { } to represent set\n",
    "# immutable, unchangable\n",
    "# duplicates not allowed\n",
    "stocks = {\"MSFT\", \"TSLA\", \"AAPL\", \"FB\", 'TSLA', 'FB'}\n",
    "\n",
    "print(stocks)"
   ]
  },
  {
   "cell_type": "code",
   "execution_count": 2,
   "id": "2f8d0eaf-3cc4-4a90-84ac-26a8260e9f04",
   "metadata": {},
   "outputs": [
    {
     "name": "stdout",
     "output_type": "stream",
     "text": [
      "4\n"
     ]
    }
   ],
   "source": [
    "print(len(stocks))\n"
   ]
  },
  {
   "cell_type": "code",
   "execution_count": 3,
   "id": "518e914e-4181-43cd-a863-676c180e2bd2",
   "metadata": {},
   "outputs": [
    {
     "ename": "TypeError",
     "evalue": "'set' object is not subscriptable",
     "output_type": "error",
     "traceback": [
      "\u001b[0;31m---------------------------------------------------------------------------\u001b[0m",
      "\u001b[0;31mTypeError\u001b[0m                                 Traceback (most recent call last)",
      "Input \u001b[0;32mIn [3]\u001b[0m, in \u001b[0;36m<cell line: 2>\u001b[0;34m()\u001b[0m\n\u001b[1;32m      1\u001b[0m \u001b[38;5;66;03m# error, we cannot access by index\u001b[39;00m\n\u001b[0;32m----> 2\u001b[0m \u001b[38;5;28mprint\u001b[39m (\u001b[43mstocks\u001b[49m\u001b[43m[\u001b[49m\u001b[38;5;241;43m0\u001b[39;49m\u001b[43m]\u001b[49m)\n",
      "\u001b[0;31mTypeError\u001b[0m: 'set' object is not subscriptable"
     ]
    }
   ],
   "source": [
    "# error, we cannot access by index\n",
    "print (stocks[0])\n"
   ]
  },
  {
   "cell_type": "code",
   "execution_count": 4,
   "id": "d03aa4b8-53d1-477a-962d-f7f0cd6dc0ac",
   "metadata": {},
   "outputs": [
    {
     "name": "stdout",
     "output_type": "stream",
     "text": [
      "True\n"
     ]
    }
   ],
   "source": [
    "# set membership\n",
    "\n",
    "hasFB = 'FB' in stocks\n",
    "\n",
    "print(hasFB)"
   ]
  },
  {
   "cell_type": "code",
   "execution_count": 5,
   "id": "feee7d03-55db-4656-98fa-3c1bc70c542f",
   "metadata": {},
   "outputs": [
    {
     "name": "stdout",
     "output_type": "stream",
     "text": [
      "False\n"
     ]
    }
   ],
   "source": [
    "print ( 'EMR' in stocks )"
   ]
  },
  {
   "cell_type": "code",
   "execution_count": null,
   "id": "f8ee0f74-80f0-4036-832c-edb88f7df0b1",
   "metadata": {},
   "outputs": [],
   "source": []
  }
 ],
 "metadata": {
  "kernelspec": {
   "display_name": "Python 3 (ipykernel)",
   "language": "python",
   "name": "python3"
  },
  "language_info": {
   "codemirror_mode": {
    "name": "ipython",
    "version": 3
   },
   "file_extension": ".py",
   "mimetype": "text/x-python",
   "name": "python",
   "nbconvert_exporter": "python",
   "pygments_lexer": "ipython3",
   "version": "3.9.7"
  }
 },
 "nbformat": 4,
 "nbformat_minor": 5
}
