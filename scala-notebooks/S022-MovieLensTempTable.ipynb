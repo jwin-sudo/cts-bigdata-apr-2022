{
 "cells": [
  {
   "cell_type": "code",
   "execution_count": 56,
   "id": "355a9d44-a759-4d79-ba5f-39ec13c466f3",
   "metadata": {},
   "outputs": [
    {
     "name": "stdout",
     "output_type": "stream",
     "text": [
      "root\n",
      " |-- movieId: integer (nullable = true)\n",
      " |-- title: string (nullable = true)\n",
      " |-- genres: string (nullable = true)\n",
      "\n",
      "+-------+----------------+--------------------+\n",
      "|movieId|           title|              genres|\n",
      "+-------+----------------+--------------------+\n",
      "|      1|Toy Story (1995)|Adventure|Animati...|\n",
      "|      2|  Jumanji (1995)|Adventure|Childre...|\n",
      "+-------+----------------+--------------------+\n",
      "only showing top 2 rows\n",
      "\n"
     ]
    },
    {
     "data": {
      "text/plain": [
       "movieDf: org.apache.spark.sql.DataFrame = [movieId: int, title: string ... 1 more field]\n"
      ]
     },
     "execution_count": 56,
     "metadata": {},
     "output_type": "execute_result"
    }
   ],
   "source": [
    "val movieDf = spark.read.format(\"csv\")\n",
    "                .option(\"header\", true)\n",
    "                .option(\"inferSchema\", true)\n",
    "                .option(\"delimitter\", \",\")\n",
    "                .load(\"hdfs://localhost:9000/ml-latest-small/movies.csv\")\n",
    "movieDf.printSchema()\n",
    "movieDf.show(2)\n"
   ]
  },
  {
   "cell_type": "code",
   "execution_count": 57,
   "id": "843714a0-20eb-4030-bb47-f682a8670ded",
   "metadata": {},
   "outputs": [
    {
     "data": {
      "text/plain": [
       "import org.apache.spark.sql.types.{StringType, StructType, DoubleType, IntegerType, LongType, StructField}\n",
       "RatingSchema: org.apache.spark.sql.types.StructType = StructType(StructField(userId,IntegerType,true), StructField(movieId,IntegerType,true), StructField(rating,DoubleType,true), StructField(timestamp,LongType,true))\n"
      ]
     },
     "execution_count": 57,
     "metadata": {},
     "output_type": "execute_result"
    }
   ],
   "source": [
    "// create schema\n",
    "\n",
    "import org.apache.spark.sql.types.{StringType, StructType, DoubleType, IntegerType, LongType, StructField}\n",
    "val RatingSchema = StructType(\n",
    "                                List(\n",
    "                                    StructField(\"userId\", IntegerType, true),\n",
    "                                    StructField(\"movieId\", IntegerType, true),\n",
    "                                    StructField(\"rating\", DoubleType, true),\n",
    "                                    StructField(\"timestamp\", LongType, true)\n",
    "                                    )\n",
    "                            )\n",
    "                                   "
   ]
  },
  {
   "cell_type": "code",
   "execution_count": null,
   "id": "465de63e-3513-449c-ba42-fba22c192f10",
   "metadata": {},
   "outputs": [],
   "source": []
  },
  {
   "cell_type": "code",
   "execution_count": 58,
   "id": "707aacc2-37d5-4b2e-a0ee-4be77b1d56c4",
   "metadata": {},
   "outputs": [
    {
     "name": "stdout",
     "output_type": "stream",
     "text": [
      "root\n",
      " |-- userId: integer (nullable = true)\n",
      " |-- movieId: integer (nullable = true)\n",
      " |-- rating: double (nullable = true)\n",
      " |-- timestamp: long (nullable = true)\n",
      "\n",
      "+------+-------+------+---------+\n",
      "|userId|movieId|rating|timestamp|\n",
      "+------+-------+------+---------+\n",
      "|     1|      1|   4.0|964982703|\n",
      "|     1|      3|   4.0|964981247|\n",
      "+------+-------+------+---------+\n",
      "only showing top 2 rows\n",
      "\n"
     ]
    },
    {
     "data": {
      "text/plain": [
       "ratingDf: org.apache.spark.sql.DataFrame = [userId: int, movieId: int ... 2 more fields]\n"
      ]
     },
     "execution_count": 58,
     "metadata": {},
     "output_type": "execute_result"
    }
   ],
   "source": [
    "val ratingDf = spark.read.format(\"csv\")\n",
    "                .option(\"header\", true)\n",
    "                .option(\"delimitter\", \",\")\n",
    "                .schema(RatingSchema)\n",
    "                .load(\"hdfs://localhost:9000/ml-latest-small/ratings.csv\")\n",
    "ratingDf.printSchema()\n",
    "ratingDf.show(2)\n"
   ]
  },
  {
   "cell_type": "code",
   "execution_count": 59,
   "id": "dccb4817-37da-4d75-b2de-4f2a6a0a9555",
   "metadata": {},
   "outputs": [
    {
     "data": {
      "text/plain": [
       "import org.apache.spark.sql.functions.col\n"
      ]
     },
     "execution_count": 59,
     "metadata": {},
     "output_type": "execute_result"
    }
   ],
   "source": [
    "import org.apache.spark.sql.functions.{col}"
   ]
  },
  {
   "cell_type": "code",
   "execution_count": 60,
   "id": "21d8d1c9-b326-42f3-a1b8-baea09c1430d",
   "metadata": {},
   "outputs": [
    {
     "data": {
      "text/plain": [
       "df: org.apache.spark.sql.Dataset[org.apache.spark.sql.Row] = [userId: int, movieId: int ... 2 more fields]\n",
       "res31: Long = 96655\n"
      ]
     },
     "execution_count": 60,
     "metadata": {},
     "output_type": "execute_result"
    }
   ],
   "source": [
    "val df = ratingDf.filter(ratingDf(\"rating\") > 1.0)\n",
    "df.count()"
   ]
  },
  {
   "cell_type": "code",
   "execution_count": 61,
   "id": "c76dc52d-7a0d-4ff3-9e76-2c7054a7adc8",
   "metadata": {},
   "outputs": [
    {
     "data": {
      "text/plain": [
       "df: org.apache.spark.sql.Dataset[org.apache.spark.sql.Row] = [userId: int, movieId: int ... 2 more fields]\n",
       "res32: Long = 96655\n"
      ]
     },
     "execution_count": 61,
     "metadata": {},
     "output_type": "execute_result"
    }
   ],
   "source": [
    "val df = ratingDf.filter($\"rating\" > 1.0)\n",
    "df.count()"
   ]
  },
  {
   "cell_type": "code",
   "execution_count": null,
   "id": "ffc3dc3d-e65b-435d-8595-4d1a0f3eab5d",
   "metadata": {},
   "outputs": [],
   "source": []
  },
  {
   "cell_type": "code",
   "execution_count": 62,
   "id": "a14c2d8e-f257-4202-8073-b3ed7b5168d0",
   "metadata": {},
   "outputs": [
    {
     "data": {
      "text/plain": [
       "df: org.apache.spark.sql.Dataset[org.apache.spark.sql.Row] = [userId: int, movieId: int ... 2 more fields]\n",
       "res33: Long = 96655\n"
      ]
     },
     "execution_count": 62,
     "metadata": {},
     "output_type": "execute_result"
    }
   ],
   "source": [
    "val df = ratingDf.filter('rating > 1.0)\n",
    "df.count()"
   ]
  },
  {
   "cell_type": "code",
   "execution_count": null,
   "id": "133fae9e-c47e-43f1-96d8-08c8b3f0f33a",
   "metadata": {},
   "outputs": [],
   "source": []
  },
  {
   "cell_type": "code",
   "execution_count": 64,
   "id": "4f3b4c0b-9688-4db7-b2dd-a41ba068b14f",
   "metadata": {},
   "outputs": [
    {
     "data": {
      "text/plain": [
       "import org.apache.spark.sql.functions.{count, avg}\n"
      ]
     },
     "execution_count": 64,
     "metadata": {},
     "output_type": "execute_result"
    }
   ],
   "source": [
    "import org.apache.spark.sql.functions.{count,avg}"
   ]
  },
  {
   "cell_type": "code",
   "execution_count": 65,
   "id": "f4366375-2673-4154-94d4-d881e821954a",
   "metadata": {},
   "outputs": [
    {
     "data": {
      "text/plain": [
       "popularDf: org.apache.spark.sql.DataFrame = [movieId: int, total_ratings: bigint]\n"
      ]
     },
     "execution_count": 65,
     "metadata": {},
     "output_type": "execute_result"
    }
   ],
   "source": [
    "val popularDf = ratingDf\n",
    "                        .groupBy($\"movieId\")\n",
    "                        .agg(count($\"userId\").alias(\"total_ratings\"))"
   ]
  },
  {
   "cell_type": "code",
   "execution_count": 67,
   "id": "4856791d-19bb-4393-81ef-ccc99d3ff9c7",
   "metadata": {},
   "outputs": [
    {
     "name": "stdout",
     "output_type": "stream",
     "text": [
      "root\n",
      " |-- movieId: integer (nullable = true)\n",
      " |-- total_ratings: long (nullable = false)\n",
      "\n"
     ]
    }
   ],
   "source": [
    "popularDf.printSchema()"
   ]
  },
  {
   "cell_type": "code",
   "execution_count": 68,
   "id": "0706e7e9-31a4-4637-b92a-8f3a516e9079",
   "metadata": {},
   "outputs": [
    {
     "name": "stdout",
     "output_type": "stream",
     "text": [
      "+-------+-------------+\n",
      "|movieId|total_ratings|\n",
      "+-------+-------------+\n",
      "|   1580|          165|\n",
      "|   2366|           25|\n",
      "+-------+-------------+\n",
      "only showing top 2 rows\n",
      "\n"
     ]
    }
   ],
   "source": [
    "popularDf.show(2)"
   ]
  },
  {
   "cell_type": "code",
   "execution_count": 72,
   "id": "842ace57-aa44-4038-bbd9-05ad1192c7c9",
   "metadata": {},
   "outputs": [],
   "source": [
    "movieDf.createOrReplaceTempView(\"movies\")"
   ]
  },
  {
   "cell_type": "code",
   "execution_count": 73,
   "id": "57ec66f8-e273-4994-9a1a-aa1f4fbcfa36",
   "metadata": {},
   "outputs": [
    {
     "name": "stdout",
     "output_type": "stream",
     "text": [
      "root\n",
      " |-- movieId: integer (nullable = true)\n",
      " |-- title: string (nullable = true)\n",
      " |-- genres: string (nullable = true)\n",
      "\n",
      "+-------+----------------+--------------------+\n",
      "|movieId|           title|              genres|\n",
      "+-------+----------------+--------------------+\n",
      "|      1|Toy Story (1995)|Adventure|Animati...|\n",
      "|      2|  Jumanji (1995)|Adventure|Childre...|\n",
      "+-------+----------------+--------------------+\n",
      "only showing top 2 rows\n",
      "\n"
     ]
    },
    {
     "data": {
      "text/plain": [
       "df: org.apache.spark.sql.DataFrame = [movieId: int, title: string ... 1 more field]\n"
      ]
     },
     "execution_count": 73,
     "metadata": {},
     "output_type": "execute_result"
    }
   ],
   "source": [
    "val df = spark.sql(\"SELECT * FROM movies\")\n",
    "df.printSchema()\n",
    "df.show(2)"
   ]
  },
  {
   "cell_type": "code",
   "execution_count": 74,
   "id": "90452490-5bfa-4f50-a8be-eb78a296e0d8",
   "metadata": {},
   "outputs": [
    {
     "name": "stdout",
     "output_type": "stream",
     "text": [
      "== Physical Plan ==\n",
      "FileScan csv [movieId#381,title#382,genres#383] Batched: false, DataFilters: [], Format: CSV, Location: InMemoryFileIndex[hdfs://localhost:9000/ml-latest-small/movies.csv], PartitionFilters: [], PushedFilters: [], ReadSchema: struct<movieId:int,title:string,genres:string>\n",
      "\n",
      "\n"
     ]
    }
   ],
   "source": [
    "df.explain()"
   ]
  },
  {
   "cell_type": "code",
   "execution_count": 75,
   "id": "b247cf9d-e9e7-4f02-b896-2535bc283cb0",
   "metadata": {},
   "outputs": [],
   "source": [
    "ratingDf.createOrReplaceTempView(\"ratings\")"
   ]
  },
  {
   "cell_type": "code",
   "execution_count": 76,
   "id": "de77b7fd-95e1-4393-9529-606c9396423d",
   "metadata": {},
   "outputs": [
    {
     "name": "stdout",
     "output_type": "stream",
     "text": [
      "root\n",
      " |-- userId: integer (nullable = true)\n",
      " |-- movieId: integer (nullable = true)\n",
      " |-- rating: double (nullable = true)\n",
      " |-- timestamp: long (nullable = true)\n",
      "\n",
      "+------+-------+------+---------+\n",
      "|userId|movieId|rating|timestamp|\n",
      "+------+-------+------+---------+\n",
      "|     1|      1|   4.0|964982703|\n",
      "|     1|      3|   4.0|964981247|\n",
      "+------+-------+------+---------+\n",
      "only showing top 2 rows\n",
      "\n"
     ]
    },
    {
     "data": {
      "text/plain": [
       "df: org.apache.spark.sql.DataFrame = [userId: int, movieId: int ... 2 more fields]\n"
      ]
     },
     "execution_count": 76,
     "metadata": {},
     "output_type": "execute_result"
    }
   ],
   "source": [
    "val df = spark.sql(\"SELECT * FROM ratings\")\n",
    "df.printSchema()\n",
    "df.show(2)"
   ]
  },
  {
   "cell_type": "code",
   "execution_count": 12,
   "id": "a5e7c8f3-f121-42d4-8dc6-7f1656ecf1b6",
   "metadata": {},
   "outputs": [
    {
     "name": "stdout",
     "output_type": "stream",
     "text": [
      "== Physical Plan ==\n",
      "FileScan csv [userId#57,movieId#58,rating#59,timestamp#60L] Batched: false, DataFilters: [], Format: CSV, Location: InMemoryFileIndex[hdfs://localhost:9000/ml-latest-small/ratings.csv], PartitionFilters: [], PushedFilters: [], ReadSchema: struct<userId:int,movieId:int,rating:double,timestamp:bigint>\n",
      "\n",
      "\n"
     ]
    }
   ],
   "source": [
    "df.explain()"
   ]
  },
  {
   "cell_type": "code",
   "execution_count": 13,
   "id": "ea72b757-006a-48fa-aee3-0389b4814103",
   "metadata": {},
   "outputs": [
    {
     "data": {
      "text/plain": [
       "df2: org.apache.spark.sql.DataFrame = [movieId: int, upper(title): string ... 1 more field]\n"
      ]
     },
     "execution_count": 13,
     "metadata": {},
     "output_type": "execute_result"
    }
   ],
   "source": [
    "val df2 = spark.sql(\"SELECT movieId, upper(title), genres from movies LIMIT 5\")"
   ]
  },
  {
   "cell_type": "code",
   "execution_count": 14,
   "id": "37b9ceaf-4b22-4813-9149-e484acb031d3",
   "metadata": {},
   "outputs": [
    {
     "name": "stdout",
     "output_type": "stream",
     "text": [
      "+-------+--------------------+--------------------+\n",
      "|movieId|        upper(title)|              genres|\n",
      "+-------+--------------------+--------------------+\n",
      "|      1|    TOY STORY (1995)|Adventure|Animati...|\n",
      "|      2|      JUMANJI (1995)|Adventure|Childre...|\n",
      "|      3|GRUMPIER OLD MEN ...|      Comedy|Romance|\n",
      "|      4|WAITING TO EXHALE...|Comedy|Drama|Romance|\n",
      "|      5|FATHER OF THE BRI...|              Comedy|\n",
      "+-------+--------------------+--------------------+\n",
      "\n"
     ]
    }
   ],
   "source": [
    "df2.show()"
   ]
  },
  {
   "cell_type": "code",
   "execution_count": 18,
   "id": "7993d8e9-a11d-4872-b5c7-0c34d2ac22c9",
   "metadata": {},
   "outputs": [
    {
     "data": {
      "text/plain": [
       "df3: org.apache.spark.sql.DataFrame = [rating: double]\n"
      ]
     },
     "execution_count": 18,
     "metadata": {},
     "output_type": "execute_result"
    }
   ],
   "source": [
    "val df3 = spark.sql(\" SELECT DISTINCT(rating) FROM ratings ORDER BY rating\")"
   ]
  },
  {
   "cell_type": "code",
   "execution_count": 19,
   "id": "77590714-1336-43cb-85df-a3101347cd6e",
   "metadata": {},
   "outputs": [
    {
     "name": "stdout",
     "output_type": "stream",
     "text": [
      "+------+\n",
      "|rating|\n",
      "+------+\n",
      "|   0.5|\n",
      "|   1.0|\n",
      "|   1.5|\n",
      "|   2.0|\n",
      "|   2.5|\n",
      "|   3.0|\n",
      "|   3.5|\n",
      "|   4.0|\n",
      "|   4.5|\n",
      "|   5.0|\n",
      "+------+\n",
      "\n"
     ]
    }
   ],
   "source": [
    "df3.show()"
   ]
  },
  {
   "cell_type": "code",
   "execution_count": 23,
   "id": "8bcbea54-1673-49af-a970-a7fada866f3d",
   "metadata": {},
   "outputs": [
    {
     "data": {
      "text/plain": [
       "df4: org.apache.spark.sql.DataFrame = [rating: double]\n"
      ]
     },
     "execution_count": 23,
     "metadata": {},
     "output_type": "execute_result"
    }
   ],
   "source": [
    "val df4 = spark.sql(\" SELECT DISTINCT(rating) FROM ratings ORDER BY rating DESC\")"
   ]
  },
  {
   "cell_type": "code",
   "execution_count": 24,
   "id": "156b8990-1de3-4624-b2b0-e67384d04caf",
   "metadata": {},
   "outputs": [
    {
     "name": "stdout",
     "output_type": "stream",
     "text": [
      "+------+\n",
      "|rating|\n",
      "+------+\n",
      "|   5.0|\n",
      "|   4.5|\n",
      "|   4.0|\n",
      "|   3.5|\n",
      "|   3.0|\n",
      "|   2.5|\n",
      "|   2.0|\n",
      "|   1.5|\n",
      "|   1.0|\n",
      "|   0.5|\n",
      "+------+\n",
      "\n"
     ]
    }
   ],
   "source": [
    "df4.show()"
   ]
  },
  {
   "cell_type": "code",
   "execution_count": 25,
   "id": "90801a43-651e-4234-80de-5b31900ddef7",
   "metadata": {},
   "outputs": [
    {
     "data": {
      "text/plain": [
       "df5: org.apache.spark.sql.DataFrame = [rating: double]\n"
      ]
     },
     "execution_count": 25,
     "metadata": {},
     "output_type": "execute_result"
    }
   ],
   "source": [
    "val df5 = spark.sql(\"SELECT rating from ratings WHERE rating >= 4 and rating <=5\")"
   ]
  },
  {
   "cell_type": "code",
   "execution_count": 26,
   "id": "d64e4387-4f72-49c9-9a0c-df148a732b4a",
   "metadata": {},
   "outputs": [
    {
     "name": "stdout",
     "output_type": "stream",
     "text": [
      "+------+\n",
      "|rating|\n",
      "+------+\n",
      "|   4.0|\n",
      "|   4.0|\n",
      "|   4.0|\n",
      "|   5.0|\n",
      "|   5.0|\n",
      "|   5.0|\n",
      "|   4.0|\n",
      "|   5.0|\n",
      "|   5.0|\n",
      "|   5.0|\n",
      "|   5.0|\n",
      "|   5.0|\n",
      "|   4.0|\n",
      "|   5.0|\n",
      "|   5.0|\n",
      "|   4.0|\n",
      "|   4.0|\n",
      "|   5.0|\n",
      "|   4.0|\n",
      "|   4.0|\n",
      "+------+\n",
      "only showing top 20 rows\n",
      "\n"
     ]
    }
   ],
   "source": [
    "df5.show()"
   ]
  },
  {
   "cell_type": "code",
   "execution_count": 48,
   "id": "262e3537-4cfa-4f49-ab97-f3a0a1893305",
   "metadata": {},
   "outputs": [
    {
     "data": {
      "text/plain": [
       "mostPopularMoviesDf: org.apache.spark.sql.DataFrame = [movieId: int, total_ratings: bigint ... 1 more field]\n"
      ]
     },
     "execution_count": 48,
     "metadata": {},
     "output_type": "execute_result"
    }
   ],
   "source": [
    "val mostPopularMoviesDf= spark.sql(\"\"\"SELECT movieId, COUNT(userId) as total_ratings, AVG(rating) as avg_ratings \n",
    "                    FROM ratings  \n",
    "                    WHERE rating > 1.0\n",
    "                    GROUP BY movieId \n",
    "                    HAVING avg_ratings >= 3.5 and total_ratings >= 100\n",
    "                    ORDER BY avg_ratings DESC\n",
    "                    \"\"\")"
   ]
  },
  {
   "cell_type": "code",
   "execution_count": 50,
   "id": "b000ae06-eaaf-4dbb-9d64-9adbb86b5b3f",
   "metadata": {},
   "outputs": [
    {
     "name": "stdout",
     "output_type": "stream",
     "text": [
      "+-------+-------------+------------------+\n",
      "|movieId|total_ratings|       avg_ratings|\n",
      "+-------+-------------+------------------+\n",
      "|    318|          315| 4.450793650793651|\n",
      "|    527|          213| 4.335680751173709|\n",
      "|   2959|          215| 4.325581395348837|\n",
      "|   1221|          127| 4.311023622047244|\n",
      "|   2571|          269| 4.308550185873606|\n",
      "|    858|          191| 4.306282722513089|\n",
      "|    296|          299| 4.285953177257525|\n",
      "|  48516|          106| 4.283018867924528|\n",
      "|     50|          202|  4.26980198019802|\n",
      "|    260|          249| 4.259036144578313|\n",
      "|   1198|          197| 4.258883248730965|\n",
      "|   1213|          126|              4.25|\n",
      "|   4973|          118| 4.241525423728813|\n",
      "|  58559|          149| 4.238255033557047|\n",
      "|   1196|          210| 4.233333333333333|\n",
      "|   1197|          142| 4.232394366197183|\n",
      "|   1193|          132|4.2272727272727275|\n",
      "|   1089|          130| 4.226923076923077|\n",
      "|   1208|          107| 4.219626168224299|\n",
      "|   2329|          129| 4.217054263565892|\n",
      "+-------+-------------+------------------+\n",
      "only showing top 20 rows\n",
      "\n"
     ]
    }
   ],
   "source": [
    "mostPopularMoviesDf.show()"
   ]
  },
  {
   "cell_type": "code",
   "execution_count": 77,
   "id": "9ac27433-1c7c-4181-ae8a-706ffd8034a0",
   "metadata": {},
   "outputs": [],
   "source": [
    "mostPopularMoviesDf.createOrReplaceTempView(\"most_popular_movies\")"
   ]
  },
  {
   "cell_type": "code",
   "execution_count": 80,
   "id": "141fb690-9a1a-4322-a728-3fa715de441c",
   "metadata": {},
   "outputs": [
    {
     "name": "stdout",
     "output_type": "stream",
     "text": [
      "+-------+--------------------+-----------------+-------------+\n",
      "|movieId|               title|      avg_ratings|total_ratings|\n",
      "+-------+--------------------+-----------------+-------------+\n",
      "|    356| Forrest Gump (1994)|4.185015290519877|          327|\n",
      "|    318|Shawshank Redempt...|4.450793650793651|          315|\n",
      "|    296| Pulp Fiction (1994)|4.285953177257525|          299|\n",
      "|    593|Silence of the La...|4.212727272727273|          275|\n",
      "|   2571|  Matrix, The (1999)|4.308550185873606|          269|\n",
      "+-------+--------------------+-----------------+-------------+\n",
      "only showing top 5 rows\n",
      "\n"
     ]
    },
    {
     "data": {
      "text/plain": [
       "df: org.apache.spark.sql.DataFrame = [movieId: int, title: string ... 2 more fields]\n"
      ]
     },
     "execution_count": 80,
     "metadata": {},
     "output_type": "execute_result"
    }
   ],
   "source": [
    "val df = spark.sql(\"\"\"\n",
    "                    SELECT most_popular_movies.movieId, title, avg_ratings, total_ratings \n",
    "                    FROM most_popular_movies \n",
    "                    INNER JOIN movies on movies.movieId = most_popular_movies.movieId\n",
    "                    ORDER BY total_ratings DESC\n",
    "                    \"\"\")\n",
    "df.show(5)"
   ]
  },
  {
   "cell_type": "code",
   "execution_count": 83,
   "id": "a30899f6-8020-4238-96a9-236319ad5f0f",
   "metadata": {},
   "outputs": [
    {
     "name": "stdout",
     "output_type": "stream",
     "text": [
      "+-------+--------------------+-----------------+-------------+\n",
      "|movieId|               title|      avg_ratings|total_ratings|\n",
      "+-------+--------------------+-----------------+-------------+\n",
      "|    356| Forrest Gump (1994)|4.185015290519877|          327|\n",
      "|    318|Shawshank Redempt...|4.450793650793651|          315|\n",
      "|    296| Pulp Fiction (1994)|4.285953177257525|          299|\n",
      "|    593|Silence of the La...|4.212727272727273|          275|\n",
      "|   2571|  Matrix, The (1999)|4.308550185873606|          269|\n",
      "+-------+--------------------+-----------------+-------------+\n",
      "only showing top 5 rows\n",
      "\n"
     ]
    },
    {
     "data": {
      "text/plain": [
       "df: org.apache.spark.sql.DataFrame = [movieId: int, title: string ... 2 more fields]\n"
      ]
     },
     "execution_count": 83,
     "metadata": {},
     "output_type": "execute_result"
    }
   ],
   "source": [
    "val df = spark.sql(\"\"\"\n",
    "                    SELECT mpm.movieId, title, avg_ratings, total_ratings \n",
    "                    FROM most_popular_movies mpm\n",
    "                    INNER JOIN movies m on m.movieId = mpm.movieId\n",
    "                    ORDER BY total_ratings DESC\n",
    "                    \"\"\")\n",
    "df.show(5)"
   ]
  },
  {
   "cell_type": "code",
   "execution_count": 88,
   "id": "8d487f25-619e-4961-9bc8-056dbc3918f8",
   "metadata": {},
   "outputs": [
    {
     "data": {
      "text/plain": [
       "res55: Int = 77\n"
      ]
     },
     "execution_count": 88,
     "metadata": {},
     "output_type": "execute_result"
    }
   ],
   "source": [
    "df.rdd.getNumPartitions"
   ]
  },
  {
   "cell_type": "code",
   "execution_count": 89,
   "id": "19bb9b92-1202-4b14-aa49-29e08094e5be",
   "metadata": {},
   "outputs": [
    {
     "data": {
      "text/plain": [
       "res56: df.type = [movieId: int, title: string ... 2 more fields]\n"
      ]
     },
     "execution_count": 89,
     "metadata": {},
     "output_type": "execute_result"
    }
   ],
   "source": [
    "df.cache()"
   ]
  },
  {
   "cell_type": "code",
   "execution_count": 90,
   "id": "772a7a7b-e583-4acf-85e1-0c998b794084",
   "metadata": {},
   "outputs": [
    {
     "data": {
      "text/plain": [
       "res57: mostPopularMoviesDf.type = [movieId: int, total_ratings: bigint ... 1 more field]\n"
      ]
     },
     "execution_count": 90,
     "metadata": {},
     "output_type": "execute_result"
    }
   ],
   "source": [
    "mostPopularMoviesDf.cache()"
   ]
  },
  {
   "cell_type": "code",
   "execution_count": 92,
   "id": "9760041a-89b9-4ff1-87bd-70139bc53285",
   "metadata": {},
   "outputs": [
    {
     "data": {
      "text/plain": [
       "res59: Int = 113\n"
      ]
     },
     "execution_count": 92,
     "metadata": {},
     "output_type": "execute_result"
    }
   ],
   "source": [
    "mostPopularMoviesDf.rdd.getNumPartitions"
   ]
  },
  {
   "cell_type": "code",
   "execution_count": 93,
   "id": "87a4570b-2f36-4cd6-b3b7-9a3f3886386a",
   "metadata": {},
   "outputs": [
    {
     "data": {
      "text/plain": [
       "rdd6: org.apache.spark.sql.Dataset[org.apache.spark.sql.Row] = [movieId: int, total_ratings: bigint ... 1 more field]\n"
      ]
     },
     "execution_count": 93,
     "metadata": {},
     "output_type": "execute_result"
    }
   ],
   "source": [
    "val rdd6 = mostPopularMoviesDf.coalesce(1)"
   ]
  },
  {
   "cell_type": "code",
   "execution_count": 94,
   "id": "ed428cc8-3c8d-419e-afb2-351b3a835fda",
   "metadata": {},
   "outputs": [
    {
     "name": "stdout",
     "output_type": "stream",
     "text": [
      "+-------+-------------+------------------+\n",
      "|movieId|total_ratings|       avg_ratings|\n",
      "+-------+-------------+------------------+\n",
      "|    318|          315| 4.450793650793651|\n",
      "|    527|          213| 4.335680751173709|\n",
      "|   2959|          215| 4.325581395348837|\n",
      "|   1221|          127| 4.311023622047244|\n",
      "|   2571|          269| 4.308550185873606|\n",
      "|    858|          191| 4.306282722513089|\n",
      "|    296|          299| 4.285953177257525|\n",
      "|  48516|          106| 4.283018867924528|\n",
      "|     50|          202|  4.26980198019802|\n",
      "|    260|          249| 4.259036144578313|\n",
      "|   1198|          197| 4.258883248730965|\n",
      "|   1213|          126|              4.25|\n",
      "|   4973|          118| 4.241525423728813|\n",
      "|  58559|          149| 4.238255033557047|\n",
      "|   1196|          210| 4.233333333333333|\n",
      "|   1197|          142| 4.232394366197183|\n",
      "|   1193|          132|4.2272727272727275|\n",
      "|   1089|          130| 4.226923076923077|\n",
      "|   1208|          107| 4.219626168224299|\n",
      "|   2329|          129| 4.217054263565892|\n",
      "+-------+-------------+------------------+\n",
      "only showing top 20 rows\n",
      "\n"
     ]
    }
   ],
   "source": [
    "rdd6.show()"
   ]
  },
  {
   "cell_type": "code",
   "execution_count": 98,
   "id": "158ac097-fe25-438c-8ebc-89e84e29bb29",
   "metadata": {},
   "outputs": [],
   "source": [
    "mostPopularMoviesDf.coalesce(1).write.mode(\"overwrite\")\n",
    "                .option(\"header\", true)\n",
    "                .csv(\"hdfs://localhost:9000/sql-popular-movies\")"
   ]
  },
  {
   "cell_type": "code",
   "execution_count": 99,
   "id": "547be415-edc4-413a-bf5d-ea156f3ac15d",
   "metadata": {},
   "outputs": [],
   "source": [
    "mostPopularMoviesDf.coalesce(1).write.mode(\"overwrite\")\n",
    "                .option(\"header\", true)\n",
    "                .json(\"hdfs://localhost:9000/sql-popular-movies\")"
   ]
  },
  {
   "cell_type": "code",
   "execution_count": 107,
   "id": "b28bdf4d-d620-461b-9b55-596b4cd2fd58",
   "metadata": {},
   "outputs": [
    {
     "data": {
      "text/plain": [
       "popularMovies: org.apache.spark.sql.DataFrame = [{\"movieId\":318: string, \"total_ratings\":315: string ... 1 more field]\n"
      ]
     },
     "execution_count": 107,
     "metadata": {},
     "output_type": "execute_result"
    }
   ],
   "source": [
    "val popularMovies = spark.read.format(\"csv\")\n",
    "                .option(\"header\", true)\n",
    "                .option(\"inferSchema\", true)\n",
    "                .load(\"hdfs://localhost:9000/sql-popular-movies\")"
   ]
  },
  {
   "cell_type": "code",
   "execution_count": 108,
   "id": "7de859fc-e7b4-40d1-b7a4-2557d2168f43",
   "metadata": {},
   "outputs": [
    {
     "data": {
      "text/plain": [
       "popularMovies: org.apache.spark.sql.DataFrame = [avg_ratings: double, movieId: bigint ... 1 more field]\n"
      ]
     },
     "execution_count": 108,
     "metadata": {},
     "output_type": "execute_result"
    }
   ],
   "source": [
    "val popularMovies  = spark.read.format(\"json\")\n",
    "                .option(\"header\", true)\n",
    "                .option(\"inferSchema\", true)\n",
    "                .load(\"hdfs://localhost:9000/sql-popular-movies\")"
   ]
  },
  {
   "cell_type": "code",
   "execution_count": 109,
   "id": "6de33d51-230f-4f9d-a867-e6ec402e413a",
   "metadata": {},
   "outputs": [
    {
     "ename": "<console>",
     "evalue": "31: error: missing argument list for method print in object Predef",
     "output_type": "error",
     "traceback": [
      "<console>:31: error: missing argument list for method print in object Predef",
      "Unapplied methods are only converted to functions when a function type is expected.",
      "You can make this conversion explicit by writing `print _` or `print(_)` instead of `print`.",
      "       print(\"\")",
      "       ^",
      ""
     ]
    }
   ],
   "source": [
    " = spark.read.format(\"csv\")\n",
    "                .option(\"header\", true)\n",
    "                .option(\"inferSchema\", true)\n",
    "                .load(\"hdfs://localhost:9000/sql-popular-movies\")"
   ]
  },
  {
   "cell_type": "code",
   "execution_count": 110,
   "id": "af814098-4105-40f4-acbc-c2709682a49a",
   "metadata": {},
   "outputs": [
    {
     "data": {
      "text/plain": [
       "res66: org.apache.spark.sql.DataFrame = []\n"
      ]
     },
     "execution_count": 110,
     "metadata": {},
     "output_type": "execute_result"
    }
   ],
   "source": [
    "spark.sql(\"\"\"CREATE OR REPLACE TEMP VIEW most_popular_temp_table AS \n",
    "                    SELECT movieId, avg(rating) as avg_ratings, \n",
    "                                    count(userId) as total_ratings\n",
    "                        from ratings \n",
    "                        WHERE rating > 1.0\n",
    "                        group by movieId \n",
    "                        having avg_ratings >= 3.5 and total_ratings >= 100\n",
    "                        order by avg_ratings desc\n",
    "                    \"\"\")\n"
   ]
  },
  {
   "cell_type": "code",
   "execution_count": 111,
   "id": "9b8b75e7-4284-49c5-9d19-c9b0f0705426",
   "metadata": {},
   "outputs": [
    {
     "name": "stdout",
     "output_type": "stream",
     "text": [
      "+-------+-----------------+-------------+\n",
      "|movieId|      avg_ratings|total_ratings|\n",
      "+-------+-----------------+-------------+\n",
      "|    318|4.450793650793651|          315|\n",
      "|    527|4.335680751173709|          213|\n",
      "|   2959|4.325581395348837|          215|\n",
      "|   1221|4.311023622047244|          127|\n",
      "+-------+-----------------+-------------+\n",
      "only showing top 4 rows\n",
      "\n"
     ]
    }
   ],
   "source": [
    "spark.sql(\"SELECT * FROM most_popular_temp_table\").show(4)\n"
   ]
  },
  {
   "cell_type": "code",
   "execution_count": 112,
   "id": "641636d0-b277-4fef-99bc-33daaa610a0f",
   "metadata": {},
   "outputs": [
    {
     "name": "stdout",
     "output_type": "stream",
     "text": [
      "root\n",
      " |-- movieId: integer (nullable = true)\n",
      " |-- avg_ratings: double (nullable = true)\n",
      " |-- total_ratings: long (nullable = false)\n",
      "\n",
      "+-------+------------------+-------------+\n",
      "|movieId|       avg_ratings|total_ratings|\n",
      "+-------+------------------+-------------+\n",
      "|    318| 4.450793650793651|          315|\n",
      "|    527| 4.335680751173709|          213|\n",
      "|   2959| 4.325581395348837|          215|\n",
      "|   1221| 4.311023622047244|          127|\n",
      "|   2571| 4.308550185873606|          269|\n",
      "|    858| 4.306282722513089|          191|\n",
      "|    296| 4.285953177257525|          299|\n",
      "|  48516| 4.283018867924528|          106|\n",
      "|     50|  4.26980198019802|          202|\n",
      "|    260| 4.259036144578313|          249|\n",
      "|   1198| 4.258883248730965|          197|\n",
      "|   1213|              4.25|          126|\n",
      "|   4973| 4.241525423728813|          118|\n",
      "|  58559| 4.238255033557047|          149|\n",
      "|   1196| 4.233333333333333|          210|\n",
      "|   1197| 4.232394366197183|          142|\n",
      "|   1193|4.2272727272727275|          132|\n",
      "|   1089| 4.226923076923077|          130|\n",
      "|   1208| 4.219626168224299|          107|\n",
      "|   2329| 4.217054263565892|          129|\n",
      "+-------+------------------+-------------+\n",
      "only showing top 20 rows\n",
      "\n"
     ]
    },
    {
     "data": {
      "text/plain": [
       "df: org.apache.spark.sql.DataFrame = [movieId: int, avg_ratings: double ... 1 more field]\n"
      ]
     },
     "execution_count": 112,
     "metadata": {},
     "output_type": "execute_result"
    }
   ],
   "source": [
    "val df = spark.table(\"most_popular_temp_table\")\n",
    "df.printSchema()\n",
    "df.show()\n"
   ]
  },
  {
   "cell_type": "code",
   "execution_count": null,
   "id": "fc1659a9-64fe-481d-a2de-fc49ca55cbda",
   "metadata": {},
   "outputs": [],
   "source": []
  }
 ],
 "metadata": {
  "kernelspec": {
   "display_name": "spylon-kernel",
   "language": "scala",
   "name": "spylon-kernel"
  },
  "language_info": {
   "codemirror_mode": "text/x-scala",
   "file_extension": ".scala",
   "help_links": [
    {
     "text": "MetaKernel Magics",
     "url": "https://metakernel.readthedocs.io/en/latest/source/README.html"
    }
   ],
   "mimetype": "text/x-scala",
   "name": "scala",
   "pygments_lexer": "scala",
   "version": "0.4.1"
  }
 },
 "nbformat": 4,
 "nbformat_minor": 5
}
