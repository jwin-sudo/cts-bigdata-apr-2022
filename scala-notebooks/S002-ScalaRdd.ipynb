{
 "cells": [
  {
   "cell_type": "code",
   "execution_count": 1,
   "id": "32d61959-c79e-4d21-b691-ef4322777067",
   "metadata": {},
   "outputs": [
    {
     "data": {
      "text/plain": [
       "Intitializing Scala interpreter ..."
      ]
     },
     "metadata": {},
     "output_type": "display_data"
    },
    {
     "data": {
      "text/plain": [
       "Spark Web UI available at http://192.168.174.129:4045\n",
       "SparkContext available as 'sc' (version = 3.1.3, master = local[*], app id = local-1651846451750)\n",
       "SparkSession available as 'spark'\n"
      ]
     },
     "metadata": {},
     "output_type": "display_data"
    },
    {
     "data": {
      "text/plain": [
       "r: Int = 30\n"
      ]
     },
     "execution_count": 1,
     "metadata": {},
     "output_type": "execute_result"
    }
   ],
   "source": [
    "val r = 10 + 20\n",
    "// Shift +Enter to execute cell"
   ]
  },
  {
   "cell_type": "code",
   "execution_count": 2,
   "id": "b1da6a80-98ed-448c-8d9a-57ed224ee8e2",
   "metadata": {},
   "outputs": [
    {
     "name": "stdout",
     "output_type": "stream",
     "text": [
      "30"
     ]
    }
   ],
   "source": [
    "print(r)"
   ]
  },
  {
   "cell_type": "code",
   "execution_count": 3,
   "id": "2e52caf9-f52d-41e5-a7e9-d9e36efaca02",
   "metadata": {},
   "outputs": [
    {
     "data": {
      "text/plain": [
       "rdd: org.apache.spark.rdd.RDD[Int] = ParallelCollectionRDD[0] at parallelize at <console>:27\n"
      ]
     },
     "execution_count": 3,
     "metadata": {},
     "output_type": "execute_result"
    }
   ],
   "source": [
    "// intellisense \n",
    "// sc.<TAB><TAB><TAB>\n",
    "val rdd = sc.parallelize (1 to 10)"
   ]
  },
  {
   "cell_type": "code",
   "execution_count": 4,
   "id": "d1fc407c-673d-49b5-8009-7fb3ee3a370d",
   "metadata": {},
   "outputs": [
    {
     "data": {
      "text/plain": [
       "res1: Array[Int] = Array(1, 2, 3, 4, 5, 6, 7, 8, 9, 10)\n"
      ]
     },
     "execution_count": 4,
     "metadata": {},
     "output_type": "execute_result"
    }
   ],
   "source": [
    "rdd.collect()\n"
   ]
  },
  {
   "cell_type": "code",
   "execution_count": 5,
   "id": "5b281f0b-7526-463f-a503-7e1c8618eb6a",
   "metadata": {},
   "outputs": [
    {
     "data": {
      "text/plain": [
       "oddNumbers: org.apache.spark.rdd.RDD[Int] = MapPartitionsRDD[1] at filter at <console>:26\n",
       "res2: Array[Int] = Array(1, 3, 5, 7, 9)\n"
      ]
     },
     "execution_count": 5,
     "metadata": {},
     "output_type": "execute_result"
    }
   ],
   "source": [
    "val oddNumbers = rdd.filter (n => n % 2 == 1) \n",
    "oddNumbers.collect()"
   ]
  },
  {
   "cell_type": "code",
   "execution_count": 6,
   "id": "6d18d7c4-6739-451c-926f-c8d268a1bdf9",
   "metadata": {},
   "outputs": [
    {
     "data": {
      "text/plain": [
       "mulRdd: org.apache.spark.rdd.RDD[Int] = MapPartitionsRDD[2] at map at <console>:26\n",
       "res3: Array[Int] = Array(10, 30, 50, 70, 90)\n"
      ]
     },
     "execution_count": 6,
     "metadata": {},
     "output_type": "execute_result"
    }
   ],
   "source": [
    "val mulRdd = oddNumbers.map ( n => n * 10 )\n",
    "mulRdd.collect()"
   ]
  },
  {
   "cell_type": "code",
   "execution_count": 7,
   "id": "ef7aba6c-0130-4681-addd-0d3ee12fed09",
   "metadata": {},
   "outputs": [
    {
     "data": {
      "text/plain": [
       "res4: String =\n",
       "(4) MapPartitionsRDD[2] at map at <console>:26 []\n",
       " |  MapPartitionsRDD[1] at filter at <console>:26 []\n",
       " |  ParallelCollectionRDD[0] at parallelize at <console>:27 []\n"
      ]
     },
     "execution_count": 7,
     "metadata": {},
     "output_type": "execute_result"
    }
   ],
   "source": [
    "mulRdd.toDebugString\n"
   ]
  },
  {
   "cell_type": "code",
   "execution_count": null,
   "id": "619c66c3-10cf-4d80-9512-2f973a643a51",
   "metadata": {},
   "outputs": [],
   "source": []
  }
 ],
 "metadata": {
  "kernelspec": {
   "display_name": "spylon-kernel",
   "language": "scala",
   "name": "spylon-kernel"
  },
  "language_info": {
   "codemirror_mode": "text/x-scala",
   "file_extension": ".scala",
   "help_links": [
    {
     "text": "MetaKernel Magics",
     "url": "https://metakernel.readthedocs.io/en/latest/source/README.html"
    }
   ],
   "mimetype": "text/x-scala",
   "name": "scala",
   "pygments_lexer": "scala",
   "version": "0.4.1"
  }
 },
 "nbformat": 4,
 "nbformat_minor": 5
}
