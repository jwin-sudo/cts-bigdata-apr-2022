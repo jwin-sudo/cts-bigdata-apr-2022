{
 "cells": [
  {
   "cell_type": "code",
   "execution_count": 1,
   "id": "50ec20f1-47aa-4b98-841a-3c664cac9030",
   "metadata": {},
   "outputs": [
    {
     "data": {
      "text/plain": [
       "Intitializing Scala interpreter ..."
      ]
     },
     "metadata": {},
     "output_type": "display_data"
    },
    {
     "data": {
      "text/plain": [
       "Spark Web UI available at http://192.168.174.129:4046\n",
       "SparkContext available as 'sc' (version = 3.1.3, master = local[*], app id = local-1651847820838)\n",
       "SparkSession available as 'spark'\n"
      ]
     },
     "metadata": {},
     "output_type": "display_data"
    },
    {
     "data": {
      "text/plain": [
       "textFile: org.apache.spark.rdd.RDD[String] = hdfs://localhost:9000/books/book-war-and-peace.txt MapPartitionsRDD[1] at textFile at <console>:25\n",
       "res0: Long = 63845\n"
      ]
     },
     "execution_count": 1,
     "metadata": {},
     "output_type": "execute_result"
    }
   ],
   "source": [
    "val textFile = sc.textFile(\"hdfs://localhost:9000/books/book-war-and-peace.txt\")\n",
    "textFile.count()"
   ]
  },
  {
   "cell_type": "code",
   "execution_count": 2,
   "id": "eed78233-697e-4be3-bf3c-d87e8998fdd2",
   "metadata": {},
   "outputs": [
    {
     "data": {
      "text/plain": [
       "res1: Array[String] = Array(CHAPTER I, \"\", \"Well, Prince, so Genoa and Lucca are now just family estates of the, Buonapartes. But I warn you, if you don't tell me that this means war,, if you still try to defend the infamies and horrors perpetrated by that, Antichrist--I really believe he is Antichrist--I will have nothing more, to do with you and you are no longer my friend, no longer my 'faithful, slave,' as you call yourself! But how do you do? I see I have frightened, you--sit down and tell me all the news.\", \"\", It was in July, 1805, and the speaker was the well-known Anna Pavlovna, Scherer, maid of honor and favorite of the Empress Marya Fedorovna. With, these words she greeted Prince Vasili Kuragin, a man of high rank and, importance, who was the first to arrive at her reception....\n"
      ]
     },
     "execution_count": 2,
     "metadata": {},
     "output_type": "execute_result"
    }
   ],
   "source": [
    "textFile.collect()\n"
   ]
  },
  {
   "cell_type": "code",
   "execution_count": 3,
   "id": "8c9f10cd-027a-4e48-b9a0-e623841fa2bc",
   "metadata": {},
   "outputs": [
    {
     "data": {
      "text/plain": [
       "lowerCaseRdd: org.apache.spark.rdd.RDD[String] = MapPartitionsRDD[2] at map at <console>:26\n",
       "res2: Array[String] = Array(chapter i, \"\", \"well, prince, so genoa and lucca are now just family estates of the, buonapartes. but i warn you, if you don't tell me that this means war,, if you still try to defend the infamies and horrors perpetrated by that, antichrist--i really believe he is antichrist--i will have nothing more, to do with you and you are no longer my friend, no longer my 'faithful, slave,' as you call yourself! but how do you do? i see i have frightened, you--sit down and tell me all the news.\", \"\", it was in july, 1805, and the speaker was the well-known anna pavlovna, scherer, maid of honor and favorite of the empress marya fedorovna. with, these words she greeted prince vasil...\n"
      ]
     },
     "execution_count": 3,
     "metadata": {},
     "output_type": "execute_result"
    }
   ],
   "source": [
    "val lowerCaseRdd = textFile.map (line => line.trim().toLowerCase())\n",
    "lowerCaseRdd.collect()"
   ]
  },
  {
   "cell_type": "code",
   "execution_count": 4,
   "id": "7a13d780-cbdc-4910-ba59-cf222c3c2b9e",
   "metadata": {},
   "outputs": [
    {
     "data": {
      "text/plain": [
       "lowerCaseRdd: org.apache.spark.rdd.RDD[String] = MapPartitionsRDD[3] at map at <console>:28\n",
       "res3: Array[String] = Array(chapter i, \"\", \"well, prince, so genoa and lucca are now just family estates of the, buonapartes. but i warn you, if you don't tell me that this means war,, if you still try to defend the infamies and horrors perpetrated by that, antichrist--i really believe he is antichrist--i will have nothing more, to do with you and you are no longer my friend, no longer my 'faithful, slave,' as you call yourself! but how do you do? i see i have frightened, you--sit down and tell me all the news.\", \"\", it was in july, 1805, and the speaker was the well-known anna pavlovna, scherer, maid of honor and favorite of the empress marya fedorovna. with, these words she greeted prince vasil...\n"
      ]
     },
     "execution_count": 4,
     "metadata": {},
     "output_type": "execute_result"
    }
   ],
   "source": [
    "val lowerCaseRdd = textFile.map (line => line.trim().toLowerCase())\n",
    "lowerCaseRdd.collect()"
   ]
  },
  {
   "cell_type": "code",
   "execution_count": 5,
   "id": "a07085cf-4f66-4174-8fa2-f5bcd683f82e",
   "metadata": {},
   "outputs": [
    {
     "data": {
      "text/plain": [
       "wordArrayRdd: org.apache.spark.rdd.RDD[Array[String]] = MapPartitionsRDD[4] at map at <console>:26\n",
       "res4: Array[Array[String]] = Array(Array(chapter, i), Array(\"\"), Array(\"well,, prince,, so, genoa, and, lucca, are, now, just, family, estates, of, the), Array(buonapartes., but, i, warn, you,, if, you, don't, tell, me, that, this, means, war,), Array(if, you, still, try, to, defend, the, infamies, and, horrors, perpetrated, by, that), Array(antichrist--i, really, believe, he, is, antichrist--i, will, have, nothing, more), Array(to, do, with, you, and, you, are, no, longer, my, friend,, no, longer, my, 'faithful), Array(slave,', as, you, call, yourself!, but, how, do, you, do?, i, see, i, have, frightened), Array(you--sit, down, and, tell, me, all, the, news.\"), Array(\"\"), Array(it, was, i...\n"
      ]
     },
     "execution_count": 5,
     "metadata": {},
     "output_type": "execute_result"
    }
   ],
   "source": [
    "val wordArrayRdd = lowerCaseRdd.map (line => line.split(\" \"))\n",
    "wordArrayRdd.collect()"
   ]
  },
  {
   "cell_type": "code",
   "execution_count": 6,
   "id": "cc53366d-f3bc-47fe-aba8-adb2c534b8db",
   "metadata": {},
   "outputs": [
    {
     "data": {
      "text/plain": [
       "wordRdd: org.apache.spark.rdd.RDD[String] = MapPartitionsRDD[5] at flatMap at <console>:26\n",
       "res5: Array[String] = Array(chapter, i, \"\", \"well,, prince,, so, genoa, and, lucca, are, now, just, family, estates, of, the, buonapartes., but, i, warn, you,, if, you, don't, tell, me, that, this, means, war,, if, you, still, try, to, defend, the, infamies, and, horrors, perpetrated, by, that, antichrist--i, really, believe, he, is, antichrist--i, will, have, nothing, more, to, do, with, you, and, you, are, no, longer, my, friend,, no, longer, my, 'faithful, slave,', as, you, call, yourself!, but, how, do, you, do?, i, see, i, have, frightened, you--sit, down, and, tell, me, all, the, news.\", \"\", it, was, in, july,, 1805,, and, the, speaker, was, the, well-known, anna, pavlovna, scherer,, maid, o...\n"
      ]
     },
     "execution_count": 6,
     "metadata": {},
     "output_type": "execute_result"
    }
   ],
   "source": [
    "val wordRdd = wordArrayRdd.flatMap(arr => arr)\n",
    "wordRdd.collect()"
   ]
  },
  {
   "cell_type": "code",
   "execution_count": 7,
   "id": "39c9ede7-fa4d-4e03-8eb9-c71007f36c36",
   "metadata": {},
   "outputs": [
    {
     "data": {
      "text/plain": [
       "wordPairRdd: org.apache.spark.rdd.RDD[(String, Int)] = MapPartitionsRDD[7] at map at <console>:29\n",
       "res6: Array[(String, Int)] = Array((chapter,1), (i,1), (\"well,,1), (prince,,1), (so,1), (genoa,1), (and,1), (lucca,1), (are,1), (now,1), (just,1), (family,1), (estates,1), (of,1), (the,1), (buonapartes.,1), (but,1), (i,1), (warn,1), (you,,1), (if,1), (you,1), (don't,1), (tell,1), (me,1), (that,1), (this,1), (means,1), (war,,1), (if,1), (you,1), (still,1), (try,1), (to,1), (defend,1), (the,1), (infamies,1), (and,1), (horrors,1), (perpetrated,1), (by,1), (that,1), (antichrist--i,1), (really,1), (believe,1), (he,1), (is,1), (antichrist--i,1), (will,1), (have,1), (nothing,1), (more,1), (to,1), (do,1), (with,1), (you,1), (and,1), (you,1), (are,1), (no,1), (longer,1), (my,1), (friend,,1), (no,1),...\n"
      ]
     },
     "execution_count": 7,
     "metadata": {},
     "output_type": "execute_result"
    }
   ],
   "source": [
    "// Tuple 2\n",
    "val wordPairRdd = wordRdd\n",
    "                        .filter (word =>  !word.isEmpty())\n",
    "                        .map ( word => (word, 1) )\n",
    "\n",
    "wordPairRdd.collect()"
   ]
  },
  {
   "cell_type": "code",
   "execution_count": 8,
   "id": "25197293-05bf-4bbd-a136-eaa07866b212",
   "metadata": {},
   "outputs": [
    {
     "data": {
      "text/plain": [
       "wordCountRdd: org.apache.spark.rdd.RDD[(String, Int)] = ShuffledRDD[8] at reduceByKey at <console>:26\n",
       "res7: Array[(String, Int)] = Array((mattered,2), (\"vile,1), (bolkonski,71), (reunion,2), (denied?\",1), (muslin,,1), (god.\",1), (intimately,3), (antichrist--i,2), (blandly,5), (wobbers,1), (lost...,1), (fought?,1), (signal.,1), (hem,3), (think,\",3), (wasn't,7), (been,1460), (fuller,1), (they,,10), (entirety,,1), (frenchmen,,12), (happy.\",4), (pig,2), (accomplished,15), (muskets.,1), (crying,12), (breath,10), (liebchen,1), (contemptible,6), (\"drubetskoy,1), (moscow--despite,1), (ukrainian,2), (husky,2), (ivanushka's,1), (afterward,1), (peoples,,4), (eventuality,1), (pacifying,2), (angels,,1), (performed,,2), (breathless--to,1), (tea,,14), (logic,,2), (luminous,9), (snuffing,1), (espoused,...\n"
      ]
     },
     "execution_count": 8,
     "metadata": {},
     "output_type": "execute_result"
    }
   ],
   "source": [
    "val wordCountRdd = wordPairRdd.reduceByKey( (acc, value) => acc + value )\n",
    "wordCountRdd.collect()"
   ]
  },
  {
   "cell_type": "code",
   "execution_count": 9,
   "id": "1d744674-6d09-4950-8a46-9f763751da14",
   "metadata": {},
   "outputs": [],
   "source": [
    "wordCountRdd.saveAsTextFile(\"hdfs://localhost:9000/word-count-scala\")\n"
   ]
  },
  {
   "cell_type": "code",
   "execution_count": null,
   "id": "348bcf09-0956-495a-9e83-214e103a03a1",
   "metadata": {},
   "outputs": [],
   "source": []
  }
 ],
 "metadata": {
  "kernelspec": {
   "display_name": "spylon-kernel",
   "language": "scala",
   "name": "spylon-kernel"
  },
  "language_info": {
   "codemirror_mode": "text/x-scala",
   "file_extension": ".scala",
   "help_links": [
    {
     "text": "MetaKernel Magics",
     "url": "https://metakernel.readthedocs.io/en/latest/source/README.html"
    }
   ],
   "mimetype": "text/x-scala",
   "name": "scala",
   "pygments_lexer": "scala",
   "version": "0.4.1"
  }
 },
 "nbformat": 4,
 "nbformat_minor": 5
}
