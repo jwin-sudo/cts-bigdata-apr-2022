{
 "cells": [
  {
   "cell_type": "code",
   "execution_count": 1,
   "id": "c5b6f66b-b61a-4fa0-b802-e5c146b8ad74",
   "metadata": {},
   "outputs": [],
   "source": [
    "import findspark\n",
    "findspark.init()"
   ]
  },
  {
   "cell_type": "code",
   "execution_count": 2,
   "id": "b2b4b633-646f-4f32-a7ef-f31c86135a54",
   "metadata": {},
   "outputs": [
    {
     "name": "stderr",
     "output_type": "stream",
     "text": [
      "22/05/11 02:03:47 WARN Utils: Your hostname, ubuntu-virtual-machine resolves to a loopback address: 127.0.1.1; using 192.168.174.129 instead (on interface ens33)\n",
      "22/05/11 02:03:47 WARN Utils: Set SPARK_LOCAL_IP if you need to bind to another address\n",
      "22/05/11 02:03:47 WARN NativeCodeLoader: Unable to load native-hadoop library for your platform... using builtin-java classes where applicable\n",
      "Using Spark's default log4j profile: org/apache/spark/log4j-defaults.properties\n",
      "Setting default log level to \"WARN\".\n",
      "To adjust logging level use sc.setLogLevel(newLevel). For SparkR, use setLogLevel(newLevel).\n",
      "22/05/11 02:03:49 WARN Utils: Service 'SparkUI' could not bind on port 4040. Attempting port 4041.\n",
      "22/05/11 02:03:49 WARN Utils: Service 'SparkUI' could not bind on port 4041. Attempting port 4042.\n",
      "22/05/11 02:03:49 WARN Utils: Service 'SparkUI' could not bind on port 4042. Attempting port 4043.\n",
      "22/05/11 02:03:49 WARN Utils: Service 'SparkUI' could not bind on port 4043. Attempting port 4044.\n",
      "22/05/11 02:03:49 WARN Utils: Service 'SparkUI' could not bind on port 4044. Attempting port 4045.\n",
      "22/05/11 02:03:49 WARN Utils: Service 'SparkUI' could not bind on port 4045. Attempting port 4046.\n",
      "22/05/11 02:03:49 WARN Utils: Service 'SparkUI' could not bind on port 4046. Attempting port 4047.\n",
      "22/05/11 02:03:49 WARN Utils: Service 'SparkUI' could not bind on port 4047. Attempting port 4048.\n",
      "22/05/11 02:03:49 WARN Utils: Service 'SparkUI' could not bind on port 4048. Attempting port 4049.\n",
      "22/05/11 02:03:49 WARN Utils: Service 'SparkUI' could not bind on port 4049. Attempting port 4050.\n",
      "22/05/11 02:03:49 WARN Utils: Service 'SparkUI' could not bind on port 4050. Attempting port 4051.\n",
      "22/05/11 02:03:49 WARN Utils: Service 'SparkUI' could not bind on port 4051. Attempting port 4052.\n",
      "22/05/11 02:03:49 WARN Utils: Service 'SparkUI' could not bind on port 4052. Attempting port 4053.\n",
      "22/05/11 02:03:49 WARN Utils: Service 'SparkUI' could not bind on port 4053. Attempting port 4054.\n",
      "22/05/11 02:03:49 WARN Utils: Service 'SparkUI' could not bind on port 4054. Attempting port 4055.\n",
      "22/05/11 02:03:49 WARN Utils: Service 'SparkUI' could not bind on port 4055. Attempting port 4056.\n"
     ]
    }
   ],
   "source": [
    "from pyspark import SparkContext\n",
    "sc = SparkContext(\"local\", \"SparkRddTuple\")"
   ]
  },
  {
   "cell_type": "code",
   "execution_count": 3,
   "id": "7147fd3e-6636-45a3-8a3f-c3e919c8b554",
   "metadata": {},
   "outputs": [],
   "source": [
    "rdd = sc.textFile(\"hdfs://localhost:9000/ml-latest-small/movies.csv\")\n"
   ]
  },
  {
   "cell_type": "code",
   "execution_count": 4,
   "id": "a4805d6c-15bf-4403-b44d-8551e936f653",
   "metadata": {},
   "outputs": [
    {
     "name": "stderr",
     "output_type": "stream",
     "text": [
      "[Stage 0:>                                                          (0 + 1) / 1]\r"
     ]
    },
    {
     "name": "stdout",
     "output_type": "stream",
     "text": [
      "9743\n"
     ]
    },
    {
     "name": "stderr",
     "output_type": "stream",
     "text": [
      "                                                                                \r"
     ]
    }
   ],
   "source": [
    "result = rdd.count()\n",
    "print(result)"
   ]
  },
  {
   "cell_type": "code",
   "execution_count": 5,
   "id": "5e7f980c-a444-40dc-be32-ed758d7993f9",
   "metadata": {},
   "outputs": [
    {
     "name": "stdout",
     "output_type": "stream",
     "text": [
      "['movieId,title,genres', '1,Toy Story (1995),Adventure|Animation|Children|Comedy|Fantasy', '2,Jumanji (1995),Adventure|Children|Fantasy', '3,Grumpier Old Men (1995),Comedy|Romance', '4,Waiting to Exhale (1995),Comedy|Drama|Romance']\n"
     ]
    }
   ],
   "source": [
    "# Answer to #1.1\n",
    "\n",
    "#print(rdd.glom().collect())\n",
    "print(rdd.take(5))"
   ]
  },
  {
   "cell_type": "code",
   "execution_count": 6,
   "id": "974656ea-0efc-4d09-868c-8744f084577c",
   "metadata": {},
   "outputs": [
    {
     "name": "stdout",
     "output_type": "stream",
     "text": [
      "9743\n"
     ]
    }
   ],
   "source": [
    "print(rdd.count())"
   ]
  },
  {
   "cell_type": "code",
   "execution_count": 7,
   "id": "aff98f00-002d-489c-a5d1-b962473121b6",
   "metadata": {},
   "outputs": [
    {
     "name": "stdout",
     "output_type": "stream",
     "text": [
      "['movieId,title,genres', '1,Toy Story (1995),Adventure|Animation|Children|Comedy|Fantasy', '2,Jumanji (1995),Adventure|Children|Fantasy', '3,Grumpier Old Men (1995),Comedy|Romance', '4,Waiting to Exhale (1995),Comedy|Drama|Romance']\n"
     ]
    }
   ],
   "source": [
    "print(rdd.take(5))"
   ]
  },
  {
   "cell_type": "code",
   "execution_count": 8,
   "id": "6c84f050-03d5-462c-a8b7-eae352c2d831",
   "metadata": {},
   "outputs": [
    {
     "name": "stdout",
     "output_type": "stream",
     "text": [
      "['1,Toy Story (1995),Adventure|Animation|Children|Comedy|Fantasy', '2,Jumanji (1995),Adventure|Children|Fantasy', '3,Grumpier Old Men (1995),Comedy|Romance', '4,Waiting to Exhale (1995),Comedy|Drama|Romance', '5,Father of the Bride Part II (1995),Comedy']\n"
     ]
    }
   ],
   "source": [
    "headerLine = rdd.first()\n",
    "rddList = rdd.filter (lambda line: line != headerLine)\n",
    "print(rddList.take(5))\n"
   ]
  },
  {
   "cell_type": "code",
   "execution_count": 10,
   "id": "e690b7f3-0689-4087-bf46-762c4fe2739b",
   "metadata": {},
   "outputs": [
    {
     "data": {
      "text/plain": [
       "[['1', 'Toy Story (1995)', 'Adventure|Animation|Children|Comedy|Fantasy'],\n",
       " ['2', 'Jumanji (1995)', 'Adventure|Children|Fantasy'],\n",
       " ['3', 'Grumpier Old Men (1995)', 'Comedy|Romance'],\n",
       " ['4', 'Waiting to Exhale (1995)', 'Comedy|Drama|Romance'],\n",
       " ['5', 'Father of the Bride Part II (1995)', 'Comedy']]"
      ]
     },
     "execution_count": 10,
     "metadata": {},
     "output_type": "execute_result"
    }
   ],
   "source": [
    "wordListRdd = rddList.map (lambda line: line.split(\",\"))\n",
    "\n",
    "wordListRdd.take(5)\n"
   ]
  },
  {
   "cell_type": "code",
   "execution_count": 18,
   "id": "a5d0b125-5f20-48c8-a054-a48456077dcd",
   "metadata": {},
   "outputs": [
    {
     "data": {
      "text/plain": [
       "658"
      ]
     },
     "execution_count": 18,
     "metadata": {},
     "output_type": "execute_result"
    }
   ],
   "source": [
    "wordRdd = wordListRdd.flatMap(lambda elements: elements)\n",
    "filteredRDD = wordRdd.filter(lambda x: x.startswith('Adventure'))\n",
    "\n",
    "filteredRDD.count() # Answer to 1.2\n"
   ]
  },
  {
   "cell_type": "code",
   "execution_count": 21,
   "id": "758b70b3-8a18-452c-ade6-7c179d40b1f5",
   "metadata": {},
   "outputs": [
    {
     "data": {
      "text/plain": [
       "1603"
      ]
     },
     "execution_count": 21,
     "metadata": {},
     "output_type": "execute_result"
    }
   ],
   "source": [
    "romanceFilterRDD = wordRdd.filter(lambda x: \"Romance\" in x)\n",
    "romanceFilterRDD.count() # Answer to 1.3"
   ]
  },
  {
   "cell_type": "code",
   "execution_count": 22,
   "id": "9319ba98-e051-4944-a776-b746d0064102",
   "metadata": {},
   "outputs": [
    {
     "data": {
      "text/plain": [
       "3768"
      ]
     },
     "execution_count": 22,
     "metadata": {},
     "output_type": "execute_result"
    }
   ],
   "source": [
    "comedyFilterRDD = wordRdd.filter(lambda x: \"Comedy\" in x)\n",
    "comedyFilterRDD.count() # Answer to 1.2"
   ]
  },
  {
   "cell_type": "code",
   "execution_count": 23,
   "id": "00edef48-193f-4102-98dd-e0f0a2996590",
   "metadata": {},
   "outputs": [],
   "source": [
    "ratingRdd = sc.textFile(\"hdfs://localhost:9000/ml-latest-small/ratings.csv\")\n"
   ]
  },
  {
   "cell_type": "code",
   "execution_count": 25,
   "id": "2f100981-a105-4efd-a105-361901f4dd3c",
   "metadata": {},
   "outputs": [
    {
     "name": "stdout",
     "output_type": "stream",
     "text": [
      "['userId,movieId,rating,timestamp', '1,1,4.0,964982703', '1,3,4.0,964981247', '1,6,4.0,964982224', '1,47,5.0,964983815', '1,50,5.0,964982931', '1,70,3.0,964982400', '1,101,5.0,964980868', '1,110,4.0,964982176', '1,151,5.0,964984041']\n"
     ]
    }
   ],
   "source": [
    "print(ratingRdd.take(10)) # Answer to 1.4"
   ]
  },
  {
   "cell_type": "code",
   "execution_count": 52,
   "id": "11ad2340-b5be-44f8-bff4-464e7c10be60",
   "metadata": {},
   "outputs": [
    {
     "name": "stdout",
     "output_type": "stream",
     "text": [
      "[['userId', 'movieId', 'rating', 'timestamp'], ['1', '1', '4.0', '964982703'], ['1', '3', '4.0', '964981247'], ['1', '6', '4.0', '964982224'], ['1', '47', '5.0', '964983815']]\n"
     ]
    }
   ],
   "source": [
    "ratingListRdd = ratingRdd.map (lambda line: line.split(\",\"))\n",
    "print(ratingListRdd.take(5))\n"
   ]
  },
  {
   "cell_type": "code",
   "execution_count": 93,
   "id": "8cc4af70-59dd-4594-ae41-b6d4fe09c4c9",
   "metadata": {},
   "outputs": [
    {
     "name": "stdout",
     "output_type": "stream",
     "text": [
      "[['userId', 'movieId', 'rating', 'timestamp'], ['1', '1', '4.0', '964982703'], ['1', '3', '4.0', '964981247'], ['1', '6', '4.0', '964982224'], ['1', '47', '5.0', '964983815'], ['1', '50', '5.0', '964982931'], ['1', '70', '3.0', '964982400'], ['1', '101', '5.0', '964980868'], ['1', '110', '4.0', '964982176'], ['1', '151', '5.0', '964984041'], ['1', '157', '5.0', '964984100'], ['1', '163', '5.0', '964983650'], ['1', '216', '5.0', '964981208'], ['1', '223', '3.0', '964980985'], ['1', '231', '5.0', '964981179'], ['1', '235', '4.0', '964980908'], ['1', '260', '5.0', '964981680'], ['1', '296', '3.0', '964982967'], ['1', '316', '3.0', '964982310'], ['1', '333', '5.0', '964981179']]\n"
     ]
    }
   ],
   "source": [
    "ratingFilterRDD = ratingListRdd.filter(lambda x: x[2] >= '1.0')\n",
    "\n",
    "print(ratingFilterRDD.take(20)) # Answer to 1.4"
   ]
  },
  {
   "cell_type": "code",
   "execution_count": 103,
   "id": "bb157ba2-6a85-44e9-9905-f665ca862f37",
   "metadata": {},
   "outputs": [
    {
     "name": "stdout",
     "output_type": "stream",
     "text": [
      "[('userId', 'movieId', 'rating', 'timestamp'), ('1', '1', '4.0', '964982703'), ('1', '3', '4.0', '964981247'), ('1', '6', '4.0', '964982224'), ('1', '47', '5.0', '964983815')]\n"
     ]
    }
   ],
   "source": [
    "ratingRdd2 = ratingFilterRDD.map (lambda line: tuple(line))\n",
    "print(ratingRdd2.take(5))\n"
   ]
  },
  {
   "cell_type": "code",
   "execution_count": 118,
   "id": "2bb0f317-fec6-478f-b036-5f6532f9c726",
   "metadata": {},
   "outputs": [
    {
     "name": "stdout",
     "output_type": "stream",
     "text": [
      "[('1', 4.0), ('3', 4.0), ('6', 4.0), ('47', 5.0), ('50', 5.0), ('70', 3.0), ('101', 5.0), ('110', 4.0), ('151', 5.0), ('157', 5.0)]\n"
     ]
    }
   ],
   "source": [
    "headerLine = ratingRdd2.first()\n",
    "rddContent = ratingRdd2.filter (lambda line: line != headerLine)\n",
    "\n",
    "ratingRdd3 = rddContent.map(lambda n: ((n[1], float(n[2]))))\n",
    "print(ratingRdd3.take(10))\n",
    "                                \n",
    "#result = ratingRdd3.countByKey() \n",
    "#print(result.take(5))\n"
   ]
  },
  {
   "cell_type": "code",
   "execution_count": 120,
   "id": "784f5d1e-b337-49c4-a9fb-211e211a7800",
   "metadata": {},
   "outputs": [
    {
     "data": {
      "text/plain": [
       "[('1', 842.5), ('3', 169.0), ('6', 402.5), ('47', 806.0), ('50', 864.5)]"
      ]
     },
     "execution_count": 120,
     "metadata": {},
     "output_type": "execute_result"
    }
   ],
   "source": [
    "result = ratingRdd3.reduceByKey(lambda acc, value: acc + value)\n",
    "result.take(5)  # Answer to 1.5"
   ]
  },
  {
   "cell_type": "code",
   "execution_count": null,
   "id": "b3372bb6-56d8-4fa8-86d4-98a4d0467aca",
   "metadata": {},
   "outputs": [],
   "source": []
  }
 ],
 "metadata": {
  "kernelspec": {
   "display_name": "Python 3 (ipykernel)",
   "language": "python",
   "name": "python3"
  },
  "language_info": {
   "codemirror_mode": {
    "name": "ipython",
    "version": 3
   },
   "file_extension": ".py",
   "mimetype": "text/x-python",
   "name": "python",
   "nbconvert_exporter": "python",
   "pygments_lexer": "ipython3",
   "version": "3.8.12"
  }
 },
 "nbformat": 4,
 "nbformat_minor": 5
}
