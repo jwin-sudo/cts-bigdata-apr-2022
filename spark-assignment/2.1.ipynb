{
 "cells": [
  {
   "cell_type": "code",
   "execution_count": 3,
   "id": "daacdb16-a0cb-4ed9-b11a-8ff8d9970676",
   "metadata": {},
   "outputs": [
    {
     "data": {
      "text/plain": [
       "res1: org.apache.spark.SparkContext = org.apache.spark.SparkContext@35acd91c\n"
      ]
     },
     "execution_count": 3,
     "metadata": {},
     "output_type": "execute_result"
    }
   ],
   "source": [
    "sc\n"
   ]
  },
  {
   "cell_type": "code",
   "execution_count": 4,
   "id": "1b83d2a2-5e5e-4b10-b395-07f1d311c203",
   "metadata": {},
   "outputs": [
    {
     "data": {
      "text/plain": [
       "textFile: org.apache.spark.rdd.RDD[String] = hdfs://localhost:9000/apache_logs MapPartitionsRDD[1] at textFile at <console>:25\n",
       "res2: Long = 10000\n"
      ]
     },
     "execution_count": 4,
     "metadata": {},
     "output_type": "execute_result"
    }
   ],
   "source": [
    "val textFile = sc.textFile(\"hdfs://localhost:9000/apache_logs\") /*Answer to 2A*/\n",
    "textFile.count()"
   ]
  },
  {
   "cell_type": "code",
   "execution_count": 6,
   "id": "a500c66e-f00d-4ddf-806a-54a438c71c28",
   "metadata": {},
   "outputs": [
    {
     "data": {
      "text/plain": [
       "getRdd: org.apache.spark.rdd.RDD[String] = MapPartitionsRDD[3] at filter at <console>:28\n",
       "res4: Long = 9952\n"
      ]
     },
     "execution_count": 6,
     "metadata": {},
     "output_type": "execute_result"
    }
   ],
   "source": [
    "val getRdd = textFile.filter (word => word.contains(\"GET\"))\n",
    "getRdd.count() /*Answer to 2B*/"
   ]
  },
  {
   "cell_type": "code",
   "execution_count": 7,
   "id": "ca7ef17b-1c6e-4a61-9bc6-cc4bf9228201",
   "metadata": {},
   "outputs": [
    {
     "data": {
      "text/plain": [
       "postRdd: org.apache.spark.rdd.RDD[String] = MapPartitionsRDD[4] at filter at <console>:26\n",
       "res5: Long = 5\n"
      ]
     },
     "execution_count": 7,
     "metadata": {},
     "output_type": "execute_result"
    }
   ],
   "source": [
    "val postRdd = textFile.filter (word => word.contains(\"POST\"))\n",
    "postRdd.count() /*Answer to 2B*/"
   ]
  },
  {
   "cell_type": "code",
   "execution_count": 8,
   "id": "e94466f2-a3db-4366-b0a5-afa985083f71",
   "metadata": {},
   "outputs": [
    {
     "data": {
      "text/plain": [
       "errorRdd: org.apache.spark.rdd.RDD[String] = MapPartitionsRDD[5] at filter at <console>:26\n",
       "res6: Long = 216\n"
      ]
     },
     "execution_count": 8,
     "metadata": {},
     "output_type": "execute_result"
    }
   ],
   "source": [
    "val errorRdd = textFile.filter (word => word.contains(\"404\"))\n",
    "errorRdd.count() /* Answer to 2C */"
   ]
  },
  {
   "cell_type": "code",
   "execution_count": 9,
   "id": "fb317592-fa99-4427-8927-c524ef4b050e",
   "metadata": {},
   "outputs": [
    {
     "data": {
      "text/plain": [
       "noErrorRdd: org.apache.spark.rdd.RDD[String] = MapPartitionsRDD[6] at filter at <console>:26\n",
       "res7: Long = 9152\n"
      ]
     },
     "execution_count": 9,
     "metadata": {},
     "output_type": "execute_result"
    }
   ],
   "source": [
    "val noErrorRdd = textFile.filter (word => word.contains(\"200\"))\n",
    "noErrorRdd.count() /* Answer to 2C */"
   ]
  },
  {
   "cell_type": "code",
   "execution_count": 10,
   "id": "efa12515-8143-4048-9bec-f7b106925577",
   "metadata": {},
   "outputs": [
    {
     "data": {
      "text/plain": [
       "token: org.apache.spark.rdd.RDD[String] = MapPartitionsRDD[7] at map at <console>:26\n",
       "res8: Array[String] = Array(203023, 171717, 26185, 7697, 2892)\n"
      ]
     },
     "execution_count": 10,
     "metadata": {},
     "output_type": "execute_result"
    }
   ],
   "source": [
    "val token = textFile.map(line => line.split(\" \")(9))\n",
    "token.take(5)\n"
   ]
  },
  {
   "cell_type": "code",
   "execution_count": 21,
   "id": "e52aa666-9ff4-41cb-bc43-75681ee1711e",
   "metadata": {},
   "outputs": [
    {
     "data": {
      "text/plain": [
       "element: org.apache.spark.rdd.RDD[String] = MapPartitionsRDD[16] at filter at <console>:28\n",
       "res19: Array[String] = Array(203023, 171717, 26185, 430406, 38720)\n"
      ]
     },
     "execution_count": 21,
     "metadata": {},
     "output_type": "execute_result"
    }
   ],
   "source": [
    "val element = token.filter(element => element.toFloat/100.0 > 100)\n",
    "element.take(5) /* Answer to 2D */"
   ]
  },
  {
   "cell_type": "code",
   "execution_count": null,
   "id": "b3be6a6d-8735-4eec-96e6-837a39e0435a",
   "metadata": {},
   "outputs": [],
   "source": []
  },
  {
   "cell_type": "code",
   "execution_count": null,
   "id": "823a151c-6569-4aa4-a34d-a7adc84d69cf",
   "metadata": {},
   "outputs": [],
   "source": []
  }
 ],
 "metadata": {
  "kernelspec": {
   "display_name": "spylon-kernel",
   "language": "scala",
   "name": "spylon-kernel"
  },
  "language_info": {
   "codemirror_mode": "text/x-scala",
   "file_extension": ".scala",
   "help_links": [
    {
     "text": "MetaKernel Magics",
     "url": "https://metakernel.readthedocs.io/en/latest/source/README.html"
    }
   ],
   "mimetype": "text/x-scala",
   "name": "scala",
   "pygments_lexer": "scala",
   "version": "0.4.1"
  }
 },
 "nbformat": 4,
 "nbformat_minor": 5
}
