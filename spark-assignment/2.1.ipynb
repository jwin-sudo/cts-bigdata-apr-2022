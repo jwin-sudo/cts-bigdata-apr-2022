{
 "cells": [
  {
   "cell_type": "code",
   "execution_count": 1,
   "id": "daacdb16-a0cb-4ed9-b11a-8ff8d9970676",
   "metadata": {},
   "outputs": [
    {
     "data": {
      "text/plain": [
       "Intitializing Scala interpreter ..."
      ]
     },
     "metadata": {},
     "output_type": "display_data"
    },
    {
     "data": {
      "text/plain": [
       "Spark Web UI available at http://192.168.174.129:4041\n",
       "SparkContext available as 'sc' (version = 3.1.3, master = local[*], app id = local-1652295288562)\n",
       "SparkSession available as 'spark'\n"
      ]
     },
     "metadata": {},
     "output_type": "display_data"
    },
    {
     "data": {
      "text/plain": [
       "res0: org.apache.spark.SparkContext = org.apache.spark.SparkContext@1ab72bfb\n"
      ]
     },
     "execution_count": 1,
     "metadata": {},
     "output_type": "execute_result"
    }
   ],
   "source": [
    "sc\n"
   ]
  },
  {
   "cell_type": "code",
   "execution_count": 13,
   "id": "1b83d2a2-5e5e-4b10-b395-07f1d311c203",
   "metadata": {},
   "outputs": [
    {
     "data": {
      "text/plain": [
       "textFile: org.apache.spark.rdd.RDD[String] = hdfs://localhost:9000/apache_logs MapPartitionsRDD[4] at textFile at <console>:27\n",
       "res4: Long = 10000\n"
      ]
     },
     "execution_count": 13,
     "metadata": {},
     "output_type": "execute_result"
    }
   ],
   "source": [
    "val textFile = sc.textFile(\"hdfs://localhost:9000/apache_logs\") /*Answer to 2A*/\n",
    "textFile.count()"
   ]
  },
  {
   "cell_type": "code",
   "execution_count": 14,
   "id": "a500c66e-f00d-4ddf-806a-54a438c71c28",
   "metadata": {},
   "outputs": [
    {
     "data": {
      "text/plain": [
       "wordRdd: org.apache.spark.rdd.RDD[String] = MapPartitionsRDD[5] at filter at <console>:28\n",
       "res5: Long = 9952\n"
      ]
     },
     "execution_count": 14,
     "metadata": {},
     "output_type": "execute_result"
    }
   ],
   "source": [
    "val getRdd = textFile.filter (word => word.contains(\"GET\"))\n",
    "getRdd.count() /*Answer to 2B*/"
   ]
  },
  {
   "cell_type": "code",
   "execution_count": 15,
   "id": "ca7ef17b-1c6e-4a61-9bc6-cc4bf9228201",
   "metadata": {},
   "outputs": [
    {
     "data": {
      "text/plain": [
       "postRdd: org.apache.spark.rdd.RDD[String] = MapPartitionsRDD[6] at filter at <console>:26\n",
       "res6: Long = 5\n"
      ]
     },
     "execution_count": 15,
     "metadata": {},
     "output_type": "execute_result"
    }
   ],
   "source": [
    "val postRdd = textFile.filter (word => word.contains(\"POST\"))\n",
    "postRdd.count()"
   ]
  },
  {
   "cell_type": "code",
   "execution_count": 17,
   "id": "e94466f2-a3db-4366-b0a5-afa985083f71",
   "metadata": {},
   "outputs": [
    {
     "data": {
      "text/plain": [
       "errorRdd: org.apache.spark.rdd.RDD[String] = MapPartitionsRDD[8] at filter at <console>:26\n",
       "res8: Long = 216\n"
      ]
     },
     "execution_count": 17,
     "metadata": {},
     "output_type": "execute_result"
    }
   ],
   "source": [
    "val errorRdd = textFile.filter (word => word.contains(\"404\"))\n",
    "errorRdd.count()"
   ]
  },
  {
   "cell_type": "code",
   "execution_count": 18,
   "id": "fb317592-fa99-4427-8927-c524ef4b050e",
   "metadata": {},
   "outputs": [
    {
     "data": {
      "text/plain": [
       "noErrorRdd: org.apache.spark.rdd.RDD[String] = MapPartitionsRDD[9] at filter at <console>:26\n",
       "res9: Long = 9152\n"
      ]
     },
     "execution_count": 18,
     "metadata": {},
     "output_type": "execute_result"
    }
   ],
   "source": [
    "val noErrorRdd = textFile.filter (word => word.contains(\"200\"))\n",
    "noErrorRdd.count()"
   ]
  },
  {
   "cell_type": "code",
   "execution_count": 42,
   "id": "efa12515-8143-4048-9bec-f7b106925577",
   "metadata": {},
   "outputs": [
    {
     "data": {
      "text/plain": [
       "token: org.apache.spark.rdd.RDD[String] = MapPartitionsRDD[26] at map at <console>:28\n",
       "res26: Array[String] = Array(203023, 171717, 26185, 7697, 2892, 430406, 38720, 41820, 52878, 321631, 2126, 394967, 8095, 78075, 25230, 8026, 54662, 34245, 4254, 220562, 1168622, 1079983, 3638, 3638, 18848, 1015, 4877, 3638, 6146, 52315, 12251, 14872, 37932, 12292, 14872, 1015, 4877, 3638, 6146, 40693, 52315, 65748, 9208, 1015, 44019, 4877, 6146, 1015, 9746, 16021, 11418, 37932, 8948, 28370, 14872, 9587, 10975, 1015, 4877, 6146, 52315, 3638, 294, 24142, 14888, 24747, 16021, 1370, 17147, 1015, 6146, 4877, 52315, 3638, 12908, 14872, -, -, 14352, 29941, 12292, 1015, 4877, 6146, 52315, -, 29941, 11388, 171717, 10185, 10975, 9872, 9316, 10756, 202, 11834, 8956, 12292, 1015, 4877, 3638, 6146, 52315, 23099, 32...\n"
      ]
     },
     "execution_count": 42,
     "metadata": {},
     "output_type": "execute_result"
    }
   ],
   "source": [
    "val token = textFile.map(line => line.split(\" \")(9))\n",
    "token.collect()\n",
    "\n",
    "\n"
   ]
  },
  {
   "cell_type": "code",
   "execution_count": 46,
   "id": "e52aa666-9ff4-41cb-bc43-75681ee1711e",
   "metadata": {},
   "outputs": [
    {
     "ename": "<console>",
     "evalue": "2: error: identifier expected but double literal found.",
     "output_type": "error",
     "traceback": [
      "<console>:2: error: identifier expected but double literal found.",
      "       val element = token.filter(element => element:Float/100.0 > 100)",
      "                                                           ^",
      ""
     ]
    }
   ],
   "source": [
    "val element = token.filter(element => element:Float/100.0 > 100)\n",
    "element.collect()"
   ]
  },
  {
   "cell_type": "code",
   "execution_count": null,
   "id": "b3be6a6d-8735-4eec-96e6-837a39e0435a",
   "metadata": {},
   "outputs": [],
   "source": []
  }
 ],
 "metadata": {
  "kernelspec": {
   "display_name": "spylon-kernel",
   "language": "scala",
   "name": "spylon-kernel"
  },
  "language_info": {
   "codemirror_mode": "text/x-scala",
   "file_extension": ".scala",
   "help_links": [
    {
     "text": "MetaKernel Magics",
     "url": "https://metakernel.readthedocs.io/en/latest/source/README.html"
    }
   ],
   "mimetype": "text/x-scala",
   "name": "scala",
   "pygments_lexer": "scala",
   "version": "0.4.1"
  }
 },
 "nbformat": 4,
 "nbformat_minor": 5
}
